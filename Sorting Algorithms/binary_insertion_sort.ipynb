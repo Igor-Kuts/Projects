{
 "cells": [
  {
   "cell_type": "markdown",
   "id": "4d80744f-571b-4e8b-ac73-4f4eb9ccb605",
   "metadata": {},
   "source": [
    "# Binary Insertion Sort\n",
    "\n",
    "## Overview:\n",
    "Both Insertion Sort and Binary Insertion Sort are comparison-based sorting algorithms that work by dividing the list into a sorted and an unsorted portion. They iteratively place each element from the unsorted portion into its correct position in the sorted portion, thus gradually building a sorted list.  \n",
    "\n",
    "- Binary Insertion Sort is an optimization of Insertion Sort that uses a <u>binary search</u> to find the correct position for each element.\n",
    "\n",
    "## Applications:\n",
    "Insertion Sort and Binary Insertion Sort are not typically used for large datasets due to their time complexity. However, they have some advantages for smaller datasets or partially sorted lists. For example, Insertion Sort performs well when the input array is already partially sorted or nearly sorted, as it has a linear time complexity in such cases.\n",
    "\n",
    "## Time Complexity:\n",
    "- Insertion Sort has an average and worst-case time complexity of <font color=\"red\" size=\"2\"><b>O(n^2)</b></font>, where n is the number of elements in the list. \n",
    "    - In the best-case scenario, when the list is already sorted, it has a time complexity of <font color=\"green\" size=\"2\"><b>O(n)</b></font>.\n",
    "- Binary Insertion Sort has the same average and worst-case time complexity as Insertion Sort, which is <font color=\"red\" size=\"2\"><b>O(n^2)</b></font>. However, it reduces the number of comparisons by using a binary search for finding the correct insertion position.\n",
    "\n",
    "## Implementation Algorithm (Binary Insertion Sort):\n",
    "1. Start with the second element (i = 1) and compare it with the previous elements.\n",
    "2. Use a binary search to find the correct insertion position in the sorted subarray.\n",
    "3. Shift the elements from the insertion position to the right.\n",
    "4. Insert the current element into the correct position.\n",
    "5. Repeat steps 1-4 for the remaining elements until the entire list is sorted.\n",
    "\n",
    "## Trivia:\n",
    "- Insertion Sort and Binary Insertion Sort are both <font color=\"green\" size=\"2\"><b>stable</b></font> sorting algorithms, meaning that the relative order of equal elements is preserved during the sorting process.\n",
    "- Insertion Sort is an <font color=\"green\" size=\"2\"><b>in-place</b></font> sorting algorithm, as <u>it does not require additional memory beyond the input array itself</u>.\n",
    "- Binary Insertion Sort also operates <font color=\"green\" size=\"2\"><b>in-place</b></font>, but the binary search step requires additional recursive calls or a loop to perform the search.\n",
    "\n",
    "## Pros and Cons:\n",
    "#### Insertion Sort\n",
    "Pros:\n",
    "- Simplicity: It is straightforward to understand and implement.\n",
    "- Efficient for small datasets or partially sorted lists.\n",
    "\n",
    "Cons:\n",
    "- Inefficiency: It has a time complexity of O(n^2), which makes it inefficient for large datasets.\n",
    "- Lack of scalability: It does not perform well when the input size increases significantly.\n",
    "#### Binary Insertion Sort\n",
    "Pros (over Insertion Sort):\n",
    "- Reduced comparisons: Binary search reduces the number of comparisons needed to find the insertion position.\n",
    "- Improved efficiency: It can be more efficient than the standard Insertion Sort for larger datasets.\n",
    "\n",
    "Cons:\n",
    "- Additional complexity: The binary search step adds complexity to the implementation compared to the standard Insertion Sort.\n",
    "- Same worst-case time complexity: Binary Insertion Sort still has the same worst-case time complexity as Insertion Sort, making it inefficient for large datasets.\n",
    "\n",
    "Overall, while Insertion Sort is a simple and intuitive algorithm, it is not the most efficient choice for large datasets. Binary Insertion Sort provides a slight optimization by reducing comparisons, but it does not significantly change the overall time complexity."
   ]
  },
  {
   "cell_type": "code",
   "execution_count": 20,
   "id": "7326ac4d-5ff4-405c-a3d6-b191b49d803e",
   "metadata": {
    "tags": []
   },
   "outputs": [],
   "source": [
    "def binary_search(arr, key, low, high):\n",
    "    \"\"\"\n",
    "    Perform binary search to find the correct insertion position for the key.\n",
    "\n",
    "    Args:\n",
    "        arr (list): The sorted list to search in.\n",
    "        key: The element to be inserted.\n",
    "        low (int): The lower bound of the search range.\n",
    "        high (int): The upper bound of the search range.\n",
    "\n",
    "    Returns:\n",
    "        int: The insertion position for the key in the sorted list.\n",
    "    \"\"\"\n",
    "    while low <= high:\n",
    "        mid = (low + high) // 2\n",
    "        if arr[mid] < key:\n",
    "            low = mid + 1\n",
    "        else:\n",
    "            high = mid - 1\n",
    "    return low\n",
    "\n",
    "def binary_insertion_sort(arr):\n",
    "    \"\"\"\n",
    "    Sort the given list using Binary Insertion Sort algorithm.\n",
    "\n",
    "    Args:\n",
    "        arr (list): The list to be sorted.\n",
    "\n",
    "    Returns:\n",
    "        None: The list is sorted in-place.\n",
    "    \"\"\"\n",
    "    for i in range(1, len(arr)):\n",
    "        key = arr[i]\n",
    "        j = i - 1\n",
    "        insertion_pos = binary_search(arr, key, 0, j)\n",
    "        while j >= insertion_pos:\n",
    "            arr[j + 1] = arr[j]\n",
    "            j -= 1\n",
    "        arr[insertion_pos] = key"
   ]
  },
  {
   "cell_type": "markdown",
   "id": "59e358af-c9b2-433b-99af-9ca698deb28a",
   "metadata": {},
   "source": [
    "# Example usage"
   ]
  },
  {
   "cell_type": "code",
   "execution_count": 25,
   "id": "0b042b4e-7ca4-4617-9e42-8dbb07f88e9b",
   "metadata": {
    "tags": []
   },
   "outputs": [],
   "source": [
    "import random\n",
    "arr_big = [random.randint(0,10000) for _ in range(10**4)]"
   ]
  },
  {
   "cell_type": "code",
   "execution_count": 26,
   "id": "62f797a7-4803-499c-ab46-b93cc654ec65",
   "metadata": {
    "tags": []
   },
   "outputs": [
    {
     "name": "stdout",
     "output_type": "stream",
     "text": [
      "[1, 2, 6, 7, 8, 10, 11, 11, 16, 17, 17, 18, 18, 19, 19, 20, 21, 22, 22, 23, 24, 27, 27, 27, 27, 27, 28, 29, 30, 30, 31, 31, 32, 33, 34, 34, 35, 36, 38, 39, 40, 41, 42, 43, 43, 44, 45, 45, 46, 47, 48, 48, 50, 51, 54, 54, 54, 60, 61, 63, 63, 65, 66, 66, 67, 67, 67, 68, 69, 70, 70, 71, 73, 73, 75, 75, 75, 76, 77, 78, 84, 85, 86, 86, 87, 89, 90, 90, 91, 91, 93, 93, 93, 94, 94, 95, 97, 98, 100, 101]\n",
      "CPU times: user 963 ms, sys: 0 ns, total: 963 ms\n",
      "Wall time: 962 ms\n"
     ]
    }
   ],
   "source": [
    "%%time\n",
    "binary_insertion_sort(arr_big)\n",
    "print(arr_big[:100])"
   ]
  }
 ],
 "metadata": {
  "kernelspec": {
   "display_name": "Python 3 (ipykernel)",
   "language": "python",
   "name": "python3"
  },
  "language_info": {
   "codemirror_mode": {
    "name": "ipython",
    "version": 3
   },
   "file_extension": ".py",
   "mimetype": "text/x-python",
   "name": "python",
   "nbconvert_exporter": "python",
   "pygments_lexer": "ipython3",
   "version": "3.9.16"
  }
 },
 "nbformat": 4,
 "nbformat_minor": 5
}
