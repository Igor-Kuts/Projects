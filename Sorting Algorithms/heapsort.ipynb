{
 "cells": [
  {
   "cell_type": "markdown",
   "id": "8d4b6d08-c888-4fa0-9528-39e0af1a95f1",
   "metadata": {},
   "source": [
    "# Heap Sort\n",
    "**Heap Sort** is a comparison-based sorting algorithm that utilizes the concept of a binary heap data structure. \n",
    "\n",
    "It works by first building a max-heap or min-heap from the input data, and then repeatedly extracting the root element of the heap (which will be the maximum or minimum value depending on the type of heap) and placing it at the end of the sorted array. The remaining elements are then heapified to maintain the heap property, and the process is repeated until all elements are sorted.\n",
    "\n",
    "- Heap Sort <font color=\"orange\" size=\"3\">is not a stable</font> sorting algorithm, which means that <u>elements with equal values may change their relative order in the sorted output</u>.\n",
    "- The Heap Sort algorithm is an **in-place sorting algorithm**, which means it operates directly on the input array without requiring additional space.\n",
    "\n",
    "#### History:\n",
    "\n",
    "Heap Sort was introduced by J.W.J. Williams in 1964. It was later refined by Robert W. Floyd and J. Donald B. Hoare in 1965, who made it more efficient and popularized its usage.\n",
    "\n",
    "#### Time Complexity:\n",
    "\n",
    "The time complexity of Heap Sort is <font color=\"green\" size=\"3\">O(n log n)</font> in both the average and worst cases. \n",
    "\n",
    "This complexity arises from building the heap, which takes O(n) time, and performing the heapify operation during the sorting phase, which takes O(log n) time for each element. The overall complexity is dominated by the sorting phase.\n",
    "\n",
    "#### Implementation Algorithm:\n",
    "The implementation algorithm for Heap Sort typically involves the following steps:\n",
    "- Build a max-heap or min-heap from the input array.\n",
    "- Swap the root element (maximum or minimum) with the last element in the heap and reduce the heap size.\n",
    "- Heapify the updated heap to maintain the heap property.\n",
    "- Repeat the above two steps until the heap size is 1.\n",
    "- The sorted array is obtained by extracting elements from the heap in reverse order.\n",
    "\n",
    "These steps ensure that the largest (or smallest) element is gradually moved to the end of the array, resulting in a sorted output."
   ]
  },
  {
   "cell_type": "code",
   "execution_count": 1,
   "id": "9c8e5aa3-7b1f-4c5f-a6e8-3d2da2e02f69",
   "metadata": {
    "tags": []
   },
   "outputs": [],
   "source": [
    "def heapsort(data):\n",
    "    \"\"\"\n",
    "    Sorts the given list of data using the heapsort algorithm.\n",
    "\n",
    "    Parameters:\n",
    "    - data (list): The list of elements to be sorted.\n",
    "\n",
    "    Returns:\n",
    "    - sorted_data (list): The sorted list of elements.\n",
    "    \"\"\"\n",
    "\n",
    "    def swap(data, i, j):\n",
    "        \"\"\"\n",
    "        Swaps the elements at the given indices in the data list.\n",
    "\n",
    "        Parameters:\n",
    "        - data (list): The list of elements.\n",
    "        - i (int): The index of the first element.\n",
    "        - j (int): The index of the second element.\n",
    "\n",
    "        Returns:\n",
    "        None\n",
    "        \"\"\"\n",
    "        data[i], data[j] = data[j], data[i]\n",
    "\n",
    "    def build_max_heap(data):\n",
    "        \"\"\"\n",
    "        Builds a max heap from the given data list.\n",
    "\n",
    "        Parameters:\n",
    "        - data (list): The list of elements.\n",
    "\n",
    "        Returns:\n",
    "        None\n",
    "        \"\"\"\n",
    "        num_elements = len(data)\n",
    "        for i in range(num_elements // 2, -1, -1):\n",
    "            heapify(data, num_elements, i)\n",
    "\n",
    "    def heapify(data, num_elements, index):\n",
    "        \"\"\"\n",
    "        Performs heapify operation on the data list at the given index.\n",
    "\n",
    "        Parameters:\n",
    "        - data (list): The list of elements.\n",
    "        - num_elements (int): The number of elements in the heap.\n",
    "        - index (int): The index to perform heapify operation.\n",
    "\n",
    "        Returns:\n",
    "        None\n",
    "        \"\"\"\n",
    "        largest_index = index\n",
    "        left_child_index = 2 * index + 1\n",
    "        right_child_index = 2 * index + 2\n",
    "\n",
    "        if left_child_index < num_elements and data[left_child_index] > data[largest_index]:\n",
    "            largest_index = left_child_index\n",
    "\n",
    "        if right_child_index < num_elements and data[right_child_index] > data[largest_index]:\n",
    "            largest_index = right_child_index\n",
    "\n",
    "        if largest_index != index:\n",
    "            swap(data, index, largest_index)\n",
    "            heapify(data, num_elements, largest_index)\n",
    "\n",
    "    num_elements = len(data)\n",
    "    build_max_heap(data)\n",
    "    for i in range(num_elements - 1, 0, -1):\n",
    "        swap(data, 0, i)\n",
    "        heapify(data, i, 0)\n",
    "\n",
    "    return data\n"
   ]
  },
  {
   "cell_type": "markdown",
   "id": "a189e889-7d95-4ce0-8fbf-207439f241c9",
   "metadata": {},
   "source": [
    "# Example usage"
   ]
  },
  {
   "cell_type": "code",
   "execution_count": 2,
   "id": "9d6e05f6-94f8-43d0-b27d-616416464dab",
   "metadata": {
    "tags": []
   },
   "outputs": [
    {
     "name": "stdout",
     "output_type": "stream",
     "text": [
      "[0, 1, 2, 3, 4, 4, 5, 7, 8, 9, 9, 13, 14, 14, 15, 15, 17, 17, 18, 18, 18, 19, 19, 20, 22, 23, 24, 24, 26, 26, 26, 28, 28, 29, 31, 31, 33, 33, 34, 35, 35, 36, 37, 37, 38, 39, 40, 40, 42, 42, 42, 49, 49, 51, 53, 55, 56, 56, 58, 58, 58, 59, 60, 61, 61, 63, 64, 65, 66, 66, 68, 70, 72, 72, 73, 74, 75, 75, 75, 76, 80, 83, 85, 86, 86, 87, 87, 88, 89, 90, 90, 91, 92, 92, 94, 94, 97, 97, 99, 99]\n"
     ]
    }
   ],
   "source": [
    "import random\n",
    "\n",
    "data = [random.randint(0,99) for _ in range(100)]\n",
    "sorted_data = heapsort(data)\n",
    "print(sorted_data)"
   ]
  }
 ],
 "metadata": {
  "kernelspec": {
   "display_name": "Python 3 (ipykernel)",
   "language": "python",
   "name": "python3"
  },
  "language_info": {
   "codemirror_mode": {
    "name": "ipython",
    "version": 3
   },
   "file_extension": ".py",
   "mimetype": "text/x-python",
   "name": "python",
   "nbconvert_exporter": "python",
   "pygments_lexer": "ipython3",
   "version": "3.9.16"
  }
 },
 "nbformat": 4,
 "nbformat_minor": 5
}
