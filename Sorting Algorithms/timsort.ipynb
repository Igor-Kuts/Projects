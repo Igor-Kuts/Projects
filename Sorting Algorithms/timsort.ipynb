{
 "cells": [
  {
   "cell_type": "markdown",
   "id": "73671844-9341-468d-baa9-5324b5f6f3c7",
   "metadata": {},
   "source": [
    "## TimSort\n",
    "\n",
    "### Overview\n",
    "TimSort is a hybrid <font color=\"orange\" size=\"2\"><b>stable</b></font> sorting algorithm that combines Insertion Sort and Merge Sort techniques. It was designed to perform well on many kinds of real-world data, including data with natural ordering and partially ordered data. TimSort is widely used in various programming languages, including Python and Java, as the default sorting algorithm for arrays or lists.\n",
    "\n",
    "### History\n",
    "TimSort was introduced by Tim Peters in 2002 for use in Python. It was inspired by the combination of Insertion Sort and Merge Sort used in Java's `Arrays.sort()`. TimSort was specifically developed to address performance issues in sorting complex data in Python's standard library.\n",
    "\n",
    "### Implementation\n",
    "The implementation of TimSort involves dividing the input array into small sorted subarrays, known as \"runs,\" and then merging these runs to create larger sorted subarrays. The process includes the following steps:\n",
    "\n",
    "1. **Identifying Runs**: The array is traversed to identify \"runs\" of elements that are already in non-decreasing order. These runs can be either ascending or descending.\n",
    "\n",
    "2. **Merging Runs**: The identified runs are merged using the merge operation, similar to Merge Sort, to create larger sorted subarrays. The merge operation combines two sorted arrays into one sorted array.\n",
    "\n",
    "3. **Run Length Adjustment**: The length of the runs is adjusted to ensure they meet certain criteria, balancing efficiency and memory usage.\n",
    "\n",
    "4. **Insertion Sort Optimization**: For small runs (smaller than a specified minimum run size), an optimized version of Insertion Sort is used for sorting.\n",
    "\n",
    "5. **Iterative Process**: The process of identifying runs, merging them, and adjusting run lengths is performed iteratively until the entire array is sorted.\n",
    "\n",
    "### Time Complexity\n",
    "The time complexity of TimSort is <font color=\"green\" size=\"2\"><b>O(n log n)</b></font> in the worst case and on average, where n is the size of the input array. This complexity arises from the merging process and the number of comparisons and data movements performed during the sorting process.  \n",
    "TimSort has good performance characteristics for real-world data and often outperforms other comparison-based sorting algorithms, especially when dealing with partially ordered or pre-sorted data.\n",
    "\n",
    "### Trivia\n",
    "- TimSort is widely recognized for its stability, which means that elements with equal keys maintain their relative order after sorting.\n",
    "- TimSort is the default sorting algorithm used in Python's `sorted()` function and the `sort()` method of lists.\n",
    "- The name \"TimSort\" is derived from the name of its creator, Tim Peters, who is also known for his contributions to the Python community.\n"
   ]
  },
  {
   "cell_type": "code",
   "execution_count": 31,
   "id": "614021fa-2e71-4c04-89c2-21d0783e486f",
   "metadata": {
    "tags": []
   },
   "outputs": [],
   "source": [
    "def insertion_sort(arr, left=0, right=None):\n",
    "    \"\"\"\n",
    "    Perform insertion sort on the given array within the specified range.\n",
    "\n",
    "    Args:\n",
    "        arr (list): The array to be sorted.\n",
    "        left (int): The starting index of the range to be sorted.\n",
    "        right (int): The ending index of the range to be sorted.\n",
    "\n",
    "    Returns:\n",
    "        list: The sorted array within the specified range.\n",
    "    \"\"\"\n",
    "    if right is None:\n",
    "        right = len(arr) - 1\n",
    "\n",
    "    for i in range(left + 1, right + 1):\n",
    "        key_item = arr[i]\n",
    "        j = i - 1\n",
    "\n",
    "        while j >= left and arr[j] > key_item:\n",
    "            arr[j + 1] = arr[j]\n",
    "            j -= 1\n",
    "\n",
    "        arr[j + 1] = key_item\n",
    "\n",
    "    return arr\n",
    "\n",
    "\n",
    "def merge(left, right):\n",
    "    \"\"\"\n",
    "    Merge two sorted lists into a single sorted list.\n",
    "\n",
    "    Args:\n",
    "        left (list): The left sorted list.\n",
    "        right (list): The right sorted list.\n",
    "\n",
    "    Returns:\n",
    "        list: The merged and sorted list.\n",
    "    \"\"\"\n",
    "    if not left:\n",
    "        return right\n",
    "\n",
    "    if not right:\n",
    "        return left\n",
    "\n",
    "    merged = []\n",
    "    i, j = 0, 0\n",
    "\n",
    "    while i < len(left) and j < len(right):\n",
    "        if left[i] < right[j]:\n",
    "            merged.append(left[i])\n",
    "            i += 1\n",
    "        else:\n",
    "            merged.append(right[j])\n",
    "            j += 1\n",
    "\n",
    "    merged.extend(left[i:])\n",
    "    merged.extend(right[j:])\n",
    "\n",
    "    return merged\n",
    "\n",
    "\n",
    "def timsort(arr):\n",
    "    \"\"\"\n",
    "    Sort the given array using TimSort algorithm.\n",
    "\n",
    "    Args:\n",
    "        arr (list): The array to be sorted.\n",
    "\n",
    "    Returns:\n",
    "        list: The sorted array.\n",
    "    \"\"\"\n",
    "    min_run = 32\n",
    "    n = len(arr)\n",
    "\n",
    "    for i in range(0, n, min_run):\n",
    "        insertion_sort(arr, i, min((i + min_run - 1), n - 1))\n",
    "\n",
    "    size = min_run\n",
    "    while size < n:\n",
    "        for start in range(0, n, size * 2):\n",
    "            midpoint = start + size - 1\n",
    "            end = min((start + size * 2 - 1), (n - 1))\n",
    "            merged_array = merge(\n",
    "                left=arr[start:midpoint + 1],\n",
    "                right=arr[midpoint + 1:end + 1]\n",
    "            )\n",
    "            arr[start:start + len(merged_array)] = merged_array\n",
    "\n",
    "        size *= 2\n",
    "\n",
    "    return arr"
   ]
  },
  {
   "cell_type": "markdown",
   "id": "7671fd2c-5610-4a94-a621-a24b795bd63c",
   "metadata": {},
   "source": [
    "# Example Usage"
   ]
  },
  {
   "cell_type": "code",
   "execution_count": 34,
   "id": "df6b1a4f-d85d-4d27-af87-fbd5158eb26f",
   "metadata": {
    "tags": []
   },
   "outputs": [],
   "source": [
    "import random\n",
    "\n",
    "data = [random.randint(0, 1000) for _ in range(1000)]"
   ]
  },
  {
   "cell_type": "code",
   "execution_count": 35,
   "id": "bd017397-06c4-4bac-9db2-7301b24aae19",
   "metadata": {
    "tags": []
   },
   "outputs": [
    {
     "name": "stdout",
     "output_type": "stream",
     "text": [
      "[1, 1, 2, 3, 5, 6, 6, 8, 9, 10, 13, 13, 14, 15, 17, 19, 19, 20, 23, 24, 25, 29, 30, 31, 31, 32, 35, 35, 35, 36, 38, 40, 40, 40, 41, 41, 42, 43, 44, 44, 45, 47, 47, 48, 50, 50, 50, 50, 51, 51, 54, 56, 56, 57, 58, 59, 60, 61, 62, 62, 63, 64, 67, 69, 71, 72, 73, 73, 73, 76, 77, 77, 77, 85, 86, 86, 86, 87, 87, 88, 91, 91, 93, 93, 94, 95, 99, 99, 100, 101, 103, 104, 105, 105, 105, 107, 111, 111, 112, 113]\n"
     ]
    }
   ],
   "source": [
    "sorted_data = timsort(data)\n",
    "print(sorted_data[:100])"
   ]
  }
 ],
 "metadata": {
  "kernelspec": {
   "display_name": "Python 3 (ipykernel)",
   "language": "python",
   "name": "python3"
  },
  "language_info": {
   "codemirror_mode": {
    "name": "ipython",
    "version": 3
   },
   "file_extension": ".py",
   "mimetype": "text/x-python",
   "name": "python",
   "nbconvert_exporter": "python",
   "pygments_lexer": "ipython3",
   "version": "3.9.16"
  }
 },
 "nbformat": 4,
 "nbformat_minor": 5
}
