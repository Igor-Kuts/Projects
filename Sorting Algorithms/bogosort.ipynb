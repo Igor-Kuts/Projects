{
 "cells": [
  {
   "cell_type": "markdown",
   "id": "ee92e9e2-7cdc-4556-a800-e6c06819437b",
   "metadata": {},
   "source": [
    "# Bogosort sorting algorithm.\n",
    "\n",
    "**Bogosort**, also known as \"stupid sort\" or \"shotgun sort,\" is a highly inefficient and unreliable sorting algorithm.   \n",
    "It is not commonly used in practice but *is often used as an example of a bad sorting algorithm* due to its poor performance.\n",
    "\n",
    "Due to its inefficiency and lack of reliability, Bogosort is considered more of a joke or a recreational algorithm rather than a practical sorting algorithm.   \n",
    "It serves as a cautionary example of what can go wrong when designing sorting algorithms and highlights the importance of efficiency and reliability in real-world sorting tasks.\n",
    "\n",
    "#### Algorithm:\n",
    "\n",
    "The basic idea behind Bogosort is simple:\n",
    "\n",
    "1. **Randomization**: Start by shuffling the elements of the input list randomly. This step essentially creates a random permutation of the elements.\n",
    "2. **Check if sorted**: After each shuffling step, check if the elements are in sorted order. If the list is sorted, the algorithm terminates. Otherwise, proceed to the next step.\n",
    "3. **Repeat**: If the list is not sorted, repeat the randomization step and check again if the elements are in sorted order. Continue this process until the list happens to be sorted.\n",
    "\n",
    "The main problem with Bogosort is that it relies on random chance to sort the elements.   \n",
    "Since the shuffling is done randomly, **there is no guarantee of progress toward sorting the list**. In the worst case, the algorithm may take an extremely long time to produce the correct sorted order, making it highly inefficient.\n",
    "\n",
    "#### Time complexity:\n",
    "\n",
    "Bogosort has an average-case time complexity of <font color=\"fc3426\" size=\"2\"><b>O((n + 1)!)</b></font>, where n is the number of elements in the list.   \n",
    "This means that the time taken by the algorithm grows factorially with the size of the input, **making it practically unusable for any non-trivial list**."
   ]
  },
  {
   "cell_type": "code",
   "execution_count": 1,
   "id": "22411cc8-bf33-4278-aebd-19d166740a2b",
   "metadata": {
    "tags": []
   },
   "outputs": [],
   "source": [
    "import random\n",
    "\n",
    "def is_sorted(values):\n",
    "    # Check if the given list is sorted\n",
    "    return all(values[i] <= values[i+1] for i in range(len(values)-1))\n",
    "\n",
    "def bogo_sort(values):\n",
    "    # Shuffle the list until it is sorted\n",
    "    while not is_sorted(values):\n",
    "        random.shuffle(values)"
   ]
  },
  {
   "cell_type": "code",
   "execution_count": 2,
   "id": "38167e65-7ac0-4fdd-9d9c-5368e194cec2",
   "metadata": {
    "tags": []
   },
   "outputs": [
    {
     "name": "stdout",
     "output_type": "stream",
     "text": [
      "Unsorted data: [4, 2, 7, 1, 5]\n",
      "Sorted data: [1, 2, 4, 5, 7]\n"
     ]
    }
   ],
   "source": [
    "# Example usage on a list with 5 elements\n",
    "values = [4, 2, 7, 1, 5]\n",
    "print(\"Unsorted data:\", values)\n",
    "\n",
    "bogo_sort(values)\n",
    "print(\"Sorted data:\", values)"
   ]
  },
  {
   "cell_type": "code",
   "execution_count": 3,
   "id": "926f34c2-768f-4501-bd7a-5af86e8dee9b",
   "metadata": {
    "tags": []
   },
   "outputs": [
    {
     "name": "stdout",
     "output_type": "stream",
     "text": [
      "Unsorted data: [4, 2, 7, 1, 5, 13, 8, 0, 21, 10]\n",
      "Sorted data: [0, 1, 2, 4, 5, 7, 8, 10, 13, 21]\n",
      "CPU times: user 7.82 s, sys: 16.5 ms, total: 7.84 s\n",
      "Wall time: 7.84 s\n"
     ]
    }
   ],
   "source": [
    "%%time\n",
    "# Example usage on a list with 10 elements\n",
    "values = [4, 2, 7, 1, 5, 13, 8, 0, 21, 10]\n",
    "print(\"Unsorted data:\", values)\n",
    "\n",
    "bogo_sort(values)\n",
    "print(\"Sorted data:\", values)"
   ]
  },
  {
   "cell_type": "markdown",
   "id": "c72cd88e-8817-4ab8-bfd4-5b22016d1d61",
   "metadata": {},
   "source": [
    "Sorting an array of 10 elements took bogosort whole 7 seconds, which is fantastically bad."
   ]
  }
 ],
 "metadata": {
  "kernelspec": {
   "display_name": "Python 3 (ipykernel)",
   "language": "python",
   "name": "python3"
  },
  "language_info": {
   "codemirror_mode": {
    "name": "ipython",
    "version": 3
   },
   "file_extension": ".py",
   "mimetype": "text/x-python",
   "name": "python",
   "nbconvert_exporter": "python",
   "pygments_lexer": "ipython3",
   "version": "3.9.16"
  }
 },
 "nbformat": 4,
 "nbformat_minor": 5
}
