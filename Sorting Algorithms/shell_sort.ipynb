{
 "cells": [
  {
   "attachments": {},
   "cell_type": "markdown",
   "id": "263fe20b-bf6e-4c54-b800-31a12aba4124",
   "metadata": {},
   "source": [
    "# Shell Sort\n",
    "\n",
    "#### Overview:\n",
    "Shell Sort is an in-place comparison-based sorting algorithm. It is an extension of the Insertion Sort algorithm that aims to improve its performance by sorting elements that are far apart before sorting nearby elements. The algorithm works by repeatedly sorting subarrays of elements at a specific gap size and gradually reducing the gap until it reaches 1, at which point it performs a final pass using the Insertion Sort algorithm.\n",
    "\n",
    "#### History:\n",
    "The Shell Sort algorithm was introduced by Donald Shell in 1959 as a variation of the Insertion Sort algorithm. <u>It was one of the first algorithms to break the quadratic time complexity of simple comparison sorts like Insertion Sort</u>.\n",
    "\n",
    "#### Applications:\n",
    "Shell Sort is not commonly used in practice compared to other sorting algorithms like Quicksort or Merge Sort. However, it can still be useful for small-to-medium-sized arrays or in scenarios where the data is nearly sorted or partially sorted. Its simplicity and efficiency for small datasets make it a reasonable choice when other complex algorithms might not be worth the additional overhead.\n",
    "\n",
    "#### Time complexity:\n",
    "The time complexity of the Shell Sort algorithm depends on the gap sequence used. The \"half\" gap sequence, as shown in the implementation example, has a time complexity of <font color=\"red\" size=\"2\"><b>O(n^2)</b></font> in the worst case. However, other gap sequences, such as the *Pratt sequence* or the *Hibbard sequence*, can improve the average-case time complexity to O(n log n) or even better.\n",
    "\n",
    "#### Implementation algorithm:\n",
    "1. Start with a given array of elements.\n",
    "2. Choose a gap size (usually n // 2) to divide the array into subarrays.\n",
    "3. Perform insertion sort on each subarray independently.\n",
    "4. Reduce the gap size (usually by half) and repeat steps 2 and 3 until the gap size reaches 1.\n",
    "5. Perform a final pass using the Insertion Sort algorithm to ensure the array is completely sorted."
   ]
  },
  {
   "cell_type": "code",
   "execution_count": 1,
   "id": "c1ac4b33-ab35-45a4-b094-edbfd8110662",
   "metadata": {
    "tags": []
   },
   "outputs": [],
   "source": [
    "def shell_sort(arr):\n",
    "    \"\"\"\n",
    "    Sorts the given array using the Shell Sort algorithm.\n",
    "\n",
    "    Args:\n",
    "        arr (list): The unsorted array to be sorted.\n",
    "\n",
    "    Returns:\n",
    "        list: The sorted array.\n",
    "    \"\"\"\n",
    "    n = len(arr)\n",
    "    gap = n // 2\n",
    "\n",
    "    while gap > 0:\n",
    "        for i in range(gap, n):\n",
    "            temp = arr[i]\n",
    "            j = i\n",
    "            while j >= gap and arr[j - gap] > temp:\n",
    "                arr[j] = arr[j - gap]\n",
    "                j -= gap\n",
    "            arr[j] = temp\n",
    "        gap //= 2\n",
    "\n",
    "    return arr"
   ]
  },
  {
   "cell_type": "markdown",
   "id": "2bb95a24-07f6-4a51-b361-f1e11826ae5b",
   "metadata": {},
   "source": [
    "#### Example usage"
   ]
  },
  {
   "cell_type": "code",
   "execution_count": 2,
   "id": "aec32ef8-679f-4fd1-a251-bf8bdca71eb1",
   "metadata": {
    "tags": []
   },
   "outputs": [],
   "source": [
    "import random\n",
    "arr_big = [random.randint(0,10000) for _ in range(10**4)]"
   ]
  },
  {
   "cell_type": "code",
   "execution_count": 3,
   "id": "00eecfd0-e0cf-47e0-95f6-023379f00c46",
   "metadata": {
    "tags": []
   },
   "outputs": [
    {
     "name": "stdout",
     "output_type": "stream",
     "text": [
      "[4, 4, 5, 5, 10, 11, 12, 13, 15, 15, 15, 16, 18, 20, 22, 23, 24, 24, 24, 25, 26, 27, 28, 28, 31, 33, 33, 33, 34, 34, 34, 36, 39, 40, 40, 41, 42, 43, 43, 44, 45, 45, 48, 49, 50, 50, 51, 52, 54, 54, 55, 55, 60, 61, 63, 67, 68, 68, 68, 70, 70, 73, 73, 75, 76, 76, 76, 78, 78, 79, 79, 80, 80, 82, 82, 83, 84, 86, 89, 91, 92, 92, 93, 93, 94, 96, 96, 97, 97, 98, 100, 100, 101, 101, 102, 103, 103, 103, 104, 106]\n",
      "CPU times: user 15.1 ms, sys: 742 µs, total: 15.8 ms\n",
      "Wall time: 15.7 ms\n"
     ]
    }
   ],
   "source": [
    "%%time\n",
    "shell_sort(arr_big)\n",
    "print(arr_big[:100])"
   ]
  }
 ],
 "metadata": {
  "kernelspec": {
   "display_name": "Python 3 (ipykernel)",
   "language": "python",
   "name": "python3"
  },
  "language_info": {
   "codemirror_mode": {
    "name": "ipython",
    "version": 3
   },
   "file_extension": ".py",
   "mimetype": "text/x-python",
   "name": "python",
   "nbconvert_exporter": "python",
   "pygments_lexer": "ipython3",
   "version": "3.9.16"
  }
 },
 "nbformat": 4,
 "nbformat_minor": 5
}
