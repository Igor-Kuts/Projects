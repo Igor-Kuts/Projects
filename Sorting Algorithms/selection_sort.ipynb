{
 "cells": [
  {
   "cell_type": "markdown",
   "id": "0e9dd361-920c-4fd7-813f-114efe0b7f8b",
   "metadata": {
    "tags": []
   },
   "source": [
    "# Selection sort\n",
    "\n",
    "Selection sort is a simple and intuitive comparison-based sorting algorithm.   \n",
    "It works by dividing the input list into two parts: a sorted portion and an unsorted portion.   \n",
    "The algorithm repeatedly selects the smallest (or largest) element from the unsorted portion and moves it to the end of the sorted portion.   \n",
    "This process is repeated until the entire list is sorted.\n",
    "\n",
    "#### Algorithm:\n",
    "\n",
    "1. Start with an unsorted list of elements.\n",
    "2. Set the initial value of the sorted portion to be empty.\n",
    "3. Find the minimum (or maximum) element from the unsorted portion of the list.\n",
    "4. Swap the found minimum (or maximum) element with the first element of the unsorted portion.\n",
    "5. Move the boundary of the sorted portion one element to the right.\n",
    "6. Repeat steps 3 to 5 until the entire list is sorted.\n",
    "\n",
    "#### Time complexity:\n",
    "\n",
    "Selection sort has a time complexity of <font color=\"orange\" size=\"2\"><b>O(n^2)</b></font>, where n is the number of elements in the list.   \n",
    "\n",
    "Selection sort is an in-place sorting algorithm, meaning it operates directly on the input list without requiring additional memory."
   ]
  },
  {
   "cell_type": "code",
   "execution_count": 1,
   "id": "9c308cd9-2b70-4251-bb63-1e19b5d00176",
   "metadata": {
    "tags": []
   },
   "outputs": [],
   "source": [
    "def selection_sort(values):\n",
    "    sorted_list = []  # Initialize an empty list for the sorted values\n",
    "    \n",
    "    for i in range (len(values)):\n",
    "        index_to_move = values.index(min(values))  # Find the index of the minimum value\n",
    "        sorted_list.append(values.pop(index_to_move))  # Remove the minimum value from the list and add it to the sorted list\n",
    "        \n",
    "    return sorted_list  # Return the sorted list"
   ]
  },
  {
   "cell_type": "code",
   "execution_count": 2,
   "id": "9201a6ca-f4fc-43ac-8bf5-c0d9a9ced01c",
   "metadata": {
    "tags": []
   },
   "outputs": [
    {
     "name": "stdout",
     "output_type": "stream",
     "text": [
      "First 30 elements of sorted list: [0, 0, 0, 2, 2, 2, 2, 3, 4, 8, 8, 11, 12, 13, 13, 14, 14, 15, 15, 15, 15, 19, 19, 19, 20, 21, 23, 23, 23, 25]\n",
      "CPU times: user 308 ms, sys: 0 ns, total: 308 ms\n",
      "Wall time: 307 ms\n"
     ]
    }
   ],
   "source": [
    "%%time\n",
    "import random\n",
    "\n",
    "# Example usage on a list with 10k elements  \n",
    "values_10k = [random.randint(0, 9999) for _ in range(10**4)]\n",
    "\n",
    "sorted_values = selection_sort(values_10k)\n",
    "print(f'First 30 elements of sorted list: {sorted_values[:30]}')"
   ]
  }
 ],
 "metadata": {
  "kernelspec": {
   "display_name": "Python 3 (ipykernel)",
   "language": "python",
   "name": "python3"
  },
  "language_info": {
   "codemirror_mode": {
    "name": "ipython",
    "version": 3
   },
   "file_extension": ".py",
   "mimetype": "text/x-python",
   "name": "python",
   "nbconvert_exporter": "python",
   "pygments_lexer": "ipython3",
   "version": "3.9.16"
  }
 },
 "nbformat": 4,
 "nbformat_minor": 5
}
