{
 "cells": [
  {
   "cell_type": "markdown",
   "id": "562e557b-d624-4507-acab-9657cf312e1f",
   "metadata": {},
   "source": [
    "# Quicksort\n",
    "**Quicksort** is popular search algorithm which follows divide-and-conquer mechanism by picking the pivot *value* then splitting the full list into two sub-lists:\n",
    "- first sub-list has items lower than the pivot.\n",
    "- second sub-list has items greater than the pivot.\n",
    "Quicksort function recursively calls itself to sort these sub-lists and sub-lists of those sub-lists until the full list is sorted.\n",
    "***\n",
    "Quicksort was developed by Tony Hoare in 1959.\n",
    "***\n",
    "Average-case time complexity <font color=\"green\" size=\"3\">O(n log n)</font>  \n",
    "Worst-case time complexity <font color=\"red\" size=\"3\">O(n ^ 2)</font>\n",
    "\n",
    "Worst-case occurs when the pivot selection is unbalanced. However, the worst-case scenario is rare in practice, and quicksort generally performs very well on average.\n",
    "# Algorithm:\n",
    "\n",
    "The basic idea behind quicksort is to divide the input array into smaller subarrays based on a chosen \"pivot\" element, and then recursively sort those subarrays.\n",
    "\n",
    "The algorithm works as follows:\n",
    "1. Choose a pivot element from the array. The pivot can be selected in different ways, such as picking the first, last, or a random element from the array.\n",
    "1. Partition the array into two subarrays: elements less than the pivot and elements greater than the pivot. This step rearranges the elements in such a way that the pivot element is in its final sorted position.\n",
    "3. Recursively apply steps 1 and 2 to the subarrays on the left and right of the pivot. This effectively sorts the subarrays.\n",
    "4. Combine the sorted subarrays back to obtain the fully sorted array.\n",
    "\n",
    "# Conclusion:\n",
    "Quicksort is a popular sorting algorithm known for its efficiency in the average case, with a time complexity of O(n log n). It utilizes a divide-and-conquer approach by selecting a pivot element and partitioning the array into subarrays. However, it's important to note that in the worst-case scenario, when the pivot selection is unbalanced, Quicksort's performance can degrade to O(n^2). Despite this potential drawback, Quicksort is widely used due to its overall efficiency and adaptability."
   ]
  },
  {
   "cell_type": "code",
   "execution_count": 1,
   "id": "053047ec-5e2f-49b8-a4fc-af5133b71803",
   "metadata": {
    "tags": []
   },
   "outputs": [],
   "source": [
    "def quicksort(values):\n",
    "    \"\"\"\n",
    "    Sorts a list of values using the quicksort algorithm.\n",
    "    \n",
    "    Args:\n",
    "        values (list): A list of comparable elements to be sorted.\n",
    "        \n",
    "    Returns:\n",
    "        list: A new list containing the elements from the input list in sorted order.\n",
    "    \"\"\"\n",
    "    if len(values) <= 1:\n",
    "        return values\n",
    "\n",
    "    less_than_pivot = []\n",
    "    greater_than_pivot = []\n",
    "    pivot = values[0]\n",
    "\n",
    "    for value in values[1:]:\n",
    "        if value <= pivot:\n",
    "            less_than_pivot.append(value)\n",
    "        else:\n",
    "            greater_than_pivot.append(value)\n",
    "\n",
    "    sorted_values = quicksort(less_than_pivot) + [pivot] + quicksort(greater_than_pivot)\n",
    "    \n",
    "    return sorted_values"
   ]
  },
  {
   "cell_type": "code",
   "execution_count": 2,
   "id": "aacceaa2-3d8a-4321-93ab-1f88257157ce",
   "metadata": {
    "tags": []
   },
   "outputs": [
    {
     "name": "stdout",
     "output_type": "stream",
     "text": [
      "All test cases passed!\n"
     ]
    }
   ],
   "source": [
    "def test_quicksort():\n",
    "    # Test case 1: Empty list\n",
    "    values = []\n",
    "    expected_output = []\n",
    "    assert quicksort(values) == expected_output\n",
    "\n",
    "    # Test case 2: List with one element\n",
    "    values = [5]\n",
    "    expected_output = [5]\n",
    "    assert quicksort(values) == expected_output\n",
    "\n",
    "    # Test case 3: List with multiple elements\n",
    "    values = [8, 3, 1, 6, 2]\n",
    "    expected_output = [1, 2, 3, 6, 8]\n",
    "    assert quicksort(values) == expected_output\n",
    "\n",
    "    # Test case 4: List with repeated elements\n",
    "    values = [4, 2, 4, 1, 3, 2]\n",
    "    expected_output = [1, 2, 2, 3, 4, 4]\n",
    "    assert quicksort(values) == expected_output\n",
    "\n",
    "    # Test case 5: List already sorted\n",
    "    values = [1, 2, 3, 4, 5]\n",
    "    expected_output = [1, 2, 3, 4, 5]\n",
    "    assert quicksort(values) == expected_output\n",
    "\n",
    "    print(\"All test cases passed!\")\n",
    "    \n",
    "# Run the testing function\n",
    "test_quicksort()"
   ]
  },
  {
   "cell_type": "code",
   "execution_count": 3,
   "id": "9b2049ee-e58b-4119-ab37-0581faf986bb",
   "metadata": {
    "tags": []
   },
   "outputs": [
    {
     "name": "stdout",
     "output_type": "stream",
     "text": [
      "Original values: [8, 3, 1, 6, 2]\n",
      "Sorted values: [1, 2, 3, 6, 8]\n"
     ]
    }
   ],
   "source": [
    "# Example usage of quicksort function\n",
    "values = [8, 3, 1, 6, 2]\n",
    "sorted_values = quicksort(values)\n",
    "print(\"Original values:\", values)\n",
    "print(\"Sorted values:\", sorted_values)\n"
   ]
  }
 ],
 "metadata": {
  "kernelspec": {
   "display_name": "Python 3 (ipykernel)",
   "language": "python",
   "name": "python3"
  },
  "language_info": {
   "codemirror_mode": {
    "name": "ipython",
    "version": 3
   },
   "file_extension": ".py",
   "mimetype": "text/x-python",
   "name": "python",
   "nbconvert_exporter": "python",
   "pygments_lexer": "ipython3",
   "version": "3.9.16"
  }
 },
 "nbformat": 4,
 "nbformat_minor": 5
}
