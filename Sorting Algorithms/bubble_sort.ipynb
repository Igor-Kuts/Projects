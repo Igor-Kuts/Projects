{
 "cells": [
  {
   "cell_type": "markdown",
   "id": "5397d56a-a74b-4920-bbb0-46cdda2a7bdb",
   "metadata": {
    "tags": []
   },
   "source": [
    "# Bubble Sort\n",
    "\n",
    "#### Overview:\n",
    "Bubble sort is a simple comparison-based sorting algorithm. It repeatedly steps through the list of elements, compares adjacent elements, and swaps them if they are in the wrong order. The process is repeated until the entire list is sorted.\n",
    "\n",
    "Bubble sort gets its name from the way smaller elements \"bubble\" to the top of the list during each iteration.\n",
    "\n",
    "#### History:\n",
    "Bubble sort has been around for a long time and is one of the simplest sorting algorithms. It was first described by THE computer scientist **Donald Knuth** in 1955.\n",
    "\n",
    "#### Applications:\n",
    "Bubble sort is primarily used for educational purposes and for sorting small datasets where efficiency is not a major concern. It is rarely used in real-world applications due to its relatively poor performance compared to more efficient algorithms like quicksort or mergesort.\n",
    "\n",
    "#### Time Complexity:\n",
    "The time complexity of bubble sort is <font color=\"red\" size=\"2\"><b>O(n^2)</b></font> in the average and worst case, where n is the number of elements in the list. This means that the time taken to sort the list increases quadratically as the number of elements increases. In the best case scenario, when the list is already sorted, bubble sort has a time complexity of O(n), but this is still not very efficient.\n",
    "\n",
    "#### Implementation Algorithm:\n",
    "The basic algorithm for bubble sort is as follows:\n",
    "\n",
    "1. Start with the first element in the list.\n",
    "2. Compare the current element with the next element.\n",
    "3. If the current element is greater than the next element, swap them.\n",
    "4. Move to the next pair of elements and repeat steps 2-3 until the end of the list.\n",
    "5. If any swaps were made in step 3, repeat steps 1-4. Otherwise, the list is sorted.\n",
    "\n",
    "#### Pros and Cons:  \n",
    "Pros:\n",
    "- Easy to understand and implement.\n",
    "- Requires minimal additional memory.\n",
    "\n",
    "Cons:\n",
    "- Inefficient for large datasets.\n",
    "- Has a worst-case time complexity of O(n^2).\n",
    "- Not suitable for real-world applications where efficiency is critical.\n",
    "\n",
    "It's worth noting that bubble sort is rarely used in practice, and more efficient sorting algorithms are preferred for most applications."
   ]
  },
  {
   "cell_type": "code",
   "execution_count": 1,
   "id": "18816516-22db-4392-9755-c05732130d25",
   "metadata": {
    "tags": []
   },
   "outputs": [],
   "source": [
    "def bubble_sort(data):\n",
    "    \"\"\"\n",
    "    Sorts the given list using the bubble sort algorithm.\n",
    "\n",
    "    Args:\n",
    "        data (list): The list to be sorted.\n",
    "\n",
    "    Returns:\n",
    "        list: The sorted list in ascending order.\n",
    "    \"\"\"\n",
    "    len_data = len(data)\n",
    "    iterations = len_data - 2\n",
    "    flag = False\n",
    "    for i in range(iterations):\n",
    "        for n in range(1, len_data):\n",
    "            if data[n] < data[n-1]:\n",
    "                data[n], data[n-1] = data[n-1], data[n]\n",
    "    return data\n"
   ]
  },
  {
   "cell_type": "markdown",
   "id": "ab4ffdd3-5151-4b4f-8623-2e43e4d4a38c",
   "metadata": {},
   "source": [
    "#### Example usage"
   ]
  },
  {
   "cell_type": "code",
   "execution_count": 2,
   "id": "275046ad-e82c-4287-9b4d-47ad55995a23",
   "metadata": {
    "tags": []
   },
   "outputs": [
    {
     "name": "stdout",
     "output_type": "stream",
     "text": [
      "[1, 2, 4, 5, 7]\n",
      "['a', 'b', 'c', 'd']\n",
      "[]\n",
      "[1, 2, 2, 3, 4, 4, 5]\n"
     ]
    }
   ],
   "source": [
    "# Example 1: Sorting a list of integers\n",
    "data1 = [4, 2, 7, 1, 5]\n",
    "sorted_data1 = bubble_sort(data1)\n",
    "print(sorted_data1)\n",
    "# Output: [1, 2, 4, 5, 7]\n",
    "\n",
    "# Example 2: Sorting a list of characters\n",
    "data2 = ['b', 'a', 'd', 'c']\n",
    "sorted_data2 = bubble_sort(data2)\n",
    "print(sorted_data2)\n",
    "# Output: ['a', 'b', 'c', 'd']\n",
    "\n",
    "# Example 3: Sorting an empty list\n",
    "data3 = []\n",
    "sorted_data3 = bubble_sort(data3)\n",
    "print(sorted_data3)\n",
    "# Output: []\n",
    "\n",
    "# Example 4: Sorting a list with duplicate values\n",
    "data4 = [3, 1, 4, 2, 2, 5, 4]\n",
    "sorted_data4 = bubble_sort(data4)\n",
    "print(sorted_data4)\n",
    "# Output: [1, 2, 2, 3, 4, 4, 5]\n"
   ]
  }
 ],
 "metadata": {
  "kernelspec": {
   "display_name": "Python 3 (ipykernel)",
   "language": "python",
   "name": "python3"
  },
  "language_info": {
   "codemirror_mode": {
    "name": "ipython",
    "version": 3
   },
   "file_extension": ".py",
   "mimetype": "text/x-python",
   "name": "python",
   "nbconvert_exporter": "python",
   "pygments_lexer": "ipython3",
   "version": "3.9.16"
  }
 },
 "nbformat": 4,
 "nbformat_minor": 5
}
