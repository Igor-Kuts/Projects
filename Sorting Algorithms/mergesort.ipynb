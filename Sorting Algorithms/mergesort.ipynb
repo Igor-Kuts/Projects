{
 "cells": [
  {
   "cell_type": "markdown",
   "id": "86433a26-1eec-4a09-994e-f4b1cc22176a",
   "metadata": {
    "tags": []
   },
   "source": [
    "# Mergesort\n",
    "**Merge sort** is a popular sorting algorithm than follows the divide-and-conquer approach. It divides the input array into smaller subarrays, sorts them recursively, and then merges the sorted subarrays to produce a fully sorted array.\n",
    "***\n",
    "Merge sort has a **time complexity** of O(n log n) in all cases, including the worst case.\n",
    "\n",
    "It is a stable sorting algorithm, meaning that elements with equal values maintain their relative order after sorting. However, merge sort requires additional memory proportional to the size of the input array to store temporary subarrays during the merging process.\n",
    "***\n",
    "# Algorithm:\n",
    "\n",
    "1. **Divide**: The algorithm starts by dividing the input array into two equal-sized subarrays (or approximately equal-sized if the array length is odd). This process continues recursively until each subarray contains only one element. This represents the base case of the recursion.\n",
    "2. **Conquer**: Once the array is divided into single-element subarrays (which are inherently sorted), the algorithm begins merging them back together. Pairs of adjacent subarrays are merged into larger sorted subarrays. This process continues recursively until all subarrays are merged, resulting in a single sorted array.\n",
    "3. **Merge**: The merging process involves comparing the elements of the subarrays and combining them in sorted order. Starting with the smallest elements of each subarray, the algorithm compares the elements and places them in the correct order in a new merged subarray. This process continues until all elements from both subarrays are merged into a single sorted subarray.\n",
    "4. **Combine**: Finally, after all subarrays have been merged, the algorithm produces a fully sorted array."
   ]
  },
  {
   "cell_type": "code",
   "execution_count": 1,
   "id": "cecaddbf-c32b-4804-a7d7-f1fc94386539",
   "metadata": {
    "tags": []
   },
   "outputs": [],
   "source": [
    "def mergesort(values):\n",
    "    \"\"\"\n",
    "    Sorts a list of values using the merge sort algorithm.\n",
    "    \n",
    "    Args:\n",
    "        values (list): A list of comparable elements to be sorted.\n",
    "        \n",
    "    Returns:\n",
    "        list: A new list containing the elements from the input list in sorted order.\n",
    "    \"\"\"\n",
    "    if len(values) <= 1:\n",
    "        return values\n",
    "        \n",
    "    middle_index = len(values) // 2\n",
    "    left_values = mergesort(values[:middle_index])\n",
    "    right_values = mergesort(values[middle_index:])\n",
    "    \n",
    "    sorted_values = []\n",
    "    \n",
    "    left_index = 0\n",
    "    right_index = 0\n",
    "    \n",
    "    while left_index < len(left_values) and right_index < len(right_values):\n",
    "        if left_values[left_index] < right_values[right_index]:\n",
    "            sorted_values.append(left_values[left_index])\n",
    "            left_index += 1\n",
    "        else:\n",
    "            sorted_values.append(right_values[right_index])\n",
    "            right_index += 1\n",
    "            \n",
    "    sorted_values.extend(left_values[left_index:])\n",
    "    sorted_values.extend(right_values[right_index:])\n",
    "    \n",
    "    return sorted_values\n"
   ]
  },
  {
   "cell_type": "code",
   "execution_count": 2,
   "id": "6dccccf3-19d2-4ce8-9fbf-758a83226e9a",
   "metadata": {
    "tags": []
   },
   "outputs": [
    {
     "name": "stdout",
     "output_type": "stream",
     "text": [
      "All test cases passed!\n"
     ]
    }
   ],
   "source": [
    "# Testing function for mergesort\n",
    "def test_mergesort():\n",
    "    # Test case 1: Empty list\n",
    "    values = []\n",
    "    expected_output = []\n",
    "    assert mergesort(values) == expected_output\n",
    "\n",
    "    # Test case 2: List with one element\n",
    "    values = [5]\n",
    "    expected_output = [5]\n",
    "    assert mergesort(values) == expected_output\n",
    "\n",
    "    # Test case 3: List with multiple elements\n",
    "    values = [8, 3, 1, 6, 2]\n",
    "    expected_output = [1, 2, 3, 6, 8]\n",
    "    assert mergesort(values) == expected_output\n",
    "\n",
    "    # Test case 4: List with repeated elements\n",
    "    values = [4, 2, 4, 1, 3, 2]\n",
    "    expected_output = [1, 2, 2, 3, 4, 4]\n",
    "    assert mergesort(values) == expected_output\n",
    "\n",
    "    # Test case 5: List already sorted\n",
    "    values = [1, 2, 3, 4, 5]\n",
    "    expected_output = [1, 2, 3, 4, 5]\n",
    "    assert mergesort(values) == expected_output\n",
    "\n",
    "    print(\"All test cases passed!\")\n",
    "\n",
    "\n",
    "test_mergesort()"
   ]
  },
  {
   "cell_type": "code",
   "execution_count": 3,
   "id": "0d99710f-0664-4ed8-8e1c-8f26b2cb02df",
   "metadata": {
    "tags": []
   },
   "outputs": [
    {
     "name": "stdout",
     "output_type": "stream",
     "text": [
      "Original values: [8, 3, 1, 6, 2]\n",
      "Sorted values: [1, 2, 3, 6, 8]\n"
     ]
    }
   ],
   "source": [
    "# Example usage of mergesort function\n",
    "values = [8, 3, 1, 6, 2]\n",
    "sorted_values = mergesort(values)\n",
    "print(\"Original values:\", values)\n",
    "print(\"Sorted values:\", sorted_values)"
   ]
  }
 ],
 "metadata": {
  "kernelspec": {
   "display_name": "Python 3 (ipykernel)",
   "language": "python",
   "name": "python3"
  },
  "language_info": {
   "codemirror_mode": {
    "name": "ipython",
    "version": 3
   },
   "file_extension": ".py",
   "mimetype": "text/x-python",
   "name": "python",
   "nbconvert_exporter": "python",
   "pygments_lexer": "ipython3",
   "version": "3.9.16"
  }
 },
 "nbformat": 4,
 "nbformat_minor": 5
}
