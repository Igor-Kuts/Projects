{
 "cells": [
  {
   "cell_type": "markdown",
   "id": "4d9a4519-b9a0-446f-a6a8-1cbbb5dadbce",
   "metadata": {},
   "source": [
    "# Find Bridges via DFS"
   ]
  },
  {
   "cell_type": "markdown",
   "id": "82db0aff-3901-40dc-9158-7a649570bfba",
   "metadata": {
    "tags": []
   },
   "source": [
    "**Bridge / cut edge** is any edge in a graph whose removal increases the number of connected components.\n",
    "\n",
    "**Articulation point / cut vertex** is any node in the graph whose removal increases the number of connected components.\n",
    "\n",
    "<font color=\"darkblue\" size=\"3\"><b>Bridges and articulation points</b></font> are important in graph theory because <font color=\"orange\" size=\"3\"><b>they often hint at weak points, bottlenecks or vulnerabilities in a graph</b></font>. Therefore, it is important to be able to quickly find/detect when and where these occur."
   ]
  },
  {
   "cell_type": "code",
   "execution_count": 1,
   "id": "8fe541d6-e86b-44d4-81d9-29a20e5c10bc",
   "metadata": {
    "tags": []
   },
   "outputs": [],
   "source": [
    "# undirected / bidirectional graph as an example\n",
    "graph = {\n",
    "    0:  [(1, ), (2, )],\n",
    "    1:  [(0, ), (2, ), (3, )],        \n",
    "    2:  [(0, ), (1, )],\n",
    "    3:  [(1, ), (4, ), (5, )],\n",
    "    4:  [(3, ), (5, ), (6, )],\n",
    "    5:  [(3, ), (4, ), (6, )],\n",
    "    6:  [(4, ), (5, )]\n",
    "}"
   ]
  },
  {
   "cell_type": "code",
   "execution_count": 4,
   "id": "2ddc2e29-3fc6-4c02-9260-375e4a9818ed",
   "metadata": {
    "tags": []
   },
   "outputs": [],
   "source": [
    "def find_bridges(graph):\n",
    "    '''\n",
    "    Find all bridges in the given undirected graph using DFS algorithm.\n",
    "\n",
    "    Args:\n",
    "    - graph: a dict of lists, where each key represents a node with list of edges,\n",
    "             where each tuple represents edge direction and associated weight\n",
    "             e.g., 0: [(0, 1), (1, 5), (3, 2), (2, 7)]\n",
    "\n",
    "    Returns:\n",
    "    - bridges: a list of tuples, where each tuple represents a bridge between two nodes, \n",
    "               e.g., [(0, 1), (2, 3)]\n",
    "    '''\n",
    "\n",
    "    def dfs(node, parent):\n",
    "        '''\n",
    "        Traverse the graph using depth-first search to find bridges.\n",
    "\n",
    "        Args:\n",
    "        - node: an integer representing the current node\n",
    "        - parent: an integer representing the previous node\n",
    "\n",
    "        Returns:\n",
    "        - None\n",
    "        '''\n",
    "\n",
    "        nonlocal id_, ids, low, visited, bridges\n",
    "\n",
    "        visited[node] = True\n",
    "        low[node] = id_\n",
    "        ids[node] = id_\n",
    "        id_ += 1\n",
    "\n",
    "        for neighbor in graph[node]:\n",
    "            neighbor = neighbor[0]\n",
    "            if neighbor == parent:\n",
    "                continue\n",
    "\n",
    "            if not visited[neighbor]:\n",
    "                dfs(neighbor, node)\n",
    "                low[node] = min(low[node], low[neighbor])\n",
    "                if ids[node] < low[neighbor]:\n",
    "                    bridges.append((node, neighbor))\n",
    "            else:\n",
    "                low[node] = min(low[node], ids[neighbor])\n",
    "\n",
    "    # Initialization\n",
    "    id_ = 0\n",
    "    ids = [0] * len(graph)\n",
    "    low = [0] * len(graph)\n",
    "    visited = [False] * len(graph)\n",
    "    bridges = []\n",
    "\n",
    "    # Find bridges in each connected component of the graph\n",
    "    for node in range(len(graph)):\n",
    "        if not visited[node]:\n",
    "            dfs(node, -1)\n",
    "            \n",
    "    return bridges"
   ]
  },
  {
   "cell_type": "code",
   "execution_count": 3,
   "id": "ca25c78f-acff-492e-82d2-8515e16232cd",
   "metadata": {
    "tags": []
   },
   "outputs": [
    {
     "name": "stdout",
     "output_type": "stream",
     "text": [
      "Found bridges at:\n",
      "(1, 3)\n"
     ]
    }
   ],
   "source": [
    "bridges = find_bridges(graph)\n",
    "if len(bridges) > 0:\n",
    "    print(f'Found bridges at:')\n",
    "    for bridge in bridges:\n",
    "        print(bridge)\n",
    "else:\n",
    "    print(f'No bridges were found')\n"
   ]
  }
 ],
 "metadata": {
  "kernelspec": {
   "display_name": "Python 3 (ipykernel)",
   "language": "python",
   "name": "python3"
  },
  "language_info": {
   "codemirror_mode": {
    "name": "ipython",
    "version": 3
   },
   "file_extension": ".py",
   "mimetype": "text/x-python",
   "name": "python",
   "nbconvert_exporter": "python",
   "pygments_lexer": "ipython3",
   "version": "3.9.16"
  }
 },
 "nbformat": 4,
 "nbformat_minor": 5
}
