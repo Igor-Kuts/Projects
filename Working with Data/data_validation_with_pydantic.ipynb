{
 "cells": [
  {
   "cell_type": "markdown",
   "metadata": {},
   "source": [
    "# Data Validation with Pydantic\n",
    "\n",
    "**Data validation** is a method for checking the accuracy and quality of data. This is a crucial step for any data-driven project. \n",
    "\n",
    "Data Validation ensures that data is complete (no blank or null values), unique (contains distinct values that are not duplicated) and in range of values that we expect, and much more depending on our field types, possible values and project.\n",
    "\n",
    "Having the right tools and techniques can help us improve the reliability of our ML models and APIs.  \n",
    "\n",
    "Currently, Pydantic is one of the best libraries for Data Validation with more than 100M monthly downloads.\n",
    "\n",
    "### Key Features of Pydantic:\n",
    "- **Powered by type hints**: In Pydantic, serialization and schema validation are controlled by Python's type annotations which are familiar to most people using Python and easily integrated with IDEs and static analysis tools.\n",
    "- **Speed**: Pydantic's core validation logic is written in Rust. As a result, Pydantic is among the fastest data validation libraries for Python.\n",
    "- **Async Support**: Pydantic supports asynchronous validation and parsing, which is useful in asynchronous Python code.\n",
    "- **JSON Schema**: For any Pydantic schema, JSON schema can be generated, which allows for self-documenting APIs and integration with wide variety of tools which support JSON Schema.\n",
    "- **Strict** and **Lax** modes: Pydantic can run in two different modes:\n",
    "    - `strict=True` mode does not convert data (eg.: `\"1\" >>> 1`); \n",
    "    - `strict=False` mode where Pydantic tries to coerce data to the correct type where appropriate.\n",
    "- **Support of standard library types**: Pydantic supports validation of many standard library types such as `dataclass` and `TypeDict`.\n",
    "- **Powerful Customization**: Pydantic allows for custom validators and serializers to alter data processing in many powerful ways.\n",
    "- **Community and Ecosystem**: Pydantic has an active community and is well-maintained. It also integrates well with other Python libraries and tools.\n",
    "\n",
    "### Supported DataTypes:\n",
    "Where possible Pydantic uses standard library types to define fields.  \n",
    "There are also more complex types that can be found in the Pydantic Extra Types.  \n",
    "If no existing type suits your purpose you can also implement your own Pydantic-compatible types with custom properties and validation.\n",
    "\n",
    "[Pydantic DataTypes documentation](https://docs.pydantic.dev/latest/usage/types/types/)\n",
    "\n",
    "### Integration in FastAPI:\n",
    "\n",
    "The integration of Pydantic with FastAPI enhances the development experience by providing automatic validation, documentation generation, and data serialization while promoting code consistency and reusability. These features help us build robust and well-documented APIs efficiently."
   ]
  },
  {
   "cell_type": "markdown",
   "metadata": {},
   "source": [
    "# Pydantic usage examples"
   ]
  },
  {
   "cell_type": "markdown",
   "metadata": {},
   "source": [
    "### BaseModel usage:"
   ]
  },
  {
   "cell_type": "code",
   "execution_count": 1,
   "metadata": {},
   "outputs": [
    {
     "data": {
      "text/plain": [
       "User_Data(user_name='Igor', user_age=32, is_male=True)"
      ]
     },
     "execution_count": 1,
     "metadata": {},
     "output_type": "execute_result"
    }
   ],
   "source": [
    "from pydantic import BaseModel\n",
    "\n",
    "input_data = '''{\n",
    "                    \"user_name\": \"Igor\",\n",
    "                    \"user_age\": 32,\n",
    "                    \"is_male\": \"yes\"\n",
    "                }\n",
    "            '''\n",
    "\n",
    "# BaseModel is a basic pydantic class\n",
    "# We define incoming data via typehinting\n",
    "class User_Data(BaseModel):\n",
    "    user_name: str\n",
    "    user_age: int\n",
    "    is_male: bool\n",
    "\n",
    "new_user = User_Data.parse_raw(input_data)\n",
    "new_user"
   ]
  },
  {
   "cell_type": "markdown",
   "metadata": {},
   "source": [
    "### BaseModel witn nested class:"
   ]
  },
  {
   "cell_type": "code",
   "execution_count": 2,
   "metadata": {},
   "outputs": [
    {
     "name": "stdout",
     "output_type": "stream",
     "text": [
      "country='Russia' city='Novosibirsk' user=[User(name='Igor', age=32, is_male=True), User(name='Nikulin', age=33, is_male=True), User(name='Tukanova', age=33, is_male=False)]\n"
     ]
    }
   ],
   "source": [
    "from typing import List\n",
    "from pydantic import BaseModel\n",
    "\n",
    "input_data = {\n",
    "              'country': 'Russia',\n",
    "              'city': 'Novosibirsk',\n",
    "              'user': [\n",
    "                       {\n",
    "                           'name': 'Igor',\n",
    "                           'age': 32,\n",
    "                           'is_male': 'yes'\n",
    "                        },\n",
    "                       {\n",
    "                           'name': 'Nikulin',\n",
    "                           'age': 33,\n",
    "                           'is_male': 1                         \n",
    "                        },\n",
    "                       {\n",
    "                           'name': 'Tukanova',\n",
    "                           'age': 33,\n",
    "                           'is_male': 0\n",
    "                        }\n",
    "                      ]\n",
    "             }\n",
    "              \n",
    "class User(BaseModel):\n",
    "    name: str\n",
    "    age: int\n",
    "    is_male: bool\n",
    "\n",
    "class User_Data(BaseModel):\n",
    "    country: str\n",
    "    city: str\n",
    "    # nest \"User\" BaseModel class via List\n",
    "    user: List[User]\n",
    "\n",
    "new_user = User_Data(**input_data)\n",
    "print(new_user)"
   ]
  },
  {
   "cell_type": "markdown",
   "metadata": {},
   "source": [
    "### Account for possibly missing fields:\n",
    "We can import `Optional` from Python's `typing` module if we expect some fields in input data to be missing.  \n",
    "- `Optional[str]`: meaning that we expect either string or `None` value. Same goes for other standard types. "
   ]
  },
  {
   "cell_type": "code",
   "execution_count": 3,
   "metadata": {},
   "outputs": [
    {
     "data": {
      "text/plain": [
       "User_Data(user_name=None, user_age=32, is_male=True)"
      ]
     },
     "execution_count": 3,
     "metadata": {},
     "output_type": "execute_result"
    }
   ],
   "source": [
    "from typing import Optional\n",
    "from pydantic import BaseModel\n",
    "\n",
    "input_data = '''{\n",
    "                    \"user_age\": 32,\n",
    "                    \"is_male\": \"yes\"\n",
    "                }\n",
    "             '''\n",
    "\n",
    "class User_Data(BaseModel):\n",
    "    # we expect \"user_name\" to be either string or be missing\n",
    "    user_name: Optional[str]\n",
    "    user_age: int\n",
    "    is_male: bool\n",
    "\n",
    "new_user = User_Data.parse_raw(input_data)\n",
    "new_user"
   ]
  },
  {
   "cell_type": "markdown",
   "metadata": {},
   "source": [
    "### Validation while expecting input of different types:\n",
    "We can specify that we expect to recieve input of different types in a field with `Union` from `typing` module."
   ]
  },
  {
   "cell_type": "code",
   "execution_count": 4,
   "metadata": {},
   "outputs": [
    {
     "data": {
      "text/plain": [
       "User_Data(user_name='Igor', user_age=32, sex='Fighter Jet')"
      ]
     },
     "execution_count": 4,
     "metadata": {},
     "output_type": "execute_result"
    }
   ],
   "source": [
    "from typing import Union\n",
    "from pydantic import BaseModel\n",
    "\n",
    "input_data = '''{\n",
    "                    \"user_name\": \"Igor\",\n",
    "                    \"user_age\": 32,\n",
    "                    \"sex\": \"Fighter Jet\"\n",
    "                }\n",
    "            '''\n",
    "\n",
    "class User_Data(BaseModel):\n",
    "    user_name: str\n",
    "    user_age: int\n",
    "    # we expect either boolean or string value in the \"sex\" field\n",
    "    sex: Union[bool, str]\n",
    "\n",
    "new_user = User_Data.parse_raw(input_data)\n",
    "new_user"
   ]
  },
  {
   "cell_type": "markdown",
   "metadata": {},
   "source": [
    "### Field Aliases:\n",
    "In Pydantic we can use aliases with the help of `Filed` function imported from Pydantic."
   ]
  },
  {
   "cell_type": "code",
   "execution_count": 5,
   "metadata": {},
   "outputs": [
    {
     "data": {
      "text/plain": [
       "User_Data(user_name='Igor', user_age=32, sex='male')"
      ]
     },
     "execution_count": 5,
     "metadata": {},
     "output_type": "execute_result"
    }
   ],
   "source": [
    "# import Field from pydantic\n",
    "from pydantic import BaseModel, Field\n",
    "\n",
    "input_data = \"\"\"\n",
    "                {\n",
    "                    \"user_name\": \"Igor\",\n",
    "                    \"user_age\": 32,\n",
    "                    \"AbstractUserAbstractNameSexFabricValue\": \"male\"\n",
    "                }\n",
    "             \"\"\"\n",
    "\n",
    "class User_Data(BaseModel):\n",
    "    user_name: str\n",
    "    user_age: int\n",
    "    # we specify alias parameter in Field to use both in validation and serialization\n",
    "    # validation_alias can be used to specify alias for validation only\n",
    "    # serialization_alias can be used to specify alias for serialization only\n",
    "    sex: str = Field(...,alias ='AbstractUserAbstractNameSexFabricValue')\n",
    "\n",
    "new_user = User_Data.parse_raw(input_data)\n",
    "new_user"
   ]
  },
  {
   "cell_type": "markdown",
   "metadata": {},
   "source": [
    "###  Business logic in validation:\n",
    "With `@validator` decorator from Pydantic we can create custom validation functions to include business logic in validation process."
   ]
  },
  {
   "cell_type": "code",
   "execution_count": 6,
   "metadata": {},
   "outputs": [
    {
     "ename": "ValidationError",
     "evalue": "1 validation error for User_Data\nsex\n  No Helicopters allowed: (type=value_error)",
     "output_type": "error",
     "traceback": [
      "\u001b[1;31m---------------------------------------------------------------------------\u001b[0m",
      "\u001b[1;31mValidationError\u001b[0m                           Traceback (most recent call last)",
      "\u001b[1;32mc:\\Users\\iaqc\\Data Validation with Pydantic.ipynb Cell 14\u001b[0m line \u001b[0;36m2\n\u001b[0;32m     <a href='vscode-notebook-cell:/c%3A/Users/iaqc/Data%20Validation%20with%20Pydantic.ipynb#X16sZmlsZQ%3D%3D?line=20'>21</a>\u001b[0m             \u001b[39mraise\u001b[39;00m \u001b[39mValueError\u001b[39;00m(\u001b[39m'\u001b[39m\u001b[39mNo Helicopters allowed:\u001b[39m\u001b[39m'\u001b[39m)\n\u001b[0;32m     <a href='vscode-notebook-cell:/c%3A/Users/iaqc/Data%20Validation%20with%20Pydantic.ipynb#X16sZmlsZQ%3D%3D?line=21'>22</a>\u001b[0m         \u001b[39mreturn\u001b[39;00m value\n\u001b[1;32m---> <a href='vscode-notebook-cell:/c%3A/Users/iaqc/Data%20Validation%20with%20Pydantic.ipynb#X16sZmlsZQ%3D%3D?line=23'>24</a>\u001b[0m new_user \u001b[39m=\u001b[39m User_Data\u001b[39m.\u001b[39;49mparse_raw(input_data)\n\u001b[0;32m     <a href='vscode-notebook-cell:/c%3A/Users/iaqc/Data%20Validation%20with%20Pydantic.ipynb#X16sZmlsZQ%3D%3D?line=24'>25</a>\u001b[0m new_user\n",
      "File \u001b[1;32m~\\anaconda3\\envs\\Torch\\lib\\site-packages\\pydantic\\main.py:549\u001b[0m, in \u001b[0;36mpydantic.main.BaseModel.parse_raw\u001b[1;34m()\u001b[0m\n",
      "File \u001b[1;32m~\\anaconda3\\envs\\Torch\\lib\\site-packages\\pydantic\\main.py:526\u001b[0m, in \u001b[0;36mpydantic.main.BaseModel.parse_obj\u001b[1;34m()\u001b[0m\n",
      "File \u001b[1;32m~\\anaconda3\\envs\\Torch\\lib\\site-packages\\pydantic\\main.py:341\u001b[0m, in \u001b[0;36mpydantic.main.BaseModel.__init__\u001b[1;34m()\u001b[0m\n",
      "\u001b[1;31mValidationError\u001b[0m: 1 validation error for User_Data\nsex\n  No Helicopters allowed: (type=value_error)"
     ]
    }
   ],
   "source": [
    "# import validator decorator from pydantic\n",
    "from pydantic import BaseModel, validator\n",
    "\n",
    "input_data = \"\"\"\n",
    "                {\n",
    "                    \"user_name\": \"Igor\",\n",
    "                    \"user_age\": 32,\n",
    "                    \"sex\": \"Apache Helicopter\"\n",
    "                }\n",
    "             \"\"\"\n",
    "\n",
    "class User_Data(BaseModel):\n",
    "    user_name: str\n",
    "    user_age: int\n",
    "    sex: str\n",
    "\n",
    "    # use @validator class decorator to implement desired business logic\n",
    "    @validator('sex', pre=True)\n",
    "    def no_helicopters_allowed(cls, value: str) -> str:\n",
    "        if 'Helicopter' in value:\n",
    "            raise ValueError('No Helicopters allowed:')\n",
    "        return value\n",
    "\n",
    "new_user = User_Data.parse_raw(input_data)\n",
    "new_user"
   ]
  },
  {
   "cell_type": "markdown",
   "metadata": {},
   "source": [
    "### Custom types:\n",
    "We can define a custom data type and use it for validation.\n",
    "\n",
    "In the follwing example we create custom data type `ThiccStr`, which raises an exception if provided string is not in ALL CAPS."
   ]
  },
  {
   "cell_type": "code",
   "execution_count": 7,
   "metadata": {},
   "outputs": [
    {
     "ename": "ValidationError",
     "evalue": "2 validation errors for User_Data\nuser_name\n  string expected, got <class 'int'> (type=value_error)\nbio\n  string is not THICC enough (type=value_error)",
     "output_type": "error",
     "traceback": [
      "\u001b[1;31m---------------------------------------------------------------------------\u001b[0m",
      "\u001b[1;31mValidationError\u001b[0m                           Traceback (most recent call last)",
      "\u001b[1;32mc:\\Users\\iaqc\\Data Validation with Pydantic.ipynb Cell 16\u001b[0m line \u001b[0;36m3\n\u001b[0;32m     <a href='vscode-notebook-cell:/c%3A/Users/iaqc/Data%20Validation%20with%20Pydantic.ipynb#X21sZmlsZQ%3D%3D?line=31'>32</a>\u001b[0m     \u001b[39m# use typehinting to specify our custom data type\u001b[39;00m\n\u001b[0;32m     <a href='vscode-notebook-cell:/c%3A/Users/iaqc/Data%20Validation%20with%20Pydantic.ipynb#X21sZmlsZQ%3D%3D?line=32'>33</a>\u001b[0m     bio: ThiccStr\n\u001b[1;32m---> <a href='vscode-notebook-cell:/c%3A/Users/iaqc/Data%20Validation%20with%20Pydantic.ipynb#X21sZmlsZQ%3D%3D?line=34'>35</a>\u001b[0m new_user \u001b[39m=\u001b[39m User_Data\u001b[39m.\u001b[39;49mparse_raw(input_data)\n\u001b[0;32m     <a href='vscode-notebook-cell:/c%3A/Users/iaqc/Data%20Validation%20with%20Pydantic.ipynb#X21sZmlsZQ%3D%3D?line=35'>36</a>\u001b[0m new_user\n",
      "File \u001b[1;32m~\\anaconda3\\envs\\Torch\\lib\\site-packages\\pydantic\\main.py:549\u001b[0m, in \u001b[0;36mpydantic.main.BaseModel.parse_raw\u001b[1;34m()\u001b[0m\n",
      "File \u001b[1;32m~\\anaconda3\\envs\\Torch\\lib\\site-packages\\pydantic\\main.py:526\u001b[0m, in \u001b[0;36mpydantic.main.BaseModel.parse_obj\u001b[1;34m()\u001b[0m\n",
      "File \u001b[1;32m~\\anaconda3\\envs\\Torch\\lib\\site-packages\\pydantic\\main.py:341\u001b[0m, in \u001b[0;36mpydantic.main.BaseModel.__init__\u001b[1;34m()\u001b[0m\n",
      "\u001b[1;31mValidationError\u001b[0m: 2 validation errors for User_Data\nuser_name\n  string expected, got <class 'int'> (type=value_error)\nbio\n  string is not THICC enough (type=value_error)"
     ]
    }
   ],
   "source": [
    "# import validator decorator from pydantic\n",
    "from pydantic import BaseModel\n",
    "\n",
    "input_data = \"\"\"\n",
    "                {\n",
    "                    \"user_name\": 42,\n",
    "                    \"user_age\": 32,\n",
    "                    \"bio\": \"thinn string with boring info \"\n",
    "                }\n",
    "             \"\"\"\n",
    "\n",
    "class ThiccStr(str):\n",
    "\n",
    "    @classmethod\n",
    "    def validate(cls, v):\n",
    "        if not isinstance(v, str):\n",
    "            raise ValueError(f\"string expected, got {type(v)}\")\n",
    "        if not v.isupper():\n",
    "            raise ValueError(f\"string is not THICC enough\")\n",
    "        \n",
    "        return v\n",
    "    # Pydantic need __get_validators__ method from which\n",
    "    # it will get the validation sequence\n",
    "    @classmethod\n",
    "    def __get_validators__(cls):\n",
    "        yield cls.validate\n",
    "\n",
    "class User_Data(BaseModel):\n",
    "    # use typehinting to specify our custom data type\n",
    "    user_name: ThiccStr\n",
    "    user_age: int\n",
    "    # use typehinting to specify our custom data type\n",
    "    bio: ThiccStr\n",
    "\n",
    "new_user = User_Data.parse_raw(input_data)\n",
    "new_user"
   ]
  },
  {
   "cell_type": "markdown",
   "metadata": {},
   "source": [
    "### Selective Export:\n",
    "We can exclude some fields from exporting via `exclude=('<_field_name_>')` parameter to avoid sharing sensitive data."
   ]
  },
  {
   "cell_type": "code",
   "execution_count": 8,
   "metadata": {},
   "outputs": [
    {
     "data": {
      "text/plain": [
       "'{\"user_name\": \"Gregor\", \"user_age\": 51, \"sex\": \"male\"}'"
      ]
     },
     "execution_count": 8,
     "metadata": {},
     "output_type": "execute_result"
    }
   ],
   "source": [
    "from pydantic import BaseModel\n",
    "\n",
    "input_data = '''{\n",
    "                    \"user_name\": \"Gregor\",\n",
    "                    \"user_age\": 51,\n",
    "                    \"sex\": \"male\",\n",
    "                    \"dirty_secret\": \"i feel as being an Apache Helicopter, but please, keep this a secret\"\n",
    "                }\n",
    "             '''\n",
    "\n",
    "class User_Data(BaseModel):\n",
    "    user_name: str\n",
    "    user_age: int\n",
    "    sex: str\n",
    "    dirty_secret: str\n",
    "\n",
    "new_user = User_Data.parse_raw(input_data)\n",
    "\n",
    "# we wont share someones dirty secrets\n",
    "new_user.json(exclude={'dirty_secret'})"
   ]
  },
  {
   "cell_type": "markdown",
   "metadata": {},
   "source": [
    "### Validate 2 fields together:\n",
    "We can validate 2 fields at the same time via custom validators.  \n",
    "In the example below we check if both **country** and **city** fields are filled, or raise.\n",
    "\n",
    "**Validator function params**:\n",
    "- `value`: The value parameter represents the value of the field that the validator is applied to. In other words, it's the value of the field being validated, which is the \"city\" field in this case.\n",
    "\n",
    "- `values`: The values parameter is a dictionary that contains all the field values of the Pydantic model being validated. It allows you to access the values of other fields in the model. The keys in the values dictionary are the field names, and the values are the field values.\n",
    "  - `values.get`: accesses values dictionary"
   ]
  },
  {
   "cell_type": "code",
   "execution_count": 9,
   "metadata": {},
   "outputs": [
    {
     "ename": "ValidationError",
     "evalue": "1 validation error for User_Data\ncountry\n  Fill country and city together (type=value_error)",
     "output_type": "error",
     "traceback": [
      "\u001b[1;31m---------------------------------------------------------------------------\u001b[0m",
      "\u001b[1;31mValidationError\u001b[0m                           Traceback (most recent call last)",
      "\u001b[1;32mc:\\Users\\iaqc\\Data Validation with Pydantic.ipynb Cell 20\u001b[0m line \u001b[0;36m2\n\u001b[0;32m     <a href='vscode-notebook-cell:/c%3A/Users/iaqc/Data%20Validation%20with%20Pydantic.ipynb#X25sZmlsZQ%3D%3D?line=20'>21</a>\u001b[0m             \u001b[39mraise\u001b[39;00m \u001b[39mValueError\u001b[39;00m(\u001b[39m'\u001b[39m\u001b[39mFill country and city together\u001b[39m\u001b[39m'\u001b[39m)\n\u001b[0;32m     <a href='vscode-notebook-cell:/c%3A/Users/iaqc/Data%20Validation%20with%20Pydantic.ipynb#X25sZmlsZQ%3D%3D?line=21'>22</a>\u001b[0m         \u001b[39mreturn\u001b[39;00m value\n\u001b[1;32m---> <a href='vscode-notebook-cell:/c%3A/Users/iaqc/Data%20Validation%20with%20Pydantic.ipynb#X25sZmlsZQ%3D%3D?line=23'>24</a>\u001b[0m new_user \u001b[39m=\u001b[39m User_Data\u001b[39m.\u001b[39;49mparse_raw(input_data)\n\u001b[0;32m     <a href='vscode-notebook-cell:/c%3A/Users/iaqc/Data%20Validation%20with%20Pydantic.ipynb#X25sZmlsZQ%3D%3D?line=24'>25</a>\u001b[0m display(new_user)\n",
      "File \u001b[1;32m~\\anaconda3\\envs\\Torch\\lib\\site-packages\\pydantic\\main.py:549\u001b[0m, in \u001b[0;36mpydantic.main.BaseModel.parse_raw\u001b[1;34m()\u001b[0m\n",
      "File \u001b[1;32m~\\anaconda3\\envs\\Torch\\lib\\site-packages\\pydantic\\main.py:526\u001b[0m, in \u001b[0;36mpydantic.main.BaseModel.parse_obj\u001b[1;34m()\u001b[0m\n",
      "File \u001b[1;32m~\\anaconda3\\envs\\Torch\\lib\\site-packages\\pydantic\\main.py:341\u001b[0m, in \u001b[0;36mpydantic.main.BaseModel.__init__\u001b[1;34m()\u001b[0m\n",
      "\u001b[1;31mValidationError\u001b[0m: 1 validation error for User_Data\ncountry\n  Fill country and city together (type=value_error)"
     ]
    }
   ],
   "source": [
    "from pydantic import BaseModel,validator\n",
    "\n",
    "input_data = '''{\n",
    "                    \"user_name\": \"Gregor\",\n",
    "                    \"user_age\": 51,\n",
    "                    \"country\": \"Best Country\"\n",
    "                }\n",
    "             '''\n",
    "\n",
    "class User_Data(BaseModel):\n",
    "    user_name: str\n",
    "    user_age: int\n",
    "    country: Optional[str]\n",
    "    city: Optional[str]\n",
    "\n",
    "    # buildin custom logic into validator\n",
    "    # always=True alows for validation even if the value is None\n",
    "    @validator('country', pre=True, always=True)\n",
    "    def country_and_city_together(cls, value, values):\n",
    "        if bool(value) != bool(values.get('city')):\n",
    "            raise ValueError('Fill country and city together')\n",
    "        return value\n",
    "    \n",
    "new_user = User_Data.parse_raw(input_data)\n",
    "display(new_user)\n"
   ]
  },
  {
   "cell_type": "markdown",
   "metadata": {},
   "source": [
    "### Forbid extra data:\n",
    "We can specify `extra = 'forbid'` in the Config class inside the model to forbid extra incoming data from the source.\n",
    "\n",
    "`extra = 'allow'` is the default behaviour, which allows extra incoming data."
   ]
  },
  {
   "cell_type": "code",
   "execution_count": 10,
   "metadata": {},
   "outputs": [
    {
     "ename": "ValidationError",
     "evalue": "3 validation errors for User_Data\nage\n  extra fields not permitted (type=value_error.extra)\nbio\n  extra fields not permitted (type=value_error.extra)\nheight\n  extra fields not permitted (type=value_error.extra)",
     "output_type": "error",
     "traceback": [
      "\u001b[1;31m---------------------------------------------------------------------------\u001b[0m",
      "\u001b[1;31mValidationError\u001b[0m                           Traceback (most recent call last)",
      "\u001b[1;32mc:\\Users\\iaqc\\Data Validation with Pydantic.ipynb Cell 22\u001b[0m line \u001b[0;36m1\n\u001b[0;32m     <a href='vscode-notebook-cell:/c%3A/Users/iaqc/Data%20Validation%20with%20Pydantic.ipynb#X30sZmlsZQ%3D%3D?line=15'>16</a>\u001b[0m     \u001b[39mclass\u001b[39;00m \u001b[39mConfig\u001b[39;00m:\n\u001b[0;32m     <a href='vscode-notebook-cell:/c%3A/Users/iaqc/Data%20Validation%20with%20Pydantic.ipynb#X30sZmlsZQ%3D%3D?line=16'>17</a>\u001b[0m         extra \u001b[39m=\u001b[39m \u001b[39m'\u001b[39m\u001b[39mforbid\u001b[39m\u001b[39m'\u001b[39m\n\u001b[1;32m---> <a href='vscode-notebook-cell:/c%3A/Users/iaqc/Data%20Validation%20with%20Pydantic.ipynb#X30sZmlsZQ%3D%3D?line=18'>19</a>\u001b[0m new_user \u001b[39m=\u001b[39m User_Data\u001b[39m.\u001b[39;49mparse_raw(input_data)\n\u001b[0;32m     <a href='vscode-notebook-cell:/c%3A/Users/iaqc/Data%20Validation%20with%20Pydantic.ipynb#X30sZmlsZQ%3D%3D?line=19'>20</a>\u001b[0m display(new_user)\n",
      "File \u001b[1;32m~\\anaconda3\\envs\\Torch\\lib\\site-packages\\pydantic\\main.py:549\u001b[0m, in \u001b[0;36mpydantic.main.BaseModel.parse_raw\u001b[1;34m()\u001b[0m\n",
      "File \u001b[1;32m~\\anaconda3\\envs\\Torch\\lib\\site-packages\\pydantic\\main.py:526\u001b[0m, in \u001b[0;36mpydantic.main.BaseModel.parse_obj\u001b[1;34m()\u001b[0m\n",
      "File \u001b[1;32m~\\anaconda3\\envs\\Torch\\lib\\site-packages\\pydantic\\main.py:341\u001b[0m, in \u001b[0;36mpydantic.main.BaseModel.__init__\u001b[1;34m()\u001b[0m\n",
      "\u001b[1;31mValidationError\u001b[0m: 3 validation errors for User_Data\nage\n  extra fields not permitted (type=value_error.extra)\nbio\n  extra fields not permitted (type=value_error.extra)\nheight\n  extra fields not permitted (type=value_error.extra)"
     ]
    }
   ],
   "source": [
    "from pydantic import BaseModel,validator\n",
    "\n",
    "input_data = '''{\n",
    "                    \"user_name\": \"Gregor\",\n",
    "                    \"user_age\": 51,\n",
    "                    \"height\": 180,\n",
    "                    \"age\": 27,\n",
    "                    \"bio\": \"exciting story about Gregor\"\n",
    "                }\n",
    "             '''\n",
    "\n",
    "class User_Data(BaseModel):\n",
    "    user_name: str\n",
    "    user_age: int\n",
    "\n",
    "    class Config:\n",
    "        extra = 'forbid'\n",
    "    \n",
    "new_user = User_Data.parse_raw(input_data)\n",
    "display(new_user)\n"
   ]
  },
  {
   "cell_type": "markdown",
   "metadata": {},
   "source": [
    "### Constraining Types:\n",
    "Pydantic provides several classes to impose constraints on types, namely:\n",
    "- [conint()](https://docs.pydantic.dev/latest/api/types/#pydantic.types.conint)\n",
    "- [confloat()](https://docs.pydantic.dev/latest/api/types/#pydantic.types.confloat)\n",
    "- [conbytes()](https://docs.pydantic.dev/latest/api/types/#pydantic.types.conbytes)\n",
    "- [constr()](https://docs.pydantic.dev/latest/api/types/#pydantic.types.constr)\n",
    "- [conset()](https://docs.pydantic.dev/latest/api/types/#pydantic.types.conset)\n",
    "- [confrozenset()](https://docs.pydantic.dev/latest/api/types/#pydantic.types.confrozenset)\n",
    "- [conlist()](https://docs.pydantic.dev/latest/api/types/#pydantic.types.conlist)\n",
    "- [condecimal()](https://docs.pydantic.dev/latest/api/types/#pydantic.types.condecimal)\n",
    "- [condate()](https://docs.pydantic.dev/latest/api/types/#pydantic.types.condate)\n",
    "\n",
    "Details on those types and possible parameters to implement constraints can be found in Pydantic's documentation.\n",
    "In example below we will use conint to impose constraint on integer values."
   ]
  },
  {
   "cell_type": "code",
   "execution_count": 11,
   "metadata": {},
   "outputs": [
    {
     "ename": "ValidationError",
     "evalue": "1 validation error for User_Data\nuser_age\n  ensure this value is greater than 10 (type=value_error.number.not_gt; limit_value=10)",
     "output_type": "error",
     "traceback": [
      "\u001b[1;31m---------------------------------------------------------------------------\u001b[0m",
      "\u001b[1;31mValidationError\u001b[0m                           Traceback (most recent call last)",
      "\u001b[1;32mc:\\Users\\iaqc\\Data Validation with Pydantic.ipynb Cell 24\u001b[0m line \u001b[0;36m1\n\u001b[0;32m     <a href='vscode-notebook-cell:/c%3A/Users/iaqc/Data%20Validation%20with%20Pydantic.ipynb#X32sZmlsZQ%3D%3D?line=11'>12</a>\u001b[0m     \u001b[39m# use conint to restrict 'user_age' values\u001b[39;00m\n\u001b[0;32m     <a href='vscode-notebook-cell:/c%3A/Users/iaqc/Data%20Validation%20with%20Pydantic.ipynb#X32sZmlsZQ%3D%3D?line=12'>13</a>\u001b[0m     user_age: conint(gt\u001b[39m=\u001b[39m\u001b[39m10\u001b[39m, lt\u001b[39m=\u001b[39m\u001b[39m75\u001b[39m)\n\u001b[1;32m---> <a href='vscode-notebook-cell:/c%3A/Users/iaqc/Data%20Validation%20with%20Pydantic.ipynb#X32sZmlsZQ%3D%3D?line=14'>15</a>\u001b[0m new_user \u001b[39m=\u001b[39m User_Data\u001b[39m.\u001b[39;49mparse_raw(input_data)\n\u001b[0;32m     <a href='vscode-notebook-cell:/c%3A/Users/iaqc/Data%20Validation%20with%20Pydantic.ipynb#X32sZmlsZQ%3D%3D?line=15'>16</a>\u001b[0m display(new_user)\n",
      "File \u001b[1;32m~\\anaconda3\\envs\\Torch\\lib\\site-packages\\pydantic\\main.py:549\u001b[0m, in \u001b[0;36mpydantic.main.BaseModel.parse_raw\u001b[1;34m()\u001b[0m\n",
      "File \u001b[1;32m~\\anaconda3\\envs\\Torch\\lib\\site-packages\\pydantic\\main.py:526\u001b[0m, in \u001b[0;36mpydantic.main.BaseModel.parse_obj\u001b[1;34m()\u001b[0m\n",
      "File \u001b[1;32m~\\anaconda3\\envs\\Torch\\lib\\site-packages\\pydantic\\main.py:341\u001b[0m, in \u001b[0;36mpydantic.main.BaseModel.__init__\u001b[1;34m()\u001b[0m\n",
      "\u001b[1;31mValidationError\u001b[0m: 1 validation error for User_Data\nuser_age\n  ensure this value is greater than 10 (type=value_error.number.not_gt; limit_value=10)"
     ]
    }
   ],
   "source": [
    "# import conint class\n",
    "from pydantic import BaseModel, conint\n",
    "\n",
    "input_data = '''{\n",
    "                    \"user_name\": \"Bobby\",\n",
    "                    \"user_age\": 9\n",
    "                }\n",
    "             '''\n",
    "\n",
    "class User_Data(BaseModel):\n",
    "    user_name: str\n",
    "    # use conint to restrict 'user_age' values\n",
    "    user_age: conint(gt=10, lt=75)\n",
    "    \n",
    "new_user = User_Data.parse_raw(input_data)\n",
    "display(new_user)"
   ]
  }
 ],
 "metadata": {
  "kernelspec": {
   "display_name": "Python 3 (ipykernel)",
   "language": "python",
   "name": "python3"
  },
  "language_info": {
   "codemirror_mode": {
    "name": "ipython",
    "version": 3
   },
   "file_extension": ".py",
   "mimetype": "text/x-python",
   "name": "python",
   "nbconvert_exporter": "python",
   "pygments_lexer": "ipython3",
   "version": "3.10.11"
  },
  "orig_nbformat": 4
 },
 "nbformat": 4,
 "nbformat_minor": 2
}
