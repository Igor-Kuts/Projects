{
 "cells": [
  {
   "cell_type": "markdown",
   "id": "3858020a-2a4e-4406-93f5-f14e835b63dd",
   "metadata": {},
   "source": [
    "#  Lazy Prim's Minimum Spanning Tree\n",
    "\n",
    "Prim's is a greedy (always selects the next best edge) MST algorithm that works well <font color=\"gold\" size=\"3\"><b>on dense graphs</b></font> . On these graphs, Prim's meets or improves on the time bounds of its popular rivals (Kruskal's & Boruvka's)\n",
    "\n",
    "However, when it comes to finding the **minimum spanning forest** on a disconnected graph, Prim's cannot do this as easily (the algorithm must be run on each connected component individually). And it is not easily parallelizable.\n",
    "\n",
    "The <font color=\"orange\" size=\"3\"><b>lazy</b></font> version of Prim's has a time complexity of <font color=\"orange\" size=\"3\"><b>O(E * log( E ))</b></font>\n",
    "\n",
    "Given an **undirected graph** with weighted edges, a <font color=\"66C5FF\" size=\"3\"><b>Minimum Spanning Tree</b></font> (MST) is a subset of the edges in the graph which connects all vertices together (without creating any cycles) while <u>minimizing the total edge cost</u>.  \n",
    "\n",
    "**Note**: It is not uncommon for a graph to have multiple MSTs of equal costs"
   ]
  },
  {
   "cell_type": "code",
   "execution_count": 1,
   "id": "ea5209fd-6dd6-463e-bb81-60a5ade426ef",
   "metadata": {
    "tags": []
   },
   "outputs": [],
   "source": [
    "# Undirected weighted graph as an example\n",
    "graph = {\n",
    "    0: [(1, 10), (2, 1), (3, 4)],\n",
    "    1: [(0, 10), (2, 3), (4, 0)],\n",
    "    2: [(0, 1), (1, 3), (3, 2), (5, 8)],\n",
    "    3: [(0 ,4), (2, 2), (5, 2), (6, 7)],\n",
    "    4: [(1, 0), (5, 1), (7, 8),],\n",
    "    5: [(2, 8), (4, 1), (6, 6), (7, 9)],\n",
    "    6: [(3, 7), (5, 6), (7, 12)],\n",
    "    7: [(4, 8), (5, 9), (6, 12)]\n",
    "}"
   ]
  },
  {
   "cell_type": "code",
   "execution_count": 2,
   "id": "fb737759-5267-4de3-acc2-f2e3e3e4f8cc",
   "metadata": {
    "tags": []
   },
   "outputs": [],
   "source": [
    "import heapq\n",
    "\n",
    "def lazy_prims(graph, start=0):\n",
    "    '''\n",
    "    Find Minimum Spanning Tree for a graph, if present.\n",
    "\n",
    "    Args:\n",
    "    - graph: a dict of adjacency lists, where each key represents\n",
    "             a node with list of edges, where each tuple represents\n",
    "             an edge direction and associated weight (if any)\n",
    "             e.g., [(0, 2), (1, 5), (3, 11), (2, 8)]\n",
    "             \n",
    "    - start: optional; default = 0. Node to start exploration from.\n",
    "\n",
    "    Returns:\n",
    "    - mst_cost: Int, Combined cost of Minimum Spanning Tree\n",
    "    - mst_edges: List of tuples representing Minimum Spanning Tree,\n",
    "                 of form (node_at,(node_to, weight)).\n",
    "                 E.g.: (2, (3, 5))\n",
    "    '''\n",
    "    # Initialization.\n",
    "    pq = []                       # MinHeap PQ to store edges as tuples\n",
    "                                  # of form (node_at,(node_to, weight))\n",
    "        \n",
    "    visited = [0] * len(graph)    # Visited array\n",
    "    max_mst = len(graph) - 1      # MST length\n",
    "    edge_count = 0                # Edge counter\n",
    "    mst_cost = 0                  # Cost counter\n",
    "    mst_edges = [None] * max_mst  # Solution MST array\n",
    "    \n",
    "    def add_edges(node_id):\n",
    "        '''\n",
    "        Add all outgoing egdes from the node to the priority queue,\n",
    "        if the destination node is unvisited.\n",
    "\n",
    "        Args:\n",
    "        - node_id: Node currently being explored\n",
    "\n",
    "        Returns:\n",
    "        - None   \n",
    "    '''\n",
    "        # Mark current node as visited.\n",
    "        visited[node_id] = True\n",
    "        # Iterate over all edges going outwards from the current node.\n",
    "        neighbors = graph[node_id]\n",
    "        for edge in neighbors:\n",
    "            if not visited[edge[0]]:\n",
    "                # If destination node is unvisited,\n",
    "                # push outgoing edge to minheap.\n",
    "                # Edge[1] is used as priority key\n",
    "                heapq.heappush(pq, (edge[1], (node_id, edge))) \n",
    "                \n",
    "    # Begin exploration from the 'start' node\n",
    "    add_edges(start)\n",
    "    # While PQ is not empty and MST is not complete\n",
    "    while len(pq) != 0 and edge_count != max_mst:\n",
    "        # Grab edge with minimal weight\n",
    "        edge = heapq.heappop(pq)[1]\n",
    "        node_id = edge[1][0]\n",
    "        \n",
    "        # If destination node is unvisited\n",
    "        if visited[node_id]: continue\n",
    "        \n",
    "        # Update counters\n",
    "        mst_edges[edge_count] = edge\n",
    "        edge_count += 1\n",
    "        mst_cost += edge[1][1]\n",
    "        # Add edges to PQ\n",
    "        add_edges(node_id)\n",
    "        \n",
    "    if edge_count != max_mst:\n",
    "        return (None, None) # No MST exists!\n",
    "    \n",
    "    return (mst_cost, mst_edges)"
   ]
  },
  {
   "cell_type": "code",
   "execution_count": 3,
   "id": "be70d3ed-9e9d-4527-950a-5ba2ae546acc",
   "metadata": {
    "tags": []
   },
   "outputs": [
    {
     "name": "stdout",
     "output_type": "stream",
     "text": [
      "MST edges:\n",
      "0 -> (2, 1)\n",
      "2 -> (3, 2)\n",
      "3 -> (5, 2)\n",
      "5 -> (4, 1)\n",
      "4 -> (1, 0)\n",
      "5 -> (6, 6)\n",
      "4 -> (7, 8)\n",
      "\n",
      "MST cost: 20\n"
     ]
    }
   ],
   "source": [
    "cost, edges = lazy_prims(graph)\n",
    "\n",
    "if cost is None:\n",
    "    print(\"No MST exists!\")\n",
    "else:\n",
    "    print(\"MST edges:\")\n",
    "    for edge in edges:\n",
    "        print(edge[0], \"->\", edge[1])#[0], 'weight', edge[1][0])\n",
    "    print(\"\\nMST cost:\", cost)"
   ]
  }
 ],
 "metadata": {
  "kernelspec": {
   "display_name": "Python 3 (ipykernel)",
   "language": "python",
   "name": "python3"
  },
  "language_info": {
   "codemirror_mode": {
    "name": "ipython",
    "version": 3
   },
   "file_extension": ".py",
   "mimetype": "text/x-python",
   "name": "python",
   "nbconvert_exporter": "python",
   "pygments_lexer": "ipython3",
   "version": "3.9.16"
  }
 },
 "nbformat": 4,
 "nbformat_minor": 5
}
