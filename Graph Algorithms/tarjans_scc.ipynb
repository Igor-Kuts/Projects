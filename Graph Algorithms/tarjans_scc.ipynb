{
 "cells": [
  {
   "cell_type": "markdown",
   "id": "1e2b456d-00b2-47db-b0a4-c4af2249554c",
   "metadata": {},
   "source": [
    "# Tarjan's Strongly Connected Components algorithm\n",
    "\n",
    "Tarjan's Strongly Connected Components algorithm implementation to find all Strongly Connected Components (SCCs) in a directed graph via Depth First Search.   \n",
    "\n",
    "The algorithm tracks the low-link values of each node and uses them to identify SCCs.  \n",
    "It returns two values: a list of low-link values and the number of SCCs found. \n",
    "\n",
    "Time Complexity: <font color=\"green\" size=\"3\"><b>O(V+E)</b></font>\n",
    "\n",
    "**Tarjan's Strongly Connected Components** can be used to <font color=\"orange\" size=\"3\"><b>analyze networks, detect cycles, and identify clusters of closely related nodes.</b></font>"
   ]
  },
  {
   "cell_type": "code",
   "execution_count": 47,
   "id": "44008619-4e57-4b80-82e9-1c171ad6205b",
   "metadata": {
    "tags": []
   },
   "outputs": [],
   "source": [
    "# directed graph as an example\n",
    "graph = {\n",
    "    0:  [(1, ), (2, )],\n",
    "    1:  [(0, ), (3, )],        \n",
    "    2:  [(0, ), (3, )],\n",
    "    3:  [(5, )],\n",
    "    4:  [(2, ), (5, ), (7, )],\n",
    "    5:  [(3, )],\n",
    "    6:  [(4, )],\n",
    "    7:  [(5, ), (6, )],\n",
    "    8:  [(7, ), (6, ), (8, )]\n",
    "}"
   ]
  },
  {
   "cell_type": "code",
   "execution_count": 48,
   "id": "ed601f55-e87b-49ed-8765-0f5c2a8a09ce",
   "metadata": {
    "tags": []
   },
   "outputs": [],
   "source": [
    "def findSCC(graph):\n",
    "    '''\n",
    "    Find all Strongly Connected Components in the given directed graph using DFS algorithm.\n",
    "\n",
    "    Args:\n",
    "    - graph:    a dict of lists, where each key represents a node with list of edges,\n",
    "                where each tuple represents and edge direction and associated weight (if any)\n",
    "                e.g., [(0, ), (1, ), (3, ), (2, )]\n",
    "\n",
    "    Returns:\n",
    "    - lowlink:  a lists, with low-link values for each node. Nodes with the same\n",
    "                low-link value represent a Strongly Connected Component\n",
    "                e.g., [0, 0, 1, 1, 2, 2, 2]\n",
    "                \n",
    "    - sccCount: an integer, representing the number of Strongly Connected Components count\n",
    "    '''\n",
    "    id_      = 0 # Give each node an id\n",
    "    sccCount = 0 # Count number of SCCs found\n",
    "    \n",
    "    UNVISITED = -1 # Track if the node vas visited or not\n",
    "    ids = [0] * len(graph)\n",
    "    lowlink = [0] * len(graph)\n",
    "    onStack   = [False] * len(graph)\n",
    "    stack     = []\n",
    "    \n",
    "    def dfs_scc(node_at):\n",
    "        '''\n",
    "        Traverse the graph using depth-first search to find SCCs.\n",
    "\n",
    "        Args:\n",
    "        - node_at: an integer representing the current node\n",
    "        \n",
    "        Returns:\n",
    "        - None\n",
    "        '''\n",
    "        nonlocal id_, UNVISITED, ids, lowlink, onStack, stack, graph, sccCount\n",
    "        \n",
    "        stack.append(node_at)\n",
    "        onStack[node_at] = True\n",
    "        lowlink[node_at]     = id_\n",
    "        ids[node_at]     = id_\n",
    "        id_             += 1\n",
    "        \n",
    "        # Visit all neighbors & min low-link on DFS callback\n",
    "        for neighbor in graph[node_at]:\n",
    "            neighbor = neighbor[0]\n",
    "            if ids[neighbor] == UNVISITED:\n",
    "                dfs_scc(neighbor)\n",
    "            if onStack[neighbor]:\n",
    "                \n",
    "                # Most important line, called on a DFS's callback \n",
    "                # Propagates low-link values through the cycle\n",
    "                lowlink[node_at] = min(lowlink[node_at], lowlink[neighbor])\n",
    "                \n",
    "        # After having visited all the neighbors of 'node_at'\n",
    "        # if we're at the start of a SCC empty the seen stack\n",
    "        # until we're back to the start of the SCC\n",
    "        if ids[node_at] == lowlink[node_at]:\n",
    "            for num in range(len(stack)):\n",
    "                node = stack.pop()\n",
    "                onStack[node] = False\n",
    "                lowlink[node] = ids[node_at]\n",
    "                if node == node_at:\n",
    "                    break\n",
    "                    \n",
    "            sccCount +=1\n",
    "                \n",
    "\n",
    "    ids = [UNVISITED for _ in ids] # Track if the node has been visited, and node's ID\n",
    "    for node in graph.keys():\n",
    "        if ids[node] == UNVISITED:\n",
    "            dfs_scc(node)\n",
    "            \n",
    "    return lowlink, sccCount"
   ]
  },
  {
   "cell_type": "code",
   "execution_count": 49,
   "id": "7bf86a78-4b00-4fbb-97bf-675af2904646",
   "metadata": {
    "tags": []
   },
   "outputs": [
    {
     "name": "stdout",
     "output_type": "stream",
     "text": [
      "Strongly Connected Components:\n",
      "SCC 0: [0, 1, 2]\n",
      "SCC 8: [8]\n",
      "SCC 2: [3, 5]\n",
      "SCC 5: [4, 6, 7]\n"
     ]
    }
   ],
   "source": [
    "lowlink, sccCount = findSCC(graph)\n",
    "\n",
    "# Use a list comprehension to group nodes by their low-link values\n",
    "scc_dict = {low: [node for node, val in enumerate(lowlink) if val == low] for low in set(lowlink)}\n",
    "\n",
    "# Print the Strongly Connected Components\n",
    "print(\"Strongly Connected Components:\")\n",
    "for scc, nodes in scc_dict.items():\n",
    "    print(f\"SCC {scc}: {nodes}\")\n"
   ]
  }
 ],
 "metadata": {
  "kernelspec": {
   "display_name": "Python 3 (ipykernel)",
   "language": "python",
   "name": "python3"
  },
  "language_info": {
   "codemirror_mode": {
    "name": "ipython",
    "version": 3
   },
   "file_extension": ".py",
   "mimetype": "text/x-python",
   "name": "python",
   "nbconvert_exporter": "python",
   "pygments_lexer": "ipython3",
   "version": "3.9.16"
  }
 },
 "nbformat": 4,
 "nbformat_minor": 5
}
