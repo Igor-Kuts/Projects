{
 "cells": [
  {
   "cell_type": "markdown",
   "id": "32520004-865a-4aa1-8d23-f86ae7f952b2",
   "metadata": {},
   "source": [
    "# Finding Tree Center\n",
    "\n",
    "<font color=\"slate\" size=\"3\"><b>Center of a tree</b></font> is always *the middle vertex or middle two vertices* in every longest path along the tree\n",
    "\n",
    "This is the kind of problem one can encounter during an interview or in competitive programming setting.\n",
    "\n",
    "Finding a tree center is a handy algorithm to know:\n",
    "- Seen in subroutines of other algorithms\n",
    "- Extremely useful in selecting the node for **Rooting a tree via DFS** to have a <u>well balanced</u> rooted tree.\n",
    "\n",
    "Trees can have 1 or 2 center nodes."
   ]
  },
  {
   "cell_type": "code",
   "execution_count": 1,
   "id": "c3be250f-4714-4b82-a933-40da30450201",
   "metadata": {
    "tags": []
   },
   "outputs": [],
   "source": [
    "# Tree represented as an undirected unweighted acyclic graph\n",
    "tree = {\n",
    "    0: [(1, )],\n",
    "    1: [(0, ), (3, ), (4, )],\n",
    "    2: [(3, )],\n",
    "    3: [(1, ), (2, ), (6, ), (7, )],\n",
    "    4: [(1, ), (5, ), (8, )],\n",
    "    5: [(4, )],\n",
    "    6: [(3, ), (9, )],\n",
    "    7: [(3, )],\n",
    "    8: [(4, )],\n",
    "    9: [(6, )]\n",
    "}"
   ]
  },
  {
   "cell_type": "code",
   "execution_count": 2,
   "id": "5bb550b4-f4a3-4f6b-acd8-503fd5564259",
   "metadata": {
    "tags": []
   },
   "outputs": [],
   "source": [
    "def tree_centers(tree):\n",
    "    '''\n",
    "    Function to find center(s) of a tree\n",
    "    \n",
    "    Args:\n",
    "    - tree: Tree represented in a form of an undirected graph \n",
    "            as a dictinary of adjacency lists, where each key represents a node\n",
    "            with list of edges, where each tuple represents an edge direction \n",
    "            and associated weight (if any)\n",
    "            e.g.: {0: [(1, 2), (2, 5)], 1: [(0, 2), (3, 4)], ...}\n",
    "    \n",
    "    Returns:\n",
    "    - centers: List, with one or two centers of a tree.\n",
    "               e.g.: [1, 3]\n",
    "    '''\n",
    "    # Array to store the degree of each node\n",
    "    degree = [0] * len(tree)\n",
    "    \n",
    "    # Array to store outermost layer of leaves\n",
    "    leaves = []\n",
    "    \n",
    "    # Calculate the degree of each node in the tree\n",
    "    for i in range(len(tree)):\n",
    "        degree[i] = len(tree[i])\n",
    "        \n",
    "        # If a node has a degree of 0 or 1, it is a leaf node\n",
    "        if degree[i] == 0 or degree[i] == 1:\n",
    "            leaves.append(i)\n",
    "            degree[i] = 0\n",
    "\n",
    "    # Counter to keep track of the number of processed nodes.\n",
    "    processed_nodes_count = len(leaves)\n",
    "    \n",
    "    # Continue the process until all nodes have been processed\n",
    "    while processed_nodes_count < (len(tree)):\n",
    "        \n",
    "        # Array to store the new layer of leaves\n",
    "        new_leaves = []\n",
    "        \n",
    "        # Process each node in the current layer of leaves\n",
    "        for node in leaves:\n",
    "            for neighbor in tree[node]:\n",
    "                neighbor = neighbor[0]\n",
    "                \n",
    "                # Decrement the degree of a neighbor node\n",
    "                degree[neighbor] = degree[neighbor] - 1\n",
    "                \n",
    "                # If degree becomes 1, add it to the new layer\n",
    "                if degree[neighbor] == 1:\n",
    "                    new_leaves.append(neighbor)\n",
    "                    \n",
    "            # Set degree of processed node to zero.\n",
    "            degree[node] = 0\n",
    "            \n",
    "        # Update the count of processed nodes\n",
    "        processed_nodes_count += len(new_leaves)\n",
    "        \n",
    "        # The remaining nodes in the new layer of leaves are the centers of the tree\n",
    "        centers = new_leaves\n",
    "\n",
    "    return centers"
   ]
  },
  {
   "cell_type": "code",
   "execution_count": 4,
   "id": "7c8f6db3-a13c-4762-950b-b39f74b96aa9",
   "metadata": {
    "tags": []
   },
   "outputs": [
    {
     "name": "stdout",
     "output_type": "stream",
     "text": [
      "[1, 3]\n"
     ]
    }
   ],
   "source": [
    "centers = tree_centers(tree)\n",
    "print(centers)"
   ]
  }
 ],
 "metadata": {
  "kernelspec": {
   "display_name": "Python 3 (ipykernel)",
   "language": "python",
   "name": "python3"
  },
  "language_info": {
   "codemirror_mode": {
    "name": "ipython",
    "version": 3
   },
   "file_extension": ".py",
   "mimetype": "text/x-python",
   "name": "python",
   "nbconvert_exporter": "python",
   "pygments_lexer": "ipython3",
   "version": "3.9.16"
  }
 },
 "nbformat": 4,
 "nbformat_minor": 5
}
