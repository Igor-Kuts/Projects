{
 "cells": [
  {
   "cell_type": "markdown",
   "id": "84ee9422-14e5-407a-8784-64054420fe43",
   "metadata": {},
   "source": [
    "# Rooting a Tree\n",
    "\n",
    "Rooting a tree on the <u>undirected acyclic graph</u> is a fundamental operation which can help to add structure to the problem at hand.\n",
    "\n",
    "Conceptually it is like \"picking up\" the tree by a specific node and having all the edges point downwards:\n",
    "\n",
    "A Tree can be rooted using any of it's nodes. But not every node choice will result in a well-balanced tree.\n",
    "\n",
    "It is also useful to keep a reference to the parent node in order to walk up the tree.\n",
    "\n",
    "Rooting a tree is easily done via the **Depth First Search**:"
   ]
  },
  {
   "cell_type": "code",
   "execution_count": 8,
   "id": "eff637cf-fc5e-49e1-81cb-28850e610ee9",
   "metadata": {
    "tags": []
   },
   "outputs": [],
   "source": [
    "# Undirected unweighted graph as an example\n",
    "graph = {\n",
    "    0: [(1, ), (2, ), (5, )],\n",
    "    1: [(0, )],\n",
    "    2: [(0, ), (3, )],\n",
    "    3: [(2, )],\n",
    "    4: [(5, )],\n",
    "    5: [(0, ), (4, ), (6, )],\n",
    "    6: [(5, )]\n",
    "}"
   ]
  },
  {
   "cell_type": "code",
   "execution_count": 9,
   "id": "84695768-bdcc-41b1-a46b-0276a7eadbff",
   "metadata": {
    "tags": []
   },
   "outputs": [],
   "source": [
    "def root_tree(graph, root_id):\n",
    "    '''\n",
    "    Function for rooting an acyclic undirected graph.\n",
    "    \n",
    "    Args:\n",
    "    - graph:   A dictinary of adjacency lists, where each key represents a node\n",
    "               with list of edges, where each tuple represents an edge direction \n",
    "               and associated weight (if any)\n",
    "               e.g.: [(0, 2), (1, 5), (3, 11), (2, 8)]\n",
    "    - root_id: Index of a node to perform rooting from.\n",
    "    \n",
    "    Returns:\n",
    "    - root:    List, root node of a rooted tree of form: [node, parent, [children]]\n",
    "               e.g.: [0, None, [1, 2, 5]] - Root node has no parents.\n",
    "    '''\n",
    "    class tree_node:\n",
    "        '''\n",
    "        Tree_node class object\n",
    "            \n",
    "        Parameters:\n",
    "            \n",
    "        - self.id:       Unique integer to indentify a node\n",
    "        - self.parent:   Pointer to parent tree_node object. Only the\n",
    "                           root node has a 'None' parent tree_node reference\n",
    "        - self.children: List of pointers to child tree_nodes\n",
    "        '''\n",
    "        def __init__(self, node_id, parent, children):\n",
    "            self.id = node_id\n",
    "            self.parent = parent\n",
    "            self.children = [] \n",
    "    \n",
    "        def print_tree(self, indent='', last=True):\n",
    "            '''\n",
    "            Prints the tree structure starting from the current node in a hierarchical format.\n",
    "    \n",
    "            Args:\n",
    "            - indent: String representing the indentation for the current node.\n",
    "            - last:   Boolean indicating if the current node is the last child of its parent.\n",
    "                      Determines the marker used for the current node.\n",
    "            '''\n",
    "            marker = '└─ ' if last else '├─ '\n",
    "            print(f\"{indent}{marker}{self.id}\")\n",
    "            indent += '    ' if last else '│   '\n",
    "            child_count = len(self.children)\n",
    "            for index, child in enumerate(self.children):\n",
    "                last_child = index == child_count - 1\n",
    "                child.print_tree(indent, last_child)\n",
    "                \n",
    "        def __repr__(self):\n",
    "            '''\n",
    "            Returns a string representation of the tree node object.\n",
    "            The string representation includes the node id, parent id (if parent exists), and a list of children ids.\n",
    "            '''\n",
    "            return str((self.id,\n",
    "                        self.parent.id if self.parent else None,\n",
    "                        [child.id for child in self.children]))\n",
    "            \n",
    "    def build_tree(graph, node, parent):\n",
    "        '''\n",
    "        Helper function to recursively build a tree via\n",
    "        the Depth First Search algorithm.\n",
    "        '''\n",
    "        for child_id in graph[node.id]:\n",
    "            if parent is not None and child_id[0] == parent.id: continue\n",
    "            child = tree_node(child_id[0], node, [])\n",
    "            node.children.append(child)\n",
    "            build_tree(graph, child, child.parent)\n",
    "        return node\n",
    "    \n",
    "    root_node = tree_node(root_id, None, [])\n",
    "    root = build_tree(graph, root_node, None)\n",
    "    \n",
    "    return root"
   ]
  },
  {
   "cell_type": "code",
   "execution_count": 10,
   "id": "7fd6a2dd-87c0-4b4e-9439-c9f2f2f01947",
   "metadata": {
    "tags": []
   },
   "outputs": [
    {
     "name": "stdout",
     "output_type": "stream",
     "text": [
      "Root node: (1, None, [0]) \n",
      "\n",
      "Rooted tree:\n",
      "└─ 1\n",
      "    └─ 0\n",
      "        ├─ 2\n",
      "        │   └─ 3\n",
      "        └─ 5\n",
      "            ├─ 4\n",
      "            └─ 6\n"
     ]
    }
   ],
   "source": [
    "root = root_tree(graph, 1)\n",
    "print('Root node:', root,'\\n\\nRooted tree:')\n",
    "root.print_tree()"
   ]
  }
 ],
 "metadata": {
  "kernelspec": {
   "display_name": "Python 3 (ipykernel)",
   "language": "python",
   "name": "python3"
  },
  "language_info": {
   "codemirror_mode": {
    "name": "ipython",
    "version": 3
   },
   "file_extension": ".py",
   "mimetype": "text/x-python",
   "name": "python",
   "nbconvert_exporter": "python",
   "pygments_lexer": "ipython3",
   "version": "3.9.16"
  }
 },
 "nbformat": 4,
 "nbformat_minor": 5
}
