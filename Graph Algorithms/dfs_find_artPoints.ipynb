{
 "cells": [
  {
   "cell_type": "markdown",
   "id": "a9e4788c-faa8-42ae-b29c-a6e56f71c62f",
   "metadata": {
    "tags": []
   },
   "source": [
    "# Find Articulation Points via DFS"
   ]
  },
  {
   "cell_type": "markdown",
   "id": "3b4ff0b9-42ec-440c-a498-1376c3785b3e",
   "metadata": {},
   "source": [
    "**Articulation point / cut vertex** is any node in the graph whose removal increases the number of connected components.\n",
    "\n",
    "<font color=\"darkblue\" size=\"3\"><b>Bridges and articulation points</b></font> are important in graph theory because <font color=\"orange\" size=\"3\"><b>they often hint at weak points, bottlenecks or vulnerabilities in a graph</b></font>. Therefore, it is important to be able to quickly find/detect when and where these occur."
   ]
  },
  {
   "cell_type": "code",
   "execution_count": 1,
   "id": "6c19ee5a-5cb2-4151-98fa-858e4d9feecb",
   "metadata": {
    "tags": []
   },
   "outputs": [],
   "source": [
    "# undirected / bidirectional graph as an example\n",
    "graph = {\n",
    "    0:  [(1, ), (2, )],\n",
    "    1:  [(0, ), (2, ), (3, )],        \n",
    "    2:  [(0, ), (1, )],\n",
    "    3:  [(1, ), (4, ), (5, )],\n",
    "    4:  [(3, ), (5, ), (6, )],\n",
    "    5:  [(3, ), (4, ), (6, )],\n",
    "    6:  [(4, ), (5, )]\n",
    "}"
   ]
  },
  {
   "cell_type": "code",
   "execution_count": 2,
   "id": "589af9e7-1d65-469e-acb6-d86b1422432d",
   "metadata": {
    "tags": []
   },
   "outputs": [],
   "source": [
    "def find_ArtPoints(graph):\n",
    "    '''\n",
    "    Find all Articulation points in the given undirected graph using DFS algorithm.\n",
    "\n",
    "    Args:\n",
    "    - graph: a dict of lists, where each key represents a node with list of edges,\n",
    "             where each tuple represents and edge direction and associated weight\n",
    "             e.g., [(0, 1), (1, 5), (3, 2), (2, 7)]\n",
    "\n",
    "    Returns:\n",
    "    - isArt: a list of booleans, where each True/False at idx [i] represents,\n",
    "             if a node [i] in a graph is an Articulation Point or not\n",
    "             e.g., [False, False, True, ... False]\n",
    "    '''\n",
    "\n",
    "    def dfs(node, parent):\n",
    "        '''\n",
    "        Traverse the graph using depth-first search to find bridges.\n",
    "\n",
    "        Args:\n",
    "        - node: an integer representing the current node\n",
    "        - parent: an integer representing the previous node\n",
    "\n",
    "        Returns:\n",
    "        - None\n",
    "        '''\n",
    "\n",
    "        nonlocal id_, ids, low, visited, outEdgeCount, isArt\n",
    "        \n",
    "        if parent == node: outEdgeCount += 1\n",
    "        visited[node] = True\n",
    "        low[node] = id_\n",
    "        ids[node] = id_\n",
    "        id_ += 1\n",
    "\n",
    "        for neighbor in graph[node]:\n",
    "            neighbor = neighbor[0]\n",
    "            if neighbor == parent:\n",
    "                continue\n",
    "\n",
    "            if not visited[neighbor]:\n",
    "                dfs(neighbor, node)\n",
    "                low[node] = min(low[node], low[neighbor])\n",
    "                '''\n",
    "                In real implementation it is better to encapsulate both if statements\n",
    "                into a single clause, but here they are separated for clarity.\n",
    "                '''\n",
    "                # Articulation point found via bridge\n",
    "                if ids[node] < low[neighbor]:\n",
    "                    isArt[node] = True\n",
    "                    \n",
    "                # Articulation point found via cycle\n",
    "                if ids[node] == low[neighbor]:\n",
    "                    isArt[node] = True\n",
    "            else:\n",
    "                low[node] = min(low[node], ids[neighbor])\n",
    "\n",
    "    # Initialization\n",
    "    id_ = 0\n",
    "    outEdgeCount = 0\n",
    "    ids = [0] * len(graph)\n",
    "    low = [0] * len(graph)\n",
    "    visited = [False] * len(graph)\n",
    "    isArt   = [False] * len(graph)\n",
    "\n",
    "    # Find bridges in each connected component of the graph\n",
    "    for node in range(len(graph)):\n",
    "        if not visited[node]:\n",
    "            outEdgeCount = 0 # Reset edge count for every connected component\n",
    "            dfs(node, -1)\n",
    "            isArt[node] = (outEdgeCount > 1) # if i an ArtPoint, depending on the number of outgoing edges\n",
    "            \n",
    "    return isArt"
   ]
  },
  {
   "cell_type": "code",
   "execution_count": 7,
   "id": "01870a14-828d-45fb-8c5b-3714af7ecf12",
   "metadata": {
    "tags": []
   },
   "outputs": [
    {
     "name": "stdout",
     "output_type": "stream",
     "text": [
      "Found Articulation Point at:\n",
      "Node: 1\n",
      "Node: 3\n"
     ]
    }
   ],
   "source": [
    "isArt = find_ArtPoints(graph)\n",
    "if True in isArt:\n",
    "    print(f'Found Articulation Point at:')\n",
    "    for idx, val in enumerate(isArt):\n",
    "        if val == True:\n",
    "            print(f'Node: {idx}')\n",
    "else:\n",
    "    print(f'No Articulation Points were found')"
   ]
  }
 ],
 "metadata": {
  "kernelspec": {
   "display_name": "Python 3 (ipykernel)",
   "language": "python",
   "name": "python3"
  },
  "language_info": {
   "codemirror_mode": {
    "name": "ipython",
    "version": 3
   },
   "file_extension": ".py",
   "mimetype": "text/x-python",
   "name": "python",
   "nbconvert_exporter": "python",
   "pygments_lexer": "ipython3",
   "version": "3.9.16"
  }
 },
 "nbformat": 4,
 "nbformat_minor": 5
}
