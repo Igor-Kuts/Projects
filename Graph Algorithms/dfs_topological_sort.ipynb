{
 "cells": [
  {
   "cell_type": "markdown",
   "id": "3be2d05e-827c-45cd-b101-eb5af737c82c",
   "metadata": {
    "tags": []
   },
   "source": [
    "## Topological Sort Algorithm"
   ]
  },
  {
   "cell_type": "markdown",
   "id": "f6808cad-c8bb-40af-9441-ed4582796b7e",
   "metadata": {},
   "source": [
    "**Topological Sort** algorithm is used to sort graphs in topological order.\n",
    "\n",
    "Topological Sort **is only applicable to DAGs**. \n",
    "\n",
    "Time complexity:<font color=\"green\"><b> O(V+E)</b> </font>\n",
    "\n",
    "\n",
    "1. Pick an unvisited node\n",
    "2. Beginning with the selected node, do a Depth First Search, exploring only unvisited nodes.\n",
    "3. On the recursive callback of the DFS, add the current node to the topological ordering in reverse order."
   ]
  },
  {
   "cell_type": "code",
   "execution_count": 30,
   "id": "1df01d60-0a0b-4f6d-905d-bca4b8f89009",
   "metadata": {
    "tags": []
   },
   "outputs": [],
   "source": [
    "# graph as an example\n",
    "import random\n",
    "\n",
    "graph = {\n",
    "    0:  [(3, )],\n",
    "    1:  [(3, )],\n",
    "    2:  [(0, )],\n",
    "    3:  [(6, ), (7, )],\n",
    "    4:  [(0, ), (3, ), (5, )],\n",
    "    5:  [(9, ), (10, )],\n",
    "    6:  [(8, )],\n",
    "    7:  [(10,)],\n",
    "    8:  [(11, )],\n",
    "    9:  [(11, ), (12, )],\n",
    "    10: [(9,)],\n",
    "    11: [],\n",
    "    12: []\n",
    "}\n",
    "for node, edges in graph.items():\n",
    "    for edge in range(len(edges)):\n",
    "        weight = random.randint(1,10)\n",
    "        graph[node][edge] = (edges[edge][0], weight)"
   ]
  },
  {
   "cell_type": "code",
   "execution_count": 31,
   "id": "2addbd92-2500-4819-b35b-aeef30155def",
   "metadata": {
    "tags": []
   },
   "outputs": [],
   "source": [
    "def top_dfs(i, at, V, ordering, graph):\n",
    "\n",
    "    V[at] = True # mark current node we are at as visited\n",
    "    \n",
    "    neighbours = graph[at] \n",
    "    for edge in neighbours:\n",
    "        \n",
    "        # for each edge going outwards from the node we are at:\n",
    "        if V[edge[0]] == False:\n",
    "            i = top_dfs(i, edge[0], V, ordering, graph)\n",
    "            \n",
    "    ordering[i] = at\n",
    "    return i - 1"
   ]
  },
  {
   "cell_type": "code",
   "execution_count": 32,
   "id": "b44a3699-b134-4951-ab9e-65ad01afe960",
   "metadata": {
    "tags": []
   },
   "outputs": [],
   "source": [
    "def topsort_dfs(graph):\n",
    "    N = len(graph.keys())\n",
    "    V = [False for _ in range(N)] # visited nodes array\n",
    "    ordering = [0 for _ in range(N)]\n",
    "    i = N - 1 #index for odering array??\n",
    "    \n",
    "    for at in range(N):\n",
    "        if V[at] == False:\n",
    "            i = top_dfs(i, at, V, ordering, graph)\n",
    "            \n",
    "    return ordering"
   ]
  },
  {
   "cell_type": "code",
   "execution_count": 33,
   "id": "94735865-7cad-4d4e-9087-098e79ddb9e9",
   "metadata": {
    "tags": []
   },
   "outputs": [
    {
     "data": {
      "text/plain": [
       "[4, 5, 2, 1, 0, 3, 7, 10, 9, 12, 6, 8, 11]"
      ]
     },
     "execution_count": 33,
     "metadata": {},
     "output_type": "execute_result"
    }
   ],
   "source": [
    "topsort(graph)"
   ]
  }
 ],
 "metadata": {
  "kernelspec": {
   "display_name": "Python 3 (ipykernel)",
   "language": "python",
   "name": "python3"
  },
  "language_info": {
   "codemirror_mode": {
    "name": "ipython",
    "version": 3
   },
   "file_extension": ".py",
   "mimetype": "text/x-python",
   "name": "python",
   "nbconvert_exporter": "python",
   "pygments_lexer": "ipython3",
   "version": "3.9.16"
  }
 },
 "nbformat": 4,
 "nbformat_minor": 5
}
