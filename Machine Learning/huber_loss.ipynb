{
 "cells": [
  {
   "cell_type": "markdown",
   "id": "5dc4df30-d474-47b7-af0b-95d6a46d8f80",
   "metadata": {},
   "source": [
    "## Huber Loss\n",
    "\n",
    "**Huber Loss**, also known as the *Huber function* or *Huber penalty*, is a loss function that combines the properties of Mean Squared Error (MSE) and Mean Absolute Error (MAE). It is <u>often used in regression problems where outliers may be present in the data</u>. Huber Loss provides a compromise between the robustness of **MAE** and the differentiability of **MSE**.\n",
    "\n",
    "***\n",
    "Huber Loss was introduced by **P.J. Huber** in 1964 as a way to overcome the drawbacks of using either **MSE** or **MAE** alone.\n",
    "***\n",
    "\n",
    "The formula for Huber Loss is as follows:\n",
    "\n",
    "$$L_{\\delta}(y, \\hat y) = \\begin{cases} \n",
    "\\frac{1}{2}(y - \\hat y)^2 & \\text{if } |y - \\hat y)| \\leq \\delta \\\\\n",
    "\\delta \\cdot (\\mid y - \\hat y)\\mid - \\frac{1}{2}\\delta^2) & \\text{otherwise}\n",
    "\\end{cases}$$\n",
    "\n",
    "In this formula $y$ represents the true target value, $\\hat y)$ represents the predicted value, and <u>$\\delta$ is a parameter that determines the threshold for switching from quadratic to linear loss</u>.\n",
    "\n",
    "- When the absolute difference between the true and predicted values, $|y - \\hat y|$, is less than or equal to $\\delta$, Huber Loss uses the squared difference $\\frac{1}{2}(y - \\hat y)^2$ similar to MSE. This ensures that <u>small errors are penalized quadratically</u>, providing smooth and differentiable behavior.\n",
    "\n",
    "- When the absolute difference is greater than $\\delta$, Huber Loss uses the linear difference $\\delta|y - \\hat y| - \\frac{1}{2}\\delta^2$ similar to MAE. This linear behavior <u>reduces the influence of outliers</u> by penalizing them linearly instead of quadratically.\n",
    "\n",
    "- The choice of the parameter $\\delta$ determines the transition point between quadratic and linear behavior. Smaller values of $\\delta$ make the loss more robust to outliers, but also reduce the influence of genuine errors.\n",
    "\n",
    "### Additional insights on Huber Loss\n",
    "\n",
    "1. **Applications**: Huber Loss is <span style=\"font-size: 11pt; color: green; font-weight: normal\">commonly used in regression problems</span>, especially when the data may contain outliers or noise that can significantly affect the model's performance. It provides a compromise between the robustness of MAE and the differentiability of MSE.\n",
    "    * While Huber Loss reduces the impact of outliers, it <span style=\"font-size: 11pt; color: orange; font-weight: normal\">does not completely eliminate their influence</span>, which may still affect the model's performance.  \n",
    "\n",
    "2. **Computer vision**: In computer vision tasks such as object detection or image segmentation, Huber Loss can be used to handle noisy or outlier annotations.\n",
    "\n",
    "3. **Optimization**: Huber Loss is <span style=\"font-size: 11pt; color: green; font-weight: normal\">convex and continuous</span>, making it well-suited for optimization.\n",
    "\n",
    "4. **Choice of Delta**: When $\\delta$ is set to a very large value (approaching infinity), Huber Loss approximates **MSE**. Conversely, when $\\delta$ is set to zero, it becomes equivalent to **MAE**.\n",
    "5. **Differentiability**: Huber Loss <span style=\"font-size: 11pt; color: green; font-weight: normal\">is differentiable everywhere</span>, including at the transition point $|y - f(x)| = \\delta$, where the derivative smoothly switches from the derivative of **MSE** to the derivative of **MAE**.\n",
    "\n",
    "6. **Domain expertise**: The choice of the threshold parameter $\\delta$ can be challenging. <span style=\"font-size: 11pt; color: orange; font-weight: normal\">Selecting an appropriate value requires domain knowledge or experimentation</span>.\n",
    "\n",
    "\n",
    "**Below we will compute Huber Loss with the help of Numpy library.**"
   ]
  },
  {
   "cell_type": "markdown",
   "id": "15624b15-769a-46e5-b890-9072601d1180",
   "metadata": {},
   "source": [
    "### Importing libraries and preparing data"
   ]
  },
  {
   "cell_type": "code",
   "execution_count": 1,
   "id": "56e2ea04-0a01-4288-882d-3391fd9e3394",
   "metadata": {
    "tags": []
   },
   "outputs": [],
   "source": [
    "import numpy as np"
   ]
  },
  {
   "cell_type": "code",
   "execution_count": 2,
   "id": "7c26a253-62e8-4ff6-9d39-7220c4f2c121",
   "metadata": {
    "tags": []
   },
   "outputs": [],
   "source": [
    "y_true = [100, 100, 100, 100, 100, 100, 100, 100, 100, 100]\n",
    "y_pred = [80, 100, 90, 95, 105, 101, 110, 99, 87, 100]"
   ]
  },
  {
   "cell_type": "markdown",
   "id": "7ef4f088-7e5b-44f5-ac28-561347670703",
   "metadata": {},
   "source": [
    "### Compute Huber Loss with Numpy"
   ]
  },
  {
   "cell_type": "code",
   "execution_count": 3,
   "id": "d50f71c7-80c7-4a1a-877e-d655ed816dde",
   "metadata": {
    "tags": []
   },
   "outputs": [
    {
     "name": "stdout",
     "output_type": "stream",
     "text": [
      "Huber Loss: 40.8\n"
     ]
    }
   ],
   "source": [
    "# Create a custom function to compute Huber Loss\n",
    "def huber_loss(y_true, y_pred, delta):\n",
    "\n",
    "    loss = np.zeros_like(y_true)\n",
    "    \n",
    "    for idx in range(len(loss)):\n",
    "        residual = y_true[idx] - y_pred[idx]\n",
    "        if np.abs(residual) <= delta:\n",
    "            loss[idx] = 0.5 * (residual**2)\n",
    "        else:\n",
    "            loss[idx] = delta * (np.abs(residual) - (0.5 * (delta ** 2)))\n",
    "\n",
    "    loss = np.mean(loss)\n",
    "    return loss\n",
    "\n",
    "# Set delta parameter\n",
    "delta = 20\n",
    "\n",
    "huber_loss = huber_loss(y_true, y_pred, delta)\n",
    "\n",
    "print('Huber Loss:', huber_loss)"
   ]
  }
 ],
 "metadata": {
  "kernelspec": {
   "display_name": "Python 3 (ipykernel)",
   "language": "python",
   "name": "python3"
  },
  "language_info": {
   "codemirror_mode": {
    "name": "ipython",
    "version": 3
   },
   "file_extension": ".py",
   "mimetype": "text/x-python",
   "name": "python",
   "nbconvert_exporter": "python",
   "pygments_lexer": "ipython3",
   "version": "3.10.11"
  }
 },
 "nbformat": 4,
 "nbformat_minor": 5
}
