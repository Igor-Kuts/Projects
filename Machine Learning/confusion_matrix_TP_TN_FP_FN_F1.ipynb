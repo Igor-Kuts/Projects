{
 "cells": [
  {
   "cell_type": "markdown",
   "id": "9df64026-9197-422f-986f-fe124f0c8d6a",
   "metadata": {},
   "source": [
    "# Confusion Matrix\n",
    "\n",
    "A **Confusion Matrix** is a performance measurement tool used in machine learning and statistics to <u>evaluate the performance of a classification model</u>. It provides a summary of the model's predictions by comparing them to the true values.\n",
    "\n",
    "The confusion matrix and its associated metrics provide valuable insights into the performance of a classification model.\n",
    "\n",
    "The matrix is often represented as a table with four elements: \n",
    "1. True positives (TP)\n",
    "2. True negatives (TN)\n",
    "3. False positives (FP)\n",
    "4. False negatives (FN)\n",
    "\n",
    "#### Confusion matrix Example:\n",
    "\n",
    "|               |  Predicted Positive | Predicted Negative |\n",
    "|-----------------|---------------------|--------------------|\n",
    "| **Actual Positive** | TP                  | FN                 |\n",
    "| **Actual Negative** | FP                  | TN                 |\n",
    "\n",
    "#### Formulas:\n",
    "\n",
    "Based on the elements of the confusion matrix, various metrics can be calculated:\n",
    "\n",
    "1. **Accuracy**: It measures the overall correctness of the model's predictions. Basically it calculates the amount of correct predictions compared to all prediction. \n",
    "\n",
    "   *Accuracy* = (TP + TN) / (TP + TN + FP + FN). \n",
    "\n",
    "2. **Precision**: It indicates the proportion of correctly predicted positive instances out of the total predicted positives. \n",
    "\n",
    "   *Precision* = TP / (TP + FP)\n",
    "\n",
    "3. **Recall (Sensitivity or True Positive Rate)**: It measures the proportion of correctly predicted positive instances out of the total actual positives. \n",
    "\n",
    "   *Recall* = TP / (TP + FN)\n",
    "\n",
    "4. **Specificity (True Negative Rate)**: It measures the proportion of correctly predicted negative instances out of the total actual negatives.\n",
    "\n",
    "   *Specificity* = TN / (TN + FP)\n",
    "\n",
    "5. **F1 Score**: It is the <u>harmonic mean of precision and recall</u>, providing a balanced measure of both metrics. \n",
    "\n",
    "   *F1 Score* = 2 * (Precision * Recall) / (Precision + Recall)\n",
    "\n",
    "6. **False Positive Rate (Fallout)**: It measures the proportion of falsely predicted positive instances out of the total actual negatives. \n",
    "\n",
    "   *False Positive Rate* = FP / (TN + FP)\n",
    "\n",
    "## Implementation\n",
    "To calculate the confusion matrix and corresponding metrics, follow these steps:\n",
    "\n",
    "1. Obtain the predicted labels and the true labels for your classification model.\n",
    "\n",
    "2. Create a confusion matrix by counting the occurrences of each combination of true and predicted labels.\n",
    "\n",
    "3. Calculate the metrics using the formulas mentioned above.\n",
    "\n",
    "***\n",
    "**Below, under the spoiler, are additional insights into Confusion Matrix**. \n",
    "***\n",
    "**Then we will compute confusion matrix and corresponding metrics (Accuracy. TP, TN, FP, FN and F1) using 2 methods**:\n",
    "- With SciKit Learn library functions.\n",
    "- Via direct computation using values obtained from confusion matrix.\n",
    "\n",
    "Lastly we will compare the computational results and perform visualization.\n",
    "***"
   ]
  },
  {
   "cell_type": "markdown",
   "id": "b91a5683-dd1f-4301-98af-d057ad2f621f",
   "metadata": {
    "tags": []
   },
   "source": [
    "<details>\n",
    "<summary><span style=\"font-size: 16pt; color: black; font-weight: bold\">Additional insights on Confusion Matrix</span> </summary>\n",
    "\n",
    "1. **Evaluation of Model Performance:** <span style=\"font-size: 11t; color: green; font-weight:normal\">The confusion matrix allows for a more detailed evaluation of the performance of a classification model beyond just accuracy</span>. It provides a breakdown of correct and incorrect predictions, enabling a deeper understanding of the model's strengths and weaknesses.\n",
    "\n",
    "2. **Model Monitoring and Performance Tracking:** The confusion matrix can be used for ongoing model monitoring and performance tracking. By periodically updating the confusion matrix with new data and comparing it with previous matrices, it becomes possible to detect any shifts or changes in the model's performance over time. This allows for proactive identification of potential issues or degradation in the model's accuracy.\n",
    "\n",
    "3. **Imbalanced Classes and Rare Events:** The confusion matrix is particularly useful when dealing with imbalanced classes, where one class has significantly more instances than the other. In such cases, <span style=\"font-size: 11t; color: orange; font-weight:normal\">accuracy alone may not provide an accurate representation of the model's performance</span>. Metrics like *precision*, *recall*, and *F1* score from the confusion matrix help to assess the model's performance for each class independently.\n",
    "\n",
    "4. **Multiclass Classification:** The confusion matrix can also be applied to multiclass classification problems, where there are more than two classes. In this case, the matrix will have dimensions corresponding to the number of classes, and the metrics such as accuracy, precision, recall, and F1 score can be calculated for each class individually or averaged across all classes.\n",
    "\n",
    "5. **Threshold Selection:** In some classification problems, the model's output may not directly provide a binary classification decision. The <span style=\"font-size: 11t; color: green; font-weight:normal\">confusion matrix can help determine the optimal threshold for decision-making</span>. By adjusting the threshold, the trade-off between false positives and false negatives can be analyzed.\n",
    "\n",
    "6. **Model Comparison:** The confusion matrix allows for a direct comparison of multiple classification models. By comparing the metrics derived from the confusion matrices of different models, one can determine which model performs better in terms of accuracy, precision, recall, or other metrics.\n",
    "\n",
    "7. **Ensemble Model Analysis:** In ensemble modeling, where multiple models are combined to make predictions, the confusion matrix can be used to analyze and compare the performance of individual models and the overall ensemble. It helps identify if certain models are consistently performing better and if there are specific patterns in misclassifications that can be addressed.\n",
    "\n",
    "8. **Incremental Learning and Model Updates:** The confusion matrix can be leveraged in scenarios where the classification model needs to be updated or incrementally learned. By comparing the confusion matrices before and after model updates, one can assess the impact of the updates on the model's performance and identify areas that require further improvement.\n",
    "\n",
    "9. **Error Analysis:** The <u>confusion matrix provides insights into the types of errors made by a model</U>. By examining the false positives and false negatives, one can identify patterns and common sources of misclassification. This analysis can guide further model improvements or feature engineering.\n",
    "\n",
    "10. **Visualizations:** The confusion matrix can be visualized using heatmaps or other graphical representations, making it easier to interpret and understand the model's performance at a glance. These <span style=\"font-size: 11t; color: green; font-weight:normal\">visualizations can be helpful in communicating the model's performance to stakeholders or decision-makers.</span>\n",
    "\n",
    "</details>\n"
   ]
  },
  {
   "cell_type": "markdown",
   "id": "a7eda6d4-7a00-4f7c-b56b-883d19dd0131",
   "metadata": {},
   "source": [
    "### Importing libraries and preparing data"
   ]
  },
  {
   "cell_type": "code",
   "execution_count": 1,
   "id": "81d40a91-6d75-4815-a1e0-ad9440da4b92",
   "metadata": {
    "tags": []
   },
   "outputs": [],
   "source": [
    "import numpy as np\n",
    "import pandas as pd\n",
    "import matplotlib.pyplot as plt\n",
    "\n",
    "from sklearn.metrics import (\n",
    "    confusion_matrix,\n",
    "    accuracy_score, \n",
    "    precision_score, \n",
    "    recall_score, \n",
    "    f1_score)"
   ]
  },
  {
   "cell_type": "code",
   "execution_count": 2,
   "id": "196f9a52-2ff5-4a62-ba24-9fe9c7afa3ea",
   "metadata": {
    "tags": []
   },
   "outputs": [],
   "source": [
    "# Simulated data representing true labels and final model's predictions \n",
    "\n",
    "y_true = [0, 1, 0, 1, 1, 1, 1, 0, 1, 0, 0, 1, 0, 1, 0, 1, 0, 0, 1, 0]\n",
    "y_pred = [1, 1, 0, 1, 0, 1, 0, 0, 1, 0, 1, 1, 0, 1, 1, 0, 0, 1, 1, 0]"
   ]
  },
  {
   "cell_type": "markdown",
   "id": "b1655983-11dc-4d84-88d1-651b7b13765f",
   "metadata": {},
   "source": [
    "### Metric's computation with SKLearn"
   ]
  },
  {
   "cell_type": "code",
   "execution_count": 3,
   "id": "e0c13018-9207-4d54-b277-a9e8082786b3",
   "metadata": {
    "tags": []
   },
   "outputs": [
    {
     "name": "stdout",
     "output_type": "stream",
     "text": [
      "Accuracy with SKLearn: 0.65\n",
      "Precision with SKLearn: 0.6363636363636364\n",
      "Recall with SKLearn: 0.7\n",
      "F1 Score with SKLearn: 0.6666666666666666\n"
     ]
    }
   ],
   "source": [
    "# Computing accuracy, precision, recall and F1 score via sklearn\n",
    "# without directly accessing confusion matrix.\n",
    "\n",
    "accuracy_sklearn = accuracy_score(y_true, y_pred)\n",
    "precision_sklearn = precision_score(y_true, y_pred)\n",
    "recall_sklearn = recall_score(y_true, y_pred)\n",
    "f1_score_sklearn = f1_score(y_true, y_pred)\n",
    "\n",
    "print(\"Accuracy with SKLearn:\", accuracy_sklearn)\n",
    "print(\"Precision with SKLearn:\", precision_sklearn)\n",
    "print(\"Recall with SKLearn:\", recall_sklearn)\n",
    "print(\"F1 Score with SKLearn:\", f1_score_sklearn)"
   ]
  },
  {
   "cell_type": "markdown",
   "id": "daaf55e4-a8bc-46f4-a476-7ffea640e084",
   "metadata": {},
   "source": [
    "### Metric's computation with values from confusion matrix"
   ]
  },
  {
   "cell_type": "code",
   "execution_count": 4,
   "id": "6d3ee6a5-514d-4344-905d-a60322fe12a5",
   "metadata": {
    "tags": []
   },
   "outputs": [
    {
     "name": "stdout",
     "output_type": "stream",
     "text": [
      "Accuracy from confusion matrix: 0.65\n",
      "Precision from confusion matrix: 0.6363636363636364\n",
      "Recall from confusion matrix: 0.7\n",
      "F1 Score from confusion matrix: 0.6666666666666666\n"
     ]
    }
   ],
   "source": [
    "# Creating confusion matrix\n",
    "conf_matrix = confusion_matrix(y_true, y_pred)\n",
    "\n",
    "# Extracting values from the confusion matrix\n",
    "TN, FP, FN, TP = conf_matrix.ravel()\n",
    "\n",
    "# Computing accuracy, precision, recall and F1 score\n",
    "# With values derived from confusion matrix\n",
    "accuracy_conf_matrix = (TP + TN) / (TP + TN + FP + FN)\n",
    "precision_conf_matrix = TP / (TP + FP)\n",
    "recall_conf_matrix = TP / (TP + FN)\n",
    "f1_score_conf_matrix = 2 * (precision_conf_matrix * recall_conf_matrix) \\\n",
    "                         / (precision_conf_matrix + recall_conf_matrix)\n",
    "\n",
    "print(\"Accuracy from confusion matrix:\", accuracy_conf_matrix)\n",
    "print(\"Precision from confusion matrix:\", precision_conf_matrix)\n",
    "print(\"Recall from confusion matrix:\", recall_conf_matrix)\n",
    "print(\"F1 Score from confusion matrix:\", f1_score_conf_matrix)"
   ]
  },
  {
   "cell_type": "markdown",
   "id": "962dad8b-b482-46e0-89df-58f5c25e6d52",
   "metadata": {},
   "source": [
    "### Comparison of metric's computation"
   ]
  },
  {
   "cell_type": "code",
   "execution_count": 5,
   "id": "24f209be-36eb-4fba-aecc-4737a401f4d5",
   "metadata": {
    "tags": []
   },
   "outputs": [
    {
     "name": "stdout",
     "output_type": "stream",
     "text": [
      "Accuracy computation is the same: True\n",
      "Precision computation is the same: True\n",
      "Recall computation is the same: True\n",
      "F1 score computation is the same: True\n"
     ]
    }
   ],
   "source": [
    "print('Accuracy computation is the same:', accuracy_sklearn == accuracy_conf_matrix)\n",
    "print('Precision computation is the same:', precision_sklearn == precision_conf_matrix)\n",
    "print('Recall computation is the same:', recall_sklearn == recall_conf_matrix)\n",
    "print('F1 score computation is the same:', f1_score_sklearn == f1_score_conf_matrix)"
   ]
  },
  {
   "cell_type": "markdown",
   "id": "87370918-a31b-4adc-b2fa-58dffeb586bc",
   "metadata": {},
   "source": [
    "As we may see, results are the same. So both methods provide legitimate results."
   ]
  },
  {
   "cell_type": "markdown",
   "id": "09e8bfd4-ea46-4eae-b9db-375ddeb14d62",
   "metadata": {},
   "source": [
    "### Confusion matrix visualization with Pandas and Matplotlib"
   ]
  },
  {
   "cell_type": "code",
   "execution_count": 6,
   "id": "a5ce3882-5be5-4439-bae6-db6b3ef57b1a",
   "metadata": {},
   "outputs": [
    {
     "name": "stdout",
     "output_type": "stream",
     "text": [
      "---Confusion matrix representation---:\n",
      "\n",
      " [[6 4]\n",
      " [3 7]]\n"
     ]
    },
    {
     "data": {
      "image/png": "[encoded data removed]",
      "text/plain": [
       "<Figure size 600x400 with 2 Axes>"
      ]
     },
     "metadata": {},
     "output_type": "display_data"
    }
   ],
   "source": [
    "# Creating confusion matrix\n",
    "conf_matrix = confusion_matrix(y_true, y_pred)\n",
    "\n",
    "print('---Confusion matrix representation---:\\n\\n', conf_matrix)\n",
    "\n",
    "# Class labels\n",
    "class_labels = ['Negative', 'Positive']\n",
    "\n",
    "# Convert confusion matrix to Pandas DataFrame\n",
    "df = pd.DataFrame(conf_matrix, index=class_labels, columns=class_labels)\n",
    "\n",
    "# Visualize confusion matrix as a heatmap\n",
    "plt.figure(figsize=(6, 4))\n",
    "plt.imshow(conf_matrix, cmap='Blues')\n",
    "plt.colorbar()\n",
    "plt.title('Confusion Matrix')\n",
    "plt.xlabel('Predicted')\n",
    "plt.ylabel('Actual')\n",
    "plt.xticks(np.arange(len(class_labels)), class_labels)\n",
    "plt.yticks(np.arange(len(class_labels)), class_labels)\n",
    "plt.show()"
   ]
  }
 ],
 "metadata": {
  "kernelspec": {
   "display_name": "Python 3 (ipykernel)",
   "language": "python",
   "name": "python3"
  },
  "language_info": {
   "codemirror_mode": {
    "name": "ipython",
    "version": 3
   },
   "file_extension": ".py",
   "mimetype": "text/x-python",
   "name": "python",
   "nbconvert_exporter": "python",
   "pygments_lexer": "ipython3",
   "version": "3.10.11"
  }
 },
 "nbformat": 4,
 "nbformat_minor": 5
}
