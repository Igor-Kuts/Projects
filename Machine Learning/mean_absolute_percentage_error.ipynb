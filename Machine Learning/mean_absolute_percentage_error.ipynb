{
 "cells": [
  {
   "cell_type": "markdown",
   "id": "809507ec-1531-45ac-a001-35f11a11dc3e",
   "metadata": {},
   "source": [
    "## Mean Absolute Percentage Error\n",
    "\n",
    "**Mean Absolute Percentage Error** (MAPE) is a metric commonly used in regression tasks to evaluate the performance of a model. \n",
    "\n",
    "The Mean Absolute Percentage Error calculates the **average percentage difference** between the predicted values and the true values. By computing this metric, we can evaluate how well the model's predictions align with the actual values in terms of relative errors.\n",
    "\n",
    "The formula for MAPE is as follows:\n",
    "\n",
    "$$MAPE = \\frac{1}{N}\\sum_{i=1}^{N}\\left(\\frac{\\mid y_{i} - \\hat{y}_{i}\\mid}{\\mid y_{i}\\mid}\\right) \\times 100$$\n",
    "\n",
    "In this formula, $N$ represents the total number of samples, $y_{i}$ is the actual value, and $\\hat{y}_{i}$ is the predicted value.\n",
    "\n",
    "### Additional insights on Mean Absolute Percentage Error (MAPE):\n",
    "\n",
    "1. **Application to Regression**: MAPE is commonly used as <span style=\"font-size: 11pt; color: green; font-weight: normal\">both an evaluation metric and a loss function in regression tasks</span>.\n",
    "\n",
    "2. **Interpretability**: <span style=\"font-size: 11pt; color: green; font-weight: normal\">MAPE has a straightforward interpretation</span>. The value of MAPE represents the average percentage difference between the predicted and actual values. For example, an MAPE of 10 means, on average, the model's predictions deviate from the true values by 10% in terms of relative error.\n",
    "\n",
    "3. **Percentage Error**: Unlike MAE, which measures the absolute difference, MAPE considers the relative error in terms of percentages. This property enables us to understand the magnitude of the error in relation to the actual values. MAPE is particularly useful when we want to assess the model's performance in terms of relative accuracy.\n",
    "\n",
    "4. **Handling Zero Values**: One important consideration when using MAPE is that <span style=\"font-size: 11pt; color: red; font-weight: normal\">MAPE is not defined when the actual value, $y_{i}$, is zero</span>. This is because the formula involves division by $y_{i}$, which would result in an undefined value. Therefore, <u>MAPE may not be suitable if the dataset contains zero values</u>. Or some other modifications to the MAPE formula, like adding eps. in denominator, must be used to avoid division by zero. \n",
    "\n",
    "5. **Scale Independence**: <span style=\"font-size: 11pt; color: green; font-weight: normal\">MAPE is scale-independent</span>, meaning it does not depend on the scale of the data. <u>It allows for comparing the performance of models across different datasets or target variables</u>, as the error is expressed as a percentage.\n",
    "\n",
    "**Since PyTorch and Scikit Learn do not provide us with the dedicated function to compute MAPE, We will create a custom function to compute Mean Absolute Percentage Error using Numpy.**"
   ]
  },
  {
   "cell_type": "markdown",
   "id": "8a88eaff-fd3d-459b-8721-e027a3e8443b",
   "metadata": {
    "tags": []
   },
   "source": [
    "### Importing libraries"
   ]
  },
  {
   "cell_type": "code",
   "execution_count": 1,
   "id": "0705495b-9ab5-4f2a-aba2-0adcaab10406",
   "metadata": {
    "tags": []
   },
   "outputs": [],
   "source": [
    "import numpy as np"
   ]
  },
  {
   "cell_type": "markdown",
   "id": "9920c8d7-c42b-4977-be5b-9b95d619b4f2",
   "metadata": {
    "tags": []
   },
   "source": [
    "### Generating sythetic time series data with an upward trend"
   ]
  },
  {
   "cell_type": "code",
   "execution_count": 2,
   "id": "c03f74b0-dd15-4b8c-9827-37cc553b3791",
   "metadata": {
    "tags": []
   },
   "outputs": [],
   "source": [
    "# Simulated true and predicted values\n",
    "\n",
    "# For SkLearn and Numpy\n",
    "y_true = [100, 100, 100, 100, 100, 100, 100, 100, 100, 100]\n",
    "y_pred = [80, 100, 90, 95, 105, 101, 110, 99, 87, 100]"
   ]
  },
  {
   "cell_type": "markdown",
   "id": "60baa1ba-ec47-440e-9d36-bdab991fc3cf",
   "metadata": {},
   "source": [
    "### Computing MAPE via the custom function"
   ]
  },
  {
   "cell_type": "code",
   "execution_count": 3,
   "id": "708ca2b1-a9b2-420e-b5f8-759cbae44d62",
   "metadata": {
    "tags": []
   },
   "outputs": [
    {
     "name": "stdout",
     "output_type": "stream",
     "text": [
      "Mean Absolute Percentage Error: 6.5\n"
     ]
    }
   ],
   "source": [
    "# Create a custom function to compute sMAPE\n",
    "def MAPE(y_true, y_pred):\n",
    "    y_true, y_pred = np.array(y_true), np.array(y_pred)\n",
    "    assert y_true.shape[0] == y_pred.shape[0], 'y_true and y_pred should have equal number of items'\n",
    "    N = y_true.shape[0]\n",
    "    enom = np.abs(y_true - y_pred)\n",
    "    denom = np.abs(y_true)\n",
    "    MAPE = np.sum((enom / denom) / N) * 100\n",
    "    return round(MAPE, 2)\n",
    "\n",
    "# Calculate SMAPE\n",
    "MAPE = MAPE(y_true, y_pred)\n",
    "\n",
    "print('Mean Absolute Percentage Error:', MAPE)"
   ]
  },
  {
   "cell_type": "markdown",
   "id": "ed4bc60e-1fb8-4869-bd49-4e581b449b5a",
   "metadata": {},
   "source": [
    "MAPE of 6.5 indicates that, on average, the model's predictions deviate from the true values by approximately 6.5%.  \n",
    "\n",
    "This means that, **for each prediction, the model's output is expected to differ from the actual value by an average of 6.5%** in terms of relative error."
   ]
  }
 ],
 "metadata": {
  "kernelspec": {
   "display_name": "Python 3 (ipykernel)",
   "language": "python",
   "name": "python3"
  },
  "language_info": {
   "codemirror_mode": {
    "name": "ipython",
    "version": 3
   },
   "file_extension": ".py",
   "mimetype": "text/x-python",
   "name": "python",
   "nbconvert_exporter": "python",
   "pygments_lexer": "ipython3",
   "version": "3.10.11"
  }
 },
 "nbformat": 4,
 "nbformat_minor": 5
}
