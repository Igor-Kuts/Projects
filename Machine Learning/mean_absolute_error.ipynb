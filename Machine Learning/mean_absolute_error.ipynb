{
 "cells": [
  {
   "cell_type": "markdown",
   "id": "6299e3ae-4183-4650-ad93-91001e26413a",
   "metadata": {},
   "source": [
    "## Mean Absolute Error (MAE) Loss\n",
    "\n",
    "**Mean Absolute Error** (MAE), also known as **L1 Loss** is a popular loss function used in <u>regression tasks</u>, where the goal is to predict continuous numerical values. It measures the average absolute difference between the predicted values and the actual values.\n",
    "\n",
    "The MAE loss is calculated by taking the average of the absolute differences between each predicted value and its corresponding actual value.  \n",
    "\n",
    "The formula for MAE is as follows:\n",
    "\n",
    "$$MAE = \\frac{1}{N}\\sum_{i=1}^{N}\\mid y_{i} - \\hat{y}_{i}\\mid$$\n",
    "\n",
    "In this formula, $N$ represents the total number of samples, $y_{i}$ is the actual value, and $\\hat{y}_{i}$ is the predicted value.\n",
    "\n",
    "The Mean Absolute Error loss <u>quantifies the overall average absolute difference between the predicted values and the true values</u>. By minimizing this loss, the model aims to reduce the discrepancy between its predictions and the actual values.\n",
    "\n",
    "### Additional Insights on Mean Absolute Error (MAE):\n",
    "\n",
    "1. **Application to Regression**: MAE is commonly used as <span style=\"font-size: 10pt; color: green; font-weight: normal\">both an evaluation metric and a loss function in regression tasks</span>.\n",
    "\n",
    "2. **Interpretability**: <span style=\"font-size: 10pt; color: green; font-weight: normal\">MAE has a straightforward interpretation</span>. The value of MAE represents the average absolute difference between the predicted and actual values. For example, an MAE of 5 means, on average, the model's predictions deviate from the true values by 5 units.\n",
    "\n",
    "3. **Units of Measurement**: <span style=\"font-size: 10pt; color: green; font-weight: normal\">The units of MAE are the same as the units of the target variable</span>. This property makes it easier to interpret the magnitude of the error in the context of the problem domain.\n",
    "\n",
    "4. **Robustness to Outliers**: <span style=\"font-size: 10pt; color: green; font-weight: normal\">MAE is robust to outliers</span> compared to Mean Squared Error. In MSE, the squared differences amplify the impact of outliers, whereas <span style=\"font-size: 10pt; color: green; font-weight: normal\">MAE treats all errors equally</span>, regardless of their magnitude.   \n",
    "Therefore, <u>MAE provides a more robust measure of error when dealing with data containing extreme values</u>.\n",
    "\n",
    "5. **Robustness to Scale**: <span style=\"font-size: 10pt; color: green; font-weight: normal\">MAE is not sensitive to the scale of the data</span>. Unlike MSE, which depends on squared differences, MAE treats all errors equally regardless of their scale. This characteristic makes MAE a suitable choice when the scale of the data varies significantly or when the magnitude of errors is equally important regardless of their scale.\n",
    "\n",
    "6. **Gradient Behavior**: MAE is less smooth compared to MSE. Since MAE does not involve squared differences, <span style=\"font-size: 10pt; color: orange; font-weight: normal\">its derivative is not continuous at zero</span>. This characteristic can make optimization more challenging, particularly when using gradient-based methods such as backpropagation. However, subgradients can be used to address this issue.\n",
    "\n",
    "7. **Computational Efficiency**: <span style=\"font-size: 10pt; color: green; font-weight: normal\">MAE is computationally efficient compared to MSE</span>. Since MAE does not involve squaring the differences, it avoids the computation of expensive square operations, making it faster to compute. <u>This can be particularly beneficial when working with large datasets or complex models</u>.\n",
    "\n",
    "**Below we will use three different methods to compute Mean Absolute Error and compare the results**."
   ]
  },
  {
   "cell_type": "markdown",
   "id": "bf8b59e9-7ad7-4278-aa9c-1ffc5f29a3b5",
   "metadata": {},
   "source": [
    "### Importing libraries and preparing data"
   ]
  },
  {
   "cell_type": "code",
   "execution_count": 1,
   "id": "32455333-3424-43ac-947a-c753b25ecfad",
   "metadata": {
    "tags": []
   },
   "outputs": [],
   "source": [
    "import torch\n",
    "import numpy as np\n",
    "from sklearn.metrics import mean_absolute_error"
   ]
  },
  {
   "cell_type": "code",
   "execution_count": 2,
   "id": "64c2228b-5201-4476-9cbd-d88366d6c7a0",
   "metadata": {
    "tags": []
   },
   "outputs": [],
   "source": [
    "# Simulated true values and predicted values\n",
    "\n",
    "# For PyTorch\n",
    "y_true_torch = torch.tensor([100, 100, 100, 100, 100, 100, 100, 100, 100, 100], dtype=torch.float32)\n",
    "y_pred_torch = torch.tensor([80, 100, 90, 95, 105, 101, 110, 99, 87, 100], dtype=torch.float32)\n",
    "\n",
    "# For SkLearn and Numpy\n",
    "y_true = [100, 100, 100, 100, 100, 100, 100, 100, 100, 100]\n",
    "y_pred = [80, 100, 90, 95, 105, 101, 110, 99, 87, 100]"
   ]
  },
  {
   "cell_type": "markdown",
   "id": "84c9e28c-e2b4-416b-a95e-a49c8941d9eb",
   "metadata": {},
   "source": [
    "### Compute Mean Absolute Error Loss with PyTorch"
   ]
  },
  {
   "cell_type": "code",
   "execution_count": 3,
   "id": "b16d0867-69d2-4134-8752-32654e0e7de3",
   "metadata": {
    "tags": []
   },
   "outputs": [
    {
     "name": "stdout",
     "output_type": "stream",
     "text": [
      "Mean Absolute Error Loss: 6.5\n"
     ]
    }
   ],
   "source": [
    "# Create an instance of MAELoss\n",
    "mae_loss = torch.nn.L1Loss()\n",
    "\n",
    "# Use it to compute MAE\n",
    "torch_mae = mae_loss(y_true_torch, y_pred_torch).item()\n",
    "\n",
    "# Round the result to 1 decimal number\n",
    "torch_mae = round(torch_mae, 1)\n",
    "\n",
    "print('Mean Absolute Error Loss:', torch_mae)"
   ]
  },
  {
   "cell_type": "markdown",
   "id": "74aff64b-98c9-4c14-b090-31adaeaf966c",
   "metadata": {},
   "source": [
    "### Compute Mean Absolute Error Loss with SciKit-Learn"
   ]
  },
  {
   "cell_type": "code",
   "execution_count": 4,
   "id": "d4b890fb-7c30-4a43-b928-b55ded62bb98",
   "metadata": {
    "tags": []
   },
   "outputs": [
    {
     "name": "stdout",
     "output_type": "stream",
     "text": [
      "Mean Absolute Error Loss: 6.5\n"
     ]
    }
   ],
   "source": [
    "# Use mean_absolute_error function from sklearn to compute MAE\n",
    "sklearn_mae = mean_absolute_error(y_true, y_pred)\n",
    "\n",
    "print('Mean Absolute Error Loss:', sklearn_mae)"
   ]
  },
  {
   "cell_type": "markdown",
   "id": "d32312ed-5c16-46f9-a926-b5a82827f037",
   "metadata": {
    "tags": []
   },
   "source": [
    "### Compute Mean Absolute Error Loss with Numpy"
   ]
  },
  {
   "cell_type": "code",
   "execution_count": 5,
   "id": "0ef04ccd-2388-406a-b5f8-86881280a91a",
   "metadata": {
    "tags": []
   },
   "outputs": [
    {
     "name": "stdout",
     "output_type": "stream",
     "text": [
      "Mean Absolute Error Loss: 6.5\n"
     ]
    }
   ],
   "source": [
    "# Create a custom function to compute MAE\n",
    "def mean_absolute_err(y_true, y_pred):\n",
    "    y_true, y_pred = np.array(y_true), np.array(y_pred)\n",
    "    return np.mean(abs(y_true - y_pred))\n",
    "\n",
    "numpy_mae = mean_absolute_err(y_true, y_pred)\n",
    "\n",
    "print('Mean Absolute Error Loss:', numpy_mae)"
   ]
  },
  {
   "cell_type": "markdown",
   "id": "becf0f57-da94-486f-b67d-bdcc12e932a5",
   "metadata": {},
   "source": [
    "### Comparison of the MAE computation results between PyTorch, Sci-kit Learn and Numpy"
   ]
  },
  {
   "cell_type": "markdown",
   "id": "9960bc1e-487d-4351-ad9b-41a3cc3577fc",
   "metadata": {},
   "source": [
    "Let's compare computed Mean Absolute Error values."
   ]
  },
  {
   "cell_type": "code",
   "execution_count": 6,
   "id": "3eba5dba-fd2e-4c98-86b0-08ebebde4cf8",
   "metadata": {
    "tags": []
   },
   "outputs": [
    {
     "data": {
      "text/plain": [
       "True"
      ]
     },
     "execution_count": 6,
     "metadata": {},
     "output_type": "execute_result"
    }
   ],
   "source": [
    "torch_mae == sklearn_mae == numpy_mae"
   ]
  },
  {
   "cell_type": "markdown",
   "id": "1bb50d4f-cad8-4076-9221-2704ea25c750",
   "metadata": {},
   "source": [
    "All three different method of computation of MAE provided the same result."
   ]
  }
 ],
 "metadata": {
  "kernelspec": {
   "display_name": "Python 3 (ipykernel)",
   "language": "python",
   "name": "python3"
  },
  "language_info": {
   "codemirror_mode": {
    "name": "ipython",
    "version": 3
   },
   "file_extension": ".py",
   "mimetype": "text/x-python",
   "name": "python",
   "nbconvert_exporter": "python",
   "pygments_lexer": "ipython3",
   "version": "3.10.11"
  }
 },
 "nbformat": 4,
 "nbformat_minor": 5
}
