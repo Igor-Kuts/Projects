{
 "cells": [
  {
   "cell_type": "markdown",
   "id": "809507ec-1531-45ac-a001-35f11a11dc3e",
   "metadata": {},
   "source": [
    "# Symmetric Mean Absolute Percentage Error\n",
    "\n",
    "**Symmetric Mean Absolute Percentage Error** (SMAPE) is a statistical measure used to evaluate the accuracy of forecasted or predicted values in comparison to the actual values. SMAPE is commonly used in forecasting, demand planning, and time series analysis.\n",
    "\n",
    "The formula for SMAPE is as follows:\n",
    "\n",
    "$$\n",
    "SMAPE = \\frac{{1}}{{n}} \\sum_{i=1}^{N} \\frac{{\\mid y_{i} - \\hat y_{i} \\mid}}{{(\\mid y_{i} \\mid + \\mid \\hat y_{i} \\mid) \\space / \\space2}} \\times 100\\%\n",
    "$$\n",
    "\n",
    "\n",
    "\n",
    "In this formula, $N$ represents the total number of samples, $y_{i}$ is the actual value, and $\\hat{y}_{i}$ is the predicted value.\n",
    "\n",
    "Symmetric Mean Absolute Percentage Error is calculated by taking the absolute difference between the predicted and true values, dividing it by the sum of their absolute values, and multiplying by 100% to express the error as a percentage.\n",
    "\n",
    "Symmetric Mean Absolute Percentage Error represents the average of individual percentage errors, thus providing a measure of accuracy that <u>considers both overestimation and underestimation errors equally</u>.\n",
    "\n",
    "The SMAPE value ranges from 0% to 100%. A lower SMAPE indicates a better forecast accuracy, with 0% representing a perfect match between the forecasted and actual values.\n",
    "\n",
    "### Additional insights about SMAPE:\n",
    "\n",
    "1. **Symmetry**: SMAPE is designed to be symmetric, meaning it considers both overestimation and underestimation errors equally. This is achieved by using the absolute values in the numerator and denominator.\n",
    "\n",
    "2. **Interpretation**: SMAPE is useful for comparing the accuracy of different forecasting models or methods. It provides a standardized measure that can be easily interpreted and compared across different datasets.\n",
    "\n",
    "3. **Percentage Error**: SMAPE expresses the error as a percentage of the forecasted and actual values. This makes it easier to understand the relative magnitude of the error compared to the size of the values being forecasted.\n",
    "\n",
    "4. **Unitless Measure**: SMAPE is a unitless measure, making it easier to interpret and compare across different datasets, variables, or industries.\n",
    "\n",
    "5. **Usage in Ensemble Forecasting**: SMAPE is often used as an evaluation metric in ensemble forecasting, where multiple forecasting models are combined to improve accuracy. SMAPE helps assess the effectiveness of the ensemble method by comparing its performance against individual models or other benchmarking methods.\n",
    "\n",
    "**Below we will create a function to compute Symmetric Mean Absolute Percentage Error using Numpy.**"
   ]
  },
  {
   "cell_type": "markdown",
   "id": "8a88eaff-fd3d-459b-8721-e027a3e8443b",
   "metadata": {
    "tags": []
   },
   "source": [
    "### Importing libraries"
   ]
  },
  {
   "cell_type": "code",
   "execution_count": 2,
   "id": "0705495b-9ab5-4f2a-aba2-0adcaab10406",
   "metadata": {
    "tags": []
   },
   "outputs": [],
   "source": [
    "import numpy as np"
   ]
  },
  {
   "cell_type": "markdown",
   "id": "60baa1ba-ec47-440e-9d36-bdab991fc3cf",
   "metadata": {},
   "source": [
    "### Cumputing sMAPE with via the custom function"
   ]
  },
  {
   "cell_type": "code",
   "execution_count": 1,
   "id": "40a3f810-456d-41ea-a0b2-8e78e2c48325",
   "metadata": {
    "tags": []
   },
   "outputs": [],
   "source": [
    "# Simulated true and predicted values\n",
    "\n",
    "y_true = [100, 100, 100, 100, 100, 100, 100, 100, 100, 100]\n",
    "y_pred = [80, 100, 90, 95, 105, 101, 110, 99, 87, 100]"
   ]
  },
  {
   "cell_type": "code",
   "execution_count": 9,
   "id": "23d1509a-2367-460e-a4ef-a701e0339884",
   "metadata": {
    "tags": []
   },
   "outputs": [
    {
     "name": "stdout",
     "output_type": "stream",
     "text": [
      "Symmetric Mean Absolute Percentage Error: 6.82\n"
     ]
    }
   ],
   "source": [
    "# Create a custom function to compute sMAPE\n",
    "def sMAPE(y_true,y_pred):\n",
    "    \n",
    "    y_true, y_pred = np.array(y_true), np.array(y_pred)\n",
    "    \n",
    "    assert y_true.shape[0] == y_pred.shape[0], 'y_true and y_pred should have equal number of items'\n",
    "    \n",
    "    N = y_true.shape[0]\n",
    "    enom = np.abs(y_true - y_pred)\n",
    "    denom = (np.abs(y_true) + np.abs(y_pred)) / 2\n",
    "    \n",
    "    sMAPE = np.sum((enom / denom) / N) * 100\n",
    "    \n",
    "    return round(sMAPE, 2)\n",
    "\n",
    "sMAPE = sMAPE(y_true, y_pred)\n",
    "\n",
    "print('Symmetric Mean Absolute Percentage Error:', sMAPE)"
   ]
  }
 ],
 "metadata": {
  "kernelspec": {
   "display_name": "Python 3 (ipykernel)",
   "language": "python",
   "name": "python3"
  },
  "language_info": {
   "codemirror_mode": {
    "name": "ipython",
    "version": 3
   },
   "file_extension": ".py",
   "mimetype": "text/x-python",
   "name": "python",
   "nbconvert_exporter": "python",
   "pygments_lexer": "ipython3",
   "version": "3.10.11"
  }
 },
 "nbformat": 4,
 "nbformat_minor": 5
}
