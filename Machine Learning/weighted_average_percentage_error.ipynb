{
 "cells": [
  {
   "cell_type": "markdown",
   "id": "34d446d2-b8c4-4c54-8551-68e97ce8991c",
   "metadata": {
    "tags": []
   },
   "source": [
    "## Weighted Average Percentage Error\n",
    "\n",
    "**Weighted Average Percentage Error (WAPE)** is a metric commonly used in <u>regression tasks</u> to evaluate the performance of a Machine Learning model, <u>typically for time-series data</u>.\n",
    "\n",
    "**Weighted Average Percentage Error** <u><span style=\"font-size: 11pt; color: goldenrod; font-weight: bold\">the sum of the absolute error between the actual and predicted value normalized by the total amount of observations</span></u>.\n",
    "\n",
    "**NOTE:** WAPE is also sometimes referred to as **MAD / Mean ratio**.  \n",
    "**NOTE:** WAPE is recommended when the total value of the target can be low or when there is an unbalanced scale, such as in cases of intermittent sales. \n",
    "\n",
    "### WAPE formula:\n",
    "\n",
    "$$\\large WAPE = \\frac{\\sum_{i=n}^N \\mid y_i - \\hat y_i \\mid}{\\sum_{i=1}^N \\mid y_i\\mid} \\times 100$$\n",
    "\n",
    "Where: \n",
    "- $N$ represents the total number of samples\n",
    "- $y_{i}$ is the actual value \n",
    "- $\\hat{y}_{i}$ is the predicted value\n",
    "\n",
    "### Values of WAPE:\n",
    "- If the predictions are 100% correct, then $WAPE = 0$\n",
    "- If we wrongly predict all values to be 0, then $WAPE = 1$\n",
    "\n",
    "\n",
    "### Comparison of **WAPE** with **MAPE**\n",
    "\n",
    "|          | Monday | Tuesday | Wednesday |\n",
    "|----------|-------------|---------|-------|\n",
    "| Sales ($y_i$)    | 50          | 1       | 50    |\n",
    "| Forecast ($\\hat y_i$) | 55          | 2       | 50    |\n",
    "| MAPE     | 10%         | 100%    | 0%    |\n",
    "\n",
    "\n",
    "In the above table we see that average MAPE for 3 days is equal to $36.7$%, which is not a good estimate of our perfomance in this case. This happens because of the huge difference in the scale of data and prediction on Tuesday.\n",
    "\n",
    "If we instead use WAPE, then, according to the formula, we would get an error value $= 5.9$%, which is a way better error estimation. \n",
    "\n",
    " ***\n",
    "The ability to select, modify, and choose metrics tailored to unique scenarios will prove invaluable in work of any Data Scientist and Machine Learning specialist.\n",
    "***\n",
    "**Since nor NumPy nor Scikit Learn provide us with the dedicated function to compute WAPE, We will create a custom function to compute it using NumPy.**"
   ]
  },
  {
   "cell_type": "code",
   "execution_count": 1,
   "id": "c4ec445a-8d4d-432a-a1b7-02b3c2ea5983",
   "metadata": {
    "tags": []
   },
   "outputs": [],
   "source": [
    "import numpy as np"
   ]
  },
  {
   "cell_type": "code",
   "execution_count": 2,
   "id": "df7020cb-35c4-4d6b-b38c-3097f4403f9b",
   "metadata": {
    "tags": []
   },
   "outputs": [
    {
     "name": "stdout",
     "output_type": "stream",
     "text": [
      "Weighted Average Percentage Error = 5.941%\n"
     ]
    }
   ],
   "source": [
    "# Simple data as in the example given above\n",
    "sales = np.array([50, 1, 50])\n",
    "forecast = np.array([55, 2, 50])\n",
    "\n",
    "# Formula to compute WAPE\n",
    "def wape(y_true, y_pred):\n",
    "    abs_errors = np.sum(np.abs(y_true - y_pred))\n",
    "    sum_y_true = np.sum(np.abs(y_true))\n",
    "    wape = abs_errors / sum_y_true * 100\n",
    "    return round(wape,3)\n",
    "\n",
    "wape = wape(sales, forecast)\n",
    "\n",
    "print(f'Weighted Average Percentage Error = {wape}%')"
   ]
  }
 ],
 "metadata": {
  "kernelspec": {
   "display_name": "Python 3 (ipykernel)",
   "language": "python",
   "name": "python3"
  },
  "language_info": {
   "codemirror_mode": {
    "name": "ipython",
    "version": 3
   },
   "file_extension": ".py",
   "mimetype": "text/x-python",
   "name": "python",
   "nbconvert_exporter": "python",
   "pygments_lexer": "ipython3",
   "version": "3.10.11"
  }
 },
 "nbformat": 4,
 "nbformat_minor": 5
}
