{
 "cells": [
  {
   "cell_type": "markdown",
   "metadata": {},
   "source": [
    "# Decorators\n",
    "\n",
    "## Overview:\n",
    "Decorators are a powerful and flexible feature in Python that allows us to modify or enhance the behavior of functions, classes or methods without changing their source code. Decorators <u>are essentially functions</u> that take another function as input and return a new function, usually extending or modifying the behavior of the input function, without us having to change the code. Decorators are widely used for tasks like logging, authentication, memoization, data validation and more.\n",
    "\n",
    "***\n",
    "**History**: Decorators were introduced in Python 2.4 and gained significant popularity due to their elegant and concise syntax. They provide a way to add functionality to functions or methods without modifying their core logic, promoting the DRY (Don't Repeat Yourself) principle.\n",
    "***\n",
    "Decorators are made possible by the fact that, in Python, functions and classes are **First Class Citizens**, meaning that they can be passed around just like regular data types and be nested.\n",
    "\n",
    "Decorators are denoted by the symbol **@** and can be of three types, based on their placement:\n",
    "- **Function Decorators:** placed before functions\n",
    "- **Class Decorators:** placed before classes\n",
    "- **Method Decorators:** placed before class's methods\n",
    "\n",
    "A lot of usefull decorators can be found in the Python's `functools` module, such as:\n",
    "- **functools.cache**: for caching tasks\n",
    "- **functools.wraps**: for decorating wrapper functions of decorators\n",
    "- and many more..: [functools](https://docs.python.org/3/library/functools.html)\n",
    "  \n",
    "In the simplest of ways, decorator function can be generalized to:\n",
    "\n",
    "```py\n",
    "def decorator(function):\n",
    "\n",
    "    def wrapper_function(*args, **kwargs):\n",
    "        ~~~ Wrapper Code ~~~\n",
    "\n",
    "    return wrapper_function\n",
    "\n",
    "@decorator\n",
    "def function(x):\n",
    "    return x\n",
    "```\n",
    "\n",
    "Where `(*args, **kwargs)`, are `tuple()` and `dict()` respectively, which contain the positional and key-word arguments of the original function \"function\" which was passed to the \"decorator\" function.\n",
    "\n",
    "## How Decorators make our code better:\n",
    "Decorators offer many advantages, making them a valuable tool for enhancing code quality, readability, and functionality:\n",
    "\n",
    "1. **Modularity:** Decorators promote modularity by allowing us to separate cross-cutting concerns (e.g., logging, authentication) from the core logic of functions or methods. \n",
    "\n",
    "2. **Code Maintenance:** By encapsulating cross-cutting concerns within decorators, we reduce the risk of introducing bugs when modifying the core logic of functions. This simplifies code maintenance and debugging.\n",
    "\n",
    "3. **Reusability:** Once defined, decorators can be applied to multiple functions or methods, promoting code reuse. This reduces redundancy and ensures that a consistent set of behaviors is applied across functions.\n",
    "\n",
    "4. **Readability:** Decorators make code more readable by abstracting away repetitive or non-essential code blocks. This focuses the reader's attention on the core logic of functions.\n",
    "\n",
    "5. **Extensibility:** We can easily extend the functionality of existing code by adding or modifying decorators. This extensibility simplifies code updates and adaptations to changing requirements.\n",
    "\n",
    "6. **Code DRYness:** Decorators follow the DRY (Don't Repeat Yourself) principle by eliminating the need to duplicate code for common tasks across multiple functions. This reduces the chances of inconsistencies and errors.\n",
    "\n",
    "7. **Enhanced Functionality:** Decorators can add new features and behaviors to functions without altering their source code. This is particularly useful when working with third-party libraries or legacy code.\n",
    "\n",
    "8.  **Enhanced Debugging:** Decorators that log function calls or capture exceptions can assist in debugging and troubleshooting code issues.\n",
    "\n",
    "## Decorators in Machine Learning and Data Science\n",
    "\n",
    "1. **Logging and Monitoring**: Decorators can log important information about function executions, such as input data, timestamps, and results, which is crucial for tracking experiments and debugging ML models.\n",
    "\n",
    "2. **Caching and Memoization**: They can cache the results of expensive calculations or data retrieval operations, improving the efficiency of data preprocessing or feature engineering in ML pipelines.\n",
    "\n",
    "3. **Validation and Preprocessing**: Decorators can be used to validate input data, ensuring it meets certain criteria before feeding it into ML models. They can also perform preprocessing steps like scaling, encoding, or imputing missing values.\n",
    "\n",
    "3. **Authentication and Authorization**: In data-centric applications, decorators can enforce authentication and authorization checks before allowing access to sensitive data or ML models."
   ]
  },
  {
   "cell_type": "markdown",
   "metadata": {},
   "source": [
    "# Simple decorator example:\n",
    "\n",
    "This decorator function can be used to track the execution time of the original function. It achieves it's goal by computing time differences inside a nested (wrapper function)."
   ]
  },
  {
   "cell_type": "code",
   "execution_count": 1,
   "metadata": {},
   "outputs": [
    {
     "name": "stdout",
     "output_type": "stream",
     "text": [
      "Elapsed time for \"fibonacci\": 0.004003763198852539\n"
     ]
    }
   ],
   "source": [
    "def timer(f):\n",
    "    import time\n",
    "    def wrapper(*args, **kwargs):\n",
    "        start = time.time()\n",
    "        out = f(*args, **kwargs)\n",
    "        print(f'Elapsed time for \"{f.__name__}\": {time.time() - start}')\n",
    "        return out\n",
    "    return wrapper\n",
    "\n",
    "@timer\n",
    "def fibonacci(n):\n",
    "    fib = [0] * n\n",
    "    for i in range(n):\n",
    "        if i == 0: continue\n",
    "        elif i == 1: fib[i] = 1\n",
    "        else: fib[i] = fib[i-1] + fib[i-2]\n",
    "\n",
    "    return fib[n-1]\n",
    "\n",
    "fib = fibonacci(10_000)"
   ]
  }
 ],
 "metadata": {
  "kernelspec": {
   "display_name": "Python 3 (ipykernel)",
   "language": "python",
   "name": "python3"
  },
  "language_info": {
   "codemirror_mode": {
    "name": "ipython",
    "version": 3
   },
   "file_extension": ".py",
   "mimetype": "text/x-python",
   "name": "python",
   "nbconvert_exporter": "python",
   "pygments_lexer": "ipython3",
   "version": "3.10.11"
  },
  "orig_nbformat": 4
 },
 "nbformat": 4,
 "nbformat_minor": 2
}
