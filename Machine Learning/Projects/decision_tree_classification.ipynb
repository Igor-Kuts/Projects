{
 "cells": [
  {
   "cell_type": "markdown",
   "id": "6d2428f9-dd3e-4e74-b261-f93c014ee657",
   "metadata": {
    "tags": []
   },
   "source": [
    "<span style=\"font-size: 22pt; color: steelblue; font-weight: bold\">WORK IN PROGRESS</span>"
   ]
  },
  {
   "cell_type": "markdown",
   "id": "612ba665-c31f-4720-80df-e674e2c559ea",
   "metadata": {},
   "source": [
    "Decision trees are the supervised machine learning algorithm"
   ]
  },
  {
   "cell_type": "markdown",
   "id": "b1f704cd-c562-4e86-a32a-cf91a9e7ebb1",
   "metadata": {},
   "source": [
    "it's ok to mix data types in classification trees  \n",
    "final classifications can be repeated  \n",
    "numerical values can appear multiple times with different thresholds \n",
    "usually it is assumed that if the statement is true you go to the left and if the statement is true you go to the right  \n",
    "the very toop of the tree is called the root node, or just the root  \n",
    "node where decisions are made called internal nodes or branches, branches have arrows pointing to and from them  \n",
    "leaves are the node which have arrows pointing to them, but no arrows pointing away from them  \n",
    "\n",
    "To decide on the root node - we calculate and compare gini impurity for all features / target and pick the one with the least impurity"
   ]
  },
  {
   "cell_type": "markdown",
   "id": "e2bd41be-c5c4-45d8-bc57-c8b3b47ed54f",
   "metadata": {},
   "source": [
    "how to make the split if there are more than two categories in the feature"
   ]
  },
  {
   "cell_type": "markdown",
   "id": "31ca9138-9c6c-452b-9abf-2d2b8b7df185",
   "metadata": {},
   "source": [
    "**How to chose best root node?**  \n",
    "Greedy approach (saves time, compute and provides acceptable results)  \n",
    "best root node is selected either based on\n",
    "1. Gini impurity **CART** algo\n",
    "    - Choose one with the LEAST IMPURITY\n",
    "    - Gini impurity only makes binary decisions == 2 splits only at each branch \n",
    "2. Entropy + information gain **ID3** algo\n",
    "    - Information gain = Etropy(before) - Entropy(after)\n",
    "    - Choose one with the MOST INFORMATION GAIN\n",
    "    - Entropy can make more than binary decisions 2 + splits at each branch"
   ]
  },
  {
   "cell_type": "markdown",
   "id": "9d8c6987-e7f4-4bf7-b99e-b088cffac8df",
   "metadata": {},
   "source": [
    "**how does the tree make decisions based on continuous variable**\n",
    "To make decisions based on the continuous variable:\n",
    "1. First – sort the values in the numerical column\n",
    "2. Calculate averages between all adjacent values\n",
    "3. Compute Gini impurity or Information Gain like if the splits were made based on each avg. value calculated at previous step\n",
    "    - Choose the one which results in least Impurity or highest Information Gain"
   ]
  },
  {
   "cell_type": "markdown",
   "id": "df75f61c-1ace-4763-ba15-c26b5dc0a9b6",
   "metadata": {},
   "source": [
    "1. firstly choose the best feature to be the root node\n",
    "2. split the dataset\n",
    "3. repeat\n",
    "4. stop when leaves are pure"
   ]
  },
  {
   "cell_type": "markdown",
   "id": "5e26178b-7556-4e95-a112-52161b2ed8a1",
   "metadata": {
    "tags": []
   },
   "source": [
    "\n",
    "**Choosing a Root Node: Gini Impurity and Entropy**\n",
    "\n",
    "**Gini Impurity:**\n",
    "Gini impurity measures the probability of a randomly chosen element being misclassified, which ranges from 0 (perfectly pure) to 0.5 (maximum impurity).\n",
    "\n",
    "**Formula:**\n",
    "For a given node with classes $C_1, C_2, ..., C_k$ and corresponding class probabilities $p_1, p_2, ..., p_k$, the Gini impurity ($I_{\\text{Gini}}$) is calculated as follows:\n",
    "$$I_{\\text{Gini}} = 1 - \\sum_{i=1}^{k} p_i^2$$\n",
    "\n",
    "**Example:**\n",
    "Consider a dataset with two classes, A and B. Let's assume the probabilities of class A and class B are $p_A = 0.6$ and $p_B = 0.4$, respectively.\n",
    "\n",
    "Calculating the Gini impurity:\n",
    "$$I_{\\text{Gini}} = 1 - (p_A^2 + p_B^2) = 1 - (0.6^2 + 0.4^2) = 0.48$$\n",
    "\n",
    "**Entropy:**\n",
    "Entropy measures the disorder or uncertainty in a dataset, ranging from 0 (perfectly ordered) to 1 (maximum disorder).\n",
    "\n",
    "**Formula:**\n",
    "For the same node with classes $C_1, C_2, ..., C_k$ and corresponding class probabilities $p_1, p_2, ..., p_k$, the entropy ($H$) is calculated as follows:\n",
    "$$H = -\\sum_{i=1}^{k} p_i \\log_2(p_i)$$\n",
    "\n",
    "**Example:**\n",
    "Using the same dataset as before, with $p_A = 0.6$ and $p_B = 0.4$:\n",
    "\n",
    "Calculating the entropy:\n",
    "$$H = - (p_A \\log_2(p_A) + p_B \\log_2(p_B)) = - (0.6 \\cdot \\log_2(0.6) + 0.4 \\cdot \\log_2(0.4)) \\approx 0.971$$\n",
    "\n",
    "**Selecting the Root Node:**\n",
    "The root node is selected based on the attribute that maximally reduces impurity or entropy when split. The process involves calculating the impurity or entropy for each attribute and finding the attribute that provides the greatest reduction.\n",
    "\n",
    "**Example Scenario:**\n",
    "Suppose we have a dataset with two attributes, Age and Income, and a binary classification problem (Yes or No). We want to choose the root node for the decision tree using Gini impurity and entropy.\n",
    "\n",
    "1. Calculate the Gini impurity or entropy for each attribute split.\n",
    "2. Choose the attribute that results in the greatest reduction in Gini impurity or entropy.\n",
    "3. Set the chosen attribute as the root node, and continue building the tree recursively.\n",
    "\n",
    "**Conclusion:**\n",
    "Choosing the root node in a decision tree involves calculating Gini impurity or entropy for potential attribute splits and selecting the attribute that leads to the highest reduction in impurity or entropy. This selection process forms the foundation for building the tree and making subsequent splits.\n"
   ]
  },
  {
   "cell_type": "code",
   "execution_count": 33,
   "id": "aa0b410e-840d-4da4-8c7e-8525221aeefd",
   "metadata": {
    "tags": []
   },
   "outputs": [
    {
     "data": {
      "text/html": [
       "<div>\n",
       "<style scoped>\n",
       "    .dataframe tbody tr th:only-of-type {\n",
       "        vertical-align: middle;\n",
       "    }\n",
       "\n",
       "    .dataframe tbody tr th {\n",
       "        vertical-align: top;\n",
       "    }\n",
       "\n",
       "    .dataframe thead th {\n",
       "        text-align: right;\n",
       "    }\n",
       "</style>\n",
       "<table border=\"1\" class=\"dataframe\">\n",
       "  <thead>\n",
       "    <tr style=\"text-align: right;\">\n",
       "      <th></th>\n",
       "      <th>sex</th>\n",
       "      <th>does_sports</th>\n",
       "      <th>age</th>\n",
       "      <th>overweight</th>\n",
       "    </tr>\n",
       "  </thead>\n",
       "  <tbody>\n",
       "    <tr>\n",
       "      <th>0</th>\n",
       "      <td>male</td>\n",
       "      <td>no</td>\n",
       "      <td>17</td>\n",
       "      <td>no</td>\n",
       "    </tr>\n",
       "    <tr>\n",
       "      <th>1</th>\n",
       "      <td>female</td>\n",
       "      <td>no</td>\n",
       "      <td>36</td>\n",
       "      <td>yes</td>\n",
       "    </tr>\n",
       "    <tr>\n",
       "      <th>2</th>\n",
       "      <td>male</td>\n",
       "      <td>yes</td>\n",
       "      <td>21</td>\n",
       "      <td>no</td>\n",
       "    </tr>\n",
       "    <tr>\n",
       "      <th>3</th>\n",
       "      <td>male</td>\n",
       "      <td>no</td>\n",
       "      <td>35</td>\n",
       "      <td>yes</td>\n",
       "    </tr>\n",
       "    <tr>\n",
       "      <th>4</th>\n",
       "      <td>female</td>\n",
       "      <td>yes</td>\n",
       "      <td>31</td>\n",
       "      <td>no</td>\n",
       "    </tr>\n",
       "    <tr>\n",
       "      <th>5</th>\n",
       "      <td>male</td>\n",
       "      <td>yes</td>\n",
       "      <td>30</td>\n",
       "      <td>no</td>\n",
       "    </tr>\n",
       "    <tr>\n",
       "      <th>6</th>\n",
       "      <td>male</td>\n",
       "      <td>no</td>\n",
       "      <td>33</td>\n",
       "      <td>yes</td>\n",
       "    </tr>\n",
       "    <tr>\n",
       "      <th>7</th>\n",
       "      <td>male</td>\n",
       "      <td>yes</td>\n",
       "      <td>24</td>\n",
       "      <td>no</td>\n",
       "    </tr>\n",
       "    <tr>\n",
       "      <th>8</th>\n",
       "      <td>female</td>\n",
       "      <td>no</td>\n",
       "      <td>33</td>\n",
       "      <td>yes</td>\n",
       "    </tr>\n",
       "    <tr>\n",
       "      <th>9</th>\n",
       "      <td>female</td>\n",
       "      <td>no</td>\n",
       "      <td>19</td>\n",
       "      <td>no</td>\n",
       "    </tr>\n",
       "  </tbody>\n",
       "</table>\n",
       "</div>"
      ],
      "text/plain": [
       "      sex does_sports  age overweight\n",
       "0    male          no   17         no\n",
       "1  female          no   36        yes\n",
       "2    male         yes   21         no\n",
       "3    male          no   35        yes\n",
       "4  female         yes   31         no\n",
       "5    male         yes   30         no\n",
       "6    male          no   33        yes\n",
       "7    male         yes   24         no\n",
       "8  female          no   33        yes\n",
       "9  female          no   19         no"
      ]
     },
     "metadata": {},
     "output_type": "display_data"
    }
   ],
   "source": [
    "import pandas as pd\n",
    "data_dict = {'sex': ['male', 'female', 'male', 'male', 'female', 'male', 'male', 'male', 'female', 'female'],\n",
    "             'does_sports': ['no', 'no', 'yes', 'no', 'yes', 'yes', 'no', 'yes', 'no', 'no'],\n",
    "             'age': [17, 36, 21, 35, 31, 30, 33, 24, 33, 19],\n",
    "             'overweight': ['no', 'yes', 'no', 'yes', 'no', 'no', 'yes', 'no', 'yes', 'no']\n",
    "}\n",
    "\n",
    "df = pd.DataFrame(data_dict)\n",
    "display(df)"
   ]
  },
  {
   "cell_type": "markdown",
   "id": "fedf320a-4f4a-4577-acd3-76ee3cafb2e5",
   "metadata": {
    "tags": []
   },
   "source": [
    "Worked example building decision tree based on Gini Impurity"
   ]
  },
  {
   "cell_type": "markdown",
   "id": "0b851986-ed95-4079-94ec-f0ffb3b140a4",
   "metadata": {
    "tags": []
   },
   "source": [
    "# Deciding on the Root_node"
   ]
  },
  {
   "cell_type": "markdown",
   "id": "cd31ccfa-b3b5-490c-987e-f7354d4b5775",
   "metadata": {},
   "source": [
    "### \"sex\" feature"
   ]
  },
  {
   "cell_type": "code",
   "execution_count": 51,
   "id": "8ffd8174-2db1-42e2-8b6c-0bad1ac4fda2",
   "metadata": {
    "tags": []
   },
   "outputs": [
    {
     "data": {
      "text/plain": [
       "sex     overweight\n",
       "female  no            2\n",
       "        yes           2\n",
       "male    no            4\n",
       "        yes           2\n",
       "Name: overweight, dtype: int64"
      ]
     },
     "execution_count": 51,
     "metadata": {},
     "output_type": "execute_result"
    }
   ],
   "source": [
    "df.groupby(['sex', 'overweight']).overweight.count()"
   ]
  },
  {
   "cell_type": "markdown",
   "id": "f2805947-11a6-4f59-85d3-c0114b0aaba5",
   "metadata": {
    "tags": []
   },
   "source": [
    "first we decide on the root node, for this we build depth 1 trees for each feature and compute the weighted Impurity of resulting leaves"
   ]
  },
  {
   "cell_type": "markdown",
   "id": "4f0a351f-d20a-436b-b29d-016407c7cf52",
   "metadata": {},
   "source": [
    "To compute Gini Impurity : $I_{\\text{Gini}} = 1 - \\sum_{i=1}^{k} p_i^2$:\n",
    "1. First we build a tree with each feature ...\n",
    "2. Compute the Gini impurity for each leaf\n",
    "3. Compute the weighted average Gini impurity between two leaves."
   ]
  },
  {
   "attachments": {
    "a552c540-f45b-49a7-b81b-d50890c8200e.png": {
     "image/png": "[encoded data removed]"
    }
   },
   "cell_type": "markdown",
   "id": "add128c0-58e3-4384-95f7-8a67b54a5bf8",
   "metadata": {},
   "source": [
    "![image.png](attachment:a552c540-f45b-49a7-b81b-d50890c8200e.png)"
   ]
  },
  {
   "cell_type": "markdown",
   "id": "f7b94544-0e97-489d-ac09-1ef85bb19e0f",
   "metadata": {},
   "source": [
    "Probability $p_i$ from the formula corresponds to the probability of a person being male AND being overweight or not, and so on."
   ]
  },
  {
   "cell_type": "markdown",
   "id": "8b03bed7-f90f-415a-9cd6-0412c036ddaa",
   "metadata": {},
   "source": [
    "To compute weighted average Gini impurity between leaves we compute the corresponding weights for each leaf, multiply it by the gini impurity for that same leaf sum the results\n",
    "- weights are calculated as the proportion of number of elements in a leaf to the total number of elements in the both leaves."
   ]
  },
  {
   "cell_type": "code",
   "execution_count": 31,
   "id": "5489419e-0589-4501-9a62-29644b8e38a5",
   "metadata": {
    "tags": []
   },
   "outputs": [
    {
     "name": "stdout",
     "output_type": "stream",
     "text": [
      " Gini Impurity for the \"male\" in \"sex\" feature: 0.444\n",
      " Gini Impurity for the \"female\" in \"sex\" feature: 0.5\n",
      " Weighted average Gini Impurity for the \"sex\" feature: 0.467\n"
     ]
    }
   ],
   "source": [
    "gini_male = 1 - (2 / (2 + 4))**2 - (4 / (2 + 4))**2\n",
    "gini_female = 1 - (2 / (2 + 2))**2 - (2 / (2 + 2))**2\n",
    "weighted_avg_gini_sex = (6/10) * gini_male + (4/10) * gini_female\n",
    "print(f' Gini Impurity for the \"male\" in \"sex\" feature: {round(gini_male, 3)}')\n",
    "print(f' Gini Impurity for the \"female\" in \"sex\" feature: {round(gini_female, 3)}')\n",
    "print(f' Weighted average Gini Impurity for the \"sex\" feature: {round(weighted_avg_gini_sex, 3)}')"
   ]
  },
  {
   "cell_type": "markdown",
   "id": "8029835f-b617-4a4f-923e-c4dde68f8087",
   "metadata": {},
   "source": [
    "### \"does_sports\" feature"
   ]
  },
  {
   "cell_type": "code",
   "execution_count": 50,
   "id": "cd12df44-770e-4a51-a2b0-b61d9202db7d",
   "metadata": {
    "tags": []
   },
   "outputs": [
    {
     "data": {
      "text/plain": [
       "does_sports  overweight\n",
       "no           no            2\n",
       "             yes           4\n",
       "yes          no            4\n",
       "Name: overweight, dtype: int64"
      ]
     },
     "execution_count": 50,
     "metadata": {},
     "output_type": "execute_result"
    }
   ],
   "source": [
    "df.groupby(['does_sports', 'overweight']).overweight.count()"
   ]
  },
  {
   "attachments": {
    "9939cde8-e71e-490f-a5d5-9d89a24b2de0.png": {
     "image/png": "[encoded data removed]"
    }
   },
   "cell_type": "markdown",
   "id": "77b1b311-ba5e-4978-8e0c-5c67a5278769",
   "metadata": {},
   "source": [
    "![image.png](attachment:9939cde8-e71e-490f-a5d5-9d89a24b2de0.png)"
   ]
  },
  {
   "cell_type": "code",
   "execution_count": 43,
   "id": "3f144cba-4b5b-4661-9059-cf4d0d6c144e",
   "metadata": {
    "tags": []
   },
   "outputs": [
    {
     "name": "stdout",
     "output_type": "stream",
     "text": [
      " Gini Impurity for the \"yes\" in \"does_sports\" feature: 0.0\n",
      " Gini Impurity for the \"no\" in \"does_sports\" feature: 0.444\n",
      " Weighted average Gini Impurity for the \"does_sports\" feature: 0.478\n"
     ]
    }
   ],
   "source": [
    "gini_sport = 1 - (0 / (0 + 4))**2 - (4 / (0 + 4))**2\n",
    "gini_no_sport = 1 - (4 / (4 + 2))**2 - (2 / (4 + 2))**2\n",
    "weighted_avg_gini_sport = (4 / 10) * gini_male + (6 / 10) * gini_female\n",
    "print(f' Gini Impurity for the \"yes\" in \"does_sports\" feature: {round(gini_sport, 3)}')\n",
    "print(f' Gini Impurity for the \"no\" in \"does_sports\" feature: {round(gini_no_sport, 3)}')\n",
    "print(f' Weighted average Gini Impurity for the \"does_sports\" feature: {round(weighted_avg_gini_sport, 3)}')"
   ]
  },
  {
   "cell_type": "markdown",
   "id": "e4c3694e-0db9-4d96-b0da-0284cb853ca9",
   "metadata": {
    "tags": []
   },
   "source": [
    "### \"age\" feature"
   ]
  },
  {
   "cell_type": "markdown",
   "id": "87aea6e6-0acc-45c8-b567-facaa6ae3613",
   "metadata": {},
   "source": [
    "To analyze continuous variable if it is suited to be the root nood - first we have to sort the values in the column and the compute the average between two adjacent observation and then compute gini impurity for each value and then pick the one with the least value to compare it with other splits "
   ]
  },
  {
   "cell_type": "markdown",
   "id": "ff43fb79-5335-4374-b45e-eff818287dc7",
   "metadata": {
    "tags": []
   },
   "source": [
    "First lets sort the values and compute the averages."
   ]
  },
  {
   "attachments": {
    "b4f9421a-3bfb-4abc-b823-f23c7d8554c2.png": {
     "image/png": "[encoded data removed]"
    }
   },
   "cell_type": "markdown",
   "id": "76b5f006-9967-4e22-af89-1b7d1926e9fd",
   "metadata": {
    "tags": []
   },
   "source": [
    "![image.png](attachment:b4f9421a-3bfb-4abc-b823-f23c7d8554c2.png)"
   ]
  },
  {
   "cell_type": "markdown",
   "id": "bd4f313d-66e2-4352-846a-d8f63f506286",
   "metadata": {},
   "source": [
    "Next we build splits for each avg. value.:\n",
    "- If age is less than avg value - it goes to the left \"yes\", \n",
    "- if above - to the right \"no\" split"
   ]
  },
  {
   "attachments": {
    "48849b6e-136e-48c2-a395-8ccbe7db3ef2.png": {
     "image/png": "[encoded data removed]"
    }
   },
   "cell_type": "markdown",
   "id": "583eb746-2959-402d-bbeb-dbd26cff6fdb",
   "metadata": {},
   "source": [
    "![image.png](attachment:48849b6e-136e-48c2-a395-8ccbe7db3ef2.png)"
   ]
  }
 ],
 "metadata": {
  "kernelspec": {
   "display_name": "Python 3 (ipykernel)",
   "language": "python",
   "name": "python3"
  },
  "language_info": {
   "codemirror_mode": {
    "name": "ipython",
    "version": 3
   },
   "file_extension": ".py",
   "mimetype": "text/x-python",
   "name": "python",
   "nbconvert_exporter": "python",
   "pygments_lexer": "ipython3",
   "version": "3.10.11"
  }
 },
 "nbformat": 4,
 "nbformat_minor": 5
}
