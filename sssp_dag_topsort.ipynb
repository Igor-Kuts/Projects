{
 "cells": [
  {
   "cell_type": "markdown",
   "id": "85d3300a-b817-4074-a18f-15fc5837a349",
   "metadata": {
    "tags": []
   },
   "source": [
    "# Single Source Shortest Path on a DAG via topological sort.\n",
    "\n",
    "**Single Source Shortest Path is a fundamental problem.**   \n",
    "\n",
    "**SSSP** stands for <font color=\"darkblue\"><b>Single Source Shortest Path</b> </font> and it refers to the problem of finding the shortest paths from a single source vertex to all other vertices on a weighted graph.\n",
    "\n",
    "The Single Source Shortest Path problem can be solved efficiently on a DAG in <font color=\"green\"><b> O(V+E)</b> </font> time.  \n",
    "This is due to the fact that the nodes can be ordered in a topological order via <font color=\"slate\"><b> Topological Sort</b> </font> and processed sequentially.\n",
    "\n",
    "**Solution to SSSP can be used in various real-world applications such as:**\n",
    "* Route planning\n",
    "* Traffic management\n",
    "* Airline scheduling\n",
    "* Network routing"
   ]
  },
  {
   "cell_type": "code",
   "execution_count": 12,
   "id": "289cc0df-c04c-42df-a287-ac49574c7cec",
   "metadata": {
    "tags": []
   },
   "outputs": [
    {
     "name": "stdout",
     "output_type": "stream",
     "text": [
      "{0: [(3, 7)], 1: [(3, 5)], 2: [(0, 7)], 3: [(6, 3), (7, 3)], 4: [(0, 4), (3, 4), (5, 3)], 5: [(9, 1), (10, 4)], 6: [(8, 2)], 7: [(10, 7)], 8: [(11, 1)], 9: [(11, 6), (12, 8)], 10: [(9, 1)], 11: [], 12: []}\n"
     ]
    }
   ],
   "source": [
    "# Wieghted DAG as an example\n",
    "import random\n",
    "\n",
    "graph = {\n",
    "    0:  [(3, )],\n",
    "    1:  [(3, )],\n",
    "    2:  [(0, )],\n",
    "    3:  [(6, ), (7, )],\n",
    "    4:  [(0, ), (3, ), (5, )],\n",
    "    5:  [(9, ), (10, )],\n",
    "    6:  [(8, )],\n",
    "    7:  [(10,)],\n",
    "    8:  [(11, )],\n",
    "    9:  [(11, ), (12, )],\n",
    "    10: [(9,)],\n",
    "    11: [],\n",
    "    12: []\n",
    "}\n",
    "for node, edges in graph.items():\n",
    "    for edge in range(len(edges)):\n",
    "        weight = random.randint(1,10)\n",
    "        graph[node][edge] = (edges[edge][0], weight)\n",
    "        \n",
    "print(graph)"
   ]
  },
  {
   "cell_type": "code",
   "execution_count": 10,
   "id": "94431fa7-8915-4baf-8333-ded38eecc279",
   "metadata": {
    "tags": []
   },
   "outputs": [],
   "source": [
    "def dagShortestPath(graph, start):\n",
    "    '''\n",
    "    Find find single source shortest paths via topological sort and DFS algorithm.\n",
    "\n",
    "    Args:\n",
    "    - graph: a dict of lists, where each key represents a node with list of edges,\n",
    "             where each tuple represents and edge direction and associated weight\n",
    "             e.g., [(0, 1), (1, 5), (3, 2), (2, 7)]\n",
    "\n",
    "    Returns:\n",
    "    - dist: a list of integers, where each number [n] represents total weight accumulated,\n",
    "            on a path from [start] to node: dict.index(n) \n",
    "            e.g., [0, 27, 10, 51]\n",
    "    '''\n",
    "    # Initialization\n",
    "    N = len(graph.keys())               # Number of nodes in the graph\n",
    "    visited = [False for _ in range(N)] # Visited array\n",
    "    \n",
    "    # Topological sort via DFS\n",
    "    def top_dfs(i, at, visited, ordering, graph):\n",
    "        visited[at] = True\n",
    "        neighbours = graph[at] \n",
    "        for edge in neighbours:\n",
    "            \n",
    "            # For each edge going outwards from the node we are at:\n",
    "            if visited[edge[0]] == False:\n",
    "                i = top_dfs(i, edge[0], visited, ordering, graph)\n",
    "            \n",
    "        ordering[i] = at\n",
    "        return i - 1\n",
    "    \n",
    "    # Topological sort\n",
    "    def topsort(graph):\n",
    "        ordering = [0 for _ in range(N)]\n",
    "        i = N - 1 \n",
    "        for at in range(N):\n",
    "            if visited[at] == False:\n",
    "                i = top_dfs(i, at, visited, ordering, graph)\n",
    "            \n",
    "        return ordering    \n",
    "    \n",
    " \n",
    "    # Construct dist dictionary\n",
    "    # from topological sort results\n",
    "    topsort = topsort(graph)\n",
    "    dist = [None for _ in range(N)]\n",
    "    dist[start] = 0\n",
    "    \n",
    "    for i in range(N):\n",
    "        nodeIndex = topsort[i]\n",
    "        if dist[nodeIndex] is not None:\n",
    "            adjacentEdges = graph[nodeIndex]\n",
    "            if len(adjacentEdges) > 0:\n",
    "                for edge in adjacentEdges:\n",
    "                    newDist = dist[nodeIndex] + edge[1]\n",
    "                    if dist[edge[0]] is None or dist[edge[0]] > newDist:\n",
    "                        dist[edge[0]] = newDist     \n",
    "    return dist"
   ]
  },
  {
   "cell_type": "code",
   "execution_count": 11,
   "id": "e9939ce9-52bf-469e-af7f-6ee7a7609d3d",
   "metadata": {
    "tags": []
   },
   "outputs": [
    {
     "name": "stdout",
     "output_type": "stream",
     "text": [
      "Distance from node 0 => 0: 0\n",
      "Distance from node 0 => 1: None\n",
      "Distance from node 0 => 2: None\n",
      "Distance from node 0 => 3: 6\n",
      "Distance from node 0 => 4: None\n",
      "Distance from node 0 => 5: None\n",
      "Distance from node 0 => 6: 15\n",
      "Distance from node 0 => 7: 11\n",
      "Distance from node 0 => 8: 21\n",
      "Distance from node 0 => 9: 15\n",
      "Distance from node 0 => 10: 13\n",
      "Distance from node 0 => 11: 20\n",
      "Distance from node 0 => 12: 25\n"
     ]
    }
   ],
   "source": [
    "dag_sssp = dagShortestPath(graph, 0)\n",
    "\n",
    "for node, distance in enumerate(dag_sssp):\n",
    "    print(f'Node 0 => {node}: {distance}')"
   ]
  }
 ],
 "metadata": {
  "kernelspec": {
   "display_name": "Python 3 (ipykernel)",
   "language": "python",
   "name": "python3"
  },
  "language_info": {
   "codemirror_mode": {
    "name": "ipython",
    "version": 3
   },
   "file_extension": ".py",
   "mimetype": "text/x-python",
   "name": "python",
   "nbconvert_exporter": "python",
   "pygments_lexer": "ipython3",
   "version": "3.9.16"
  }
 },
 "nbformat": 4,
 "nbformat_minor": 5
}
