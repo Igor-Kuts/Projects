{
 "cells": [
  {
   "cell_type": "markdown",
   "id": "674e4d33-a7e5-42b1-88d2-b304c21fa3fd",
   "metadata": {},
   "source": [
    "# Floyd-Warshal APSP"
   ]
  },
  {
   "cell_type": "markdown",
   "id": "83671aa4-db3f-4c85-a607-fddcf87a03a0",
   "metadata": {},
   "source": [
    "In graph theory, the Floyd-Warshall (FW) algorithms is an All-Pairs Shortest Path (APSP) algorithm. This means it can find the shortest path between all pairs of nodes.\n",
    "\n",
    "The main idea behind the Floyd-Warshall algorithm is <font color=\"orange\" size=\"3\"><b>to gradually build up all intermediate routes between nodes i and j</b></font> to find the optimal path.\n",
    "\n",
    "The time complexity to run Floyd-Warshall is <font color=\"red\" size=\"3\"><b>O(V^3)</b></font> which is ideal <u>only for graphs no larger than a couple of hundred nodes </u>. \n",
    "\n",
    "**Floyd-Warshall shines** on:\n",
    "- Small graphs\n",
    "- All-Pairs Shortest Path problems\n",
    "- Detecting negative cycles"
   ]
  },
  {
   "cell_type": "code",
   "execution_count": 1,
   "id": "d931699e-f368-43b9-b4f8-7b9e69b55c7d",
   "metadata": {
    "tags": []
   },
   "outputs": [],
   "source": [
    "# directed weighted graph  with negative cycle as an example\n",
    "graph = {\n",
    "    0:  [(1, 1), (2, 1)],\n",
    "    1:  [(3, 4)],        \n",
    "    2:  [(1, 1)],\n",
    "    3:  [(2,-6), (4, 1), (5, 1)],\n",
    "    4:  [(5, 1), (6, 3)],\n",
    "    5:  [(6, 1)],\n",
    "    6:  []\n",
    "}"
   ]
  },
  {
   "cell_type": "code",
   "execution_count": 13,
   "id": "9b5ca1a4-f24c-4495-98cb-5a6cbcddbd0c",
   "metadata": {
    "tags": []
   },
   "outputs": [],
   "source": [
    "def setup(graph):\n",
    "    \n",
    "    # trasforming graph into adjacency list form to the adjacency matrix form\n",
    "    adj_matrix = [[float('inf') for _ in range(len(graph))] for _ in range(len(graph))]\n",
    "    for edge, ver in graph.items():\n",
    "        for neighbour in ver:\n",
    "            adj_matrix[edge][neighbour[0]] = neighbour[1]\n",
    "    \n",
    "    # dp: memo table that will contain APSP soln\n",
    "    dp = [[float('inf') for _ in range(len(adj_matrix))] for n in range(len(graph))]\n",
    "    \n",
    "    # next_: matrix used to reconstruct shortest paths\n",
    "    next_ = [[float('inf') for _ in range(len(adj_matrix))] for n in range(len(graph))]\n",
    "    for i in range(len(adj_matrix)):\n",
    "        for j in range(len(adj_matrix)):\n",
    "            dp[i][j] = adj_matrix[i][j]\n",
    "            if adj_matrix[i][j] is not float('inf'):\n",
    "                next_[i][j] = j\n",
    "                \n",
    "    return dp, next_, adj_matrix\n",
    "\n",
    "# # # # # # # # # # # # # # # # # # # # # # # \n",
    "\n",
    "def reconstructPathFW(start, end, dp, next_):\n",
    "    path = []\n",
    "\n",
    "    if dp[start][end] == float('inf'): \n",
    "        print(f'\\n>>> Nodes {start} and {end} are disjointed!')\n",
    "        return path\n",
    "\n",
    "    at = start\n",
    "    path.append(at)\n",
    "    while at != end:\n",
    "        at = next_[at][end]\n",
    "        \n",
    "        if at == -1:\n",
    "            print(f'\\n>>> Negative Cycle detected in the path between nodes {start} and {end}')\n",
    "            return None\n",
    "        if at != end:\n",
    "            path.append(at)\n",
    "    \n",
    "    if next_[at][end] == -1: \n",
    "        print(f'\\n>>> Negative Cycle detected in the path\\n between nodes {start} and {end}')\n",
    "        return None\n",
    "    \n",
    "    path.append(end)\n",
    "    print(f\"\\nFound path from node {start} to node {end}!\\nPath: {' => '.join(map(str,path))}\")\n",
    "    return path\n",
    "    \n",
    "# # # # # # # # # # # # # # # # # # # # # # #     \n",
    " \n",
    "def propagateNegativeCycles(adj_matrix, dp, next_):\n",
    "    # execute FW APSP algorithm a second time but\n",
    "    # this time if the distance can be improved\n",
    "    # set the optimal distance to be -inf\n",
    "    # every edge (i,j) marked with -inf is either\n",
    "    # part of or reaches into a negative cycle\n",
    "    for k in range(len(adj_matrix)):\n",
    "        for i in range(len(adj_matrix)):\n",
    "            for j in range(len(adj_matrix)):\n",
    "                \n",
    "                if dp[i][k] + dp[k][i] < dp[i][j]:\n",
    "                    dp[i][j] = float('-inf')\n",
    "                    next_[i][j] = -1\n",
    "    \n",
    "    return dp, next_\n",
    "\n",
    "# # # # # # # # # # # # # # # # # # # # # # #  \n",
    "\n",
    "# execute FW all pairs shortest path algorithm\n",
    "def floydWarshall(graph, start, end):\n",
    "    \n",
    "    dp, next_, adj_matrix = setup(graph)\n",
    "    \n",
    "    for k in range(len(adj_matrix)):\n",
    "        for i in range(len(adj_matrix)):\n",
    "            for j in range(len(adj_matrix)):\n",
    "                if dp[i][k] + dp[k][j] < dp[i][j]:\n",
    "                    dp[i][j] = dp[i][k] + dp[k][j]\n",
    "                    next_[i][j] = next_[i][k]\n",
    "    \n",
    "    #  detect and propagate negative cycles.\n",
    "    dp, next_ = propagateNegativeCycles(adj_matrix, dp, next_)\n",
    "    \n",
    "    # reconstruct the shortest path\n",
    "    path = reconstructPathFW(start, end, dp, next_)\n",
    "    \n",
    "    # return APSP matrix, the shortest path.\n",
    "    return dp, path"
   ]
  },
  {
   "cell_type": "code",
   "execution_count": null,
   "id": "2e5956c4-1b45-4f57-936e-dc393983d992",
   "metadata": {},
   "outputs": [
    {
     "name": "stdout",
     "output_type": "stream",
     "text": [
      "\n",
      ">>> Negative Cycle detected in the path between nodes 1 and 3\n"
     ]
    }
   ],
   "source": [
    "dp, path = floydWarshall(graph, 1, 3)"
   ]
  },
  {
   "cell_type": "code",
   "execution_count": 11,
   "id": "b45c9fb3-76aa-4cf4-9b87-6e8ca1950593",
   "metadata": {
    "tags": []
   },
   "outputs": [
    {
     "name": "stdout",
     "output_type": "stream",
     "text": [
      "\n",
      "Found path from node 4 to node 6!\n",
      "Path: 4 => 5 => 6\n"
     ]
    }
   ],
   "source": [
    "dp, path = floydWarshall(graph, 4, 3)"
   ]
  }
 ],
 "metadata": {
  "kernelspec": {
   "display_name": "Python 3 (ipykernel)",
   "language": "python",
   "name": "python3"
  },
  "language_info": {
   "codemirror_mode": {
    "name": "ipython",
    "version": 3
   },
   "file_extension": ".py",
   "mimetype": "text/x-python",
   "name": "python",
   "nbconvert_exporter": "python",
   "pygments_lexer": "ipython3",
   "version": "3.9.16"
  }
 },
 "nbformat": 4,
 "nbformat_minor": 5
}
