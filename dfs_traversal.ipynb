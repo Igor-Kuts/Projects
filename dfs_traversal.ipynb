{
 "cells": [
  {
   "cell_type": "markdown",
   "id": "61d70af3-b085-42ea-aaad-d69fa51304dd",
   "metadata": {},
   "source": [
    "#The Depth First Search (DFS)   \n",
    "\n",
    "DFS is the most fundamental search algorithm used to explore nodes and edges of a graph. It runs with a time complexity <font color=\"green\"><b> O(V+E)</b> </font> and is often used as a building block in other algorithms."
   ]
  },
{
 "cells": [
  {
   "cell_type": "markdown",
   "id": "82d70af3-b085-42ea-aaad-d60fa52204dd",
   "metadata": {},
   "source": [
    "**The Depth First Search (DFS)**   \n",
    "\n",
    "DFS is the most fundamental search algorithm used to explore nodes and edges of a graph. It runs with a time complexity <font color=\"green\"><b> O(V+E)</b> </font> and is often used as a building block in other algorithms."
   ]
  },
  {
   "cell_type": "code",
   "execution_count": 15,
   "id": "e7a4b8a0-d8dc-4b69-827f-ccdfb6bec57f",
   "metadata": {
    "tags": []
   },
   "outputs": [],
   "source": [
    "# Graph for testing purposes\n",
    "\n",
    "graph = {\n",
    "    0:  [(9, )],\n",
    "    1:  [(0, )],\n",
    "    2:  [(3, )],\n",
    "    3:  [(2, ), (4, ), (5, )],\n",
    "    4:  [(3, )],\n",
    "    5:  [(6, ), (3, )],\n",
    "    6:  [(5, )],\n",
    "    7:  [(10,)],\n",
    "    8:  [(1, )],\n",
    "    9:  [(8, )],\n",
    "    10: [(11,)],\n",
    "    11: [(7, )]\n",
    "}"
   ]
  },
  {
   "cell_type": "code",
   "execution_count": 16,
   "id": "856602a0-ee22-408d-8a5e-a01f9820eb73",
   "metadata": {},
   "outputs": [
    {
     "name": "stdout",
     "output_type": "stream",
     "text": [
      "target node:     0; node status: <unvisited>\n",
      "arrived at node: 0; neighbours: [(9,)], check!\n",
      "aim at node:     9 >>>\n",
      "\n",
      "target node:     9; node status: <unvisited>\n",
      "arrived at node: 9; neighbours: [(8,)], check!\n",
      "aim at node:     8 >>>\n",
      "\n",
      "target node:     8; node status: <unvisited>\n",
      "arrived at node: 8; neighbours: [(1,)], check!\n",
      "aim at node:     1 >>>\n",
      "\n",
      "target node:     1; node status: <unvisited>\n",
      "arrived at node: 1; neighbours: [(0,)], check!\n",
      "aim at node:     0 >>>\n",
      "\n",
      "target node:     0; node status: <visited>\n",
      "target node:     0 already  visited, returning\n",
      "backtracking from node: 0 to node 1: [(0,)]\n",
      "backtracking from node: 1 to node 8: [(1,)]\n",
      "backtracking from node: 8 to node 9: [(8,)]\n",
      "backtracking from node: 9 to node 0: [(9,)]\n",
      "\n",
      "Total visited nodes: 4 / 12\n",
      "Total steps taken by DFS: 8\n"
     ]
    }
   ],
   "source": [
    "# initializing variables\n",
    "\n",
    "n = len(graph.keys())               # number of nodes in the graph\n",
    "visited = [False for i in range(n)] # array of size n to keep track of visited nodes\n",
    "\n",
    "# # # recursive dfs function # # #\n",
    "\n",
    "def dfs(at, steps=0):\n",
    "    print(f'target node:     {at}; node status: {\"<visited>\" if visited[at] else \"<unvisited>\"}')\n",
    "    \n",
    "    # recursion base case\n",
    "    if visited[at]: \n",
    "        print(f'target node:     {at} already  visited, returning')\n",
    "        return steps\n",
    "    \n",
    "    # recursion body\n",
    "    print(f'arrived at node: {at}; neighbours: {graph[at]}, check!')\n",
    "    visited[at] = True\n",
    "    steps += 1\n",
    "    neighbours = graph[at]\n",
    "    \n",
    "    # recursive call\n",
    "    for edge in neighbours:\n",
    "        next_node = edge[0]\n",
    "        print(f'aim at node:     {next_node} >>>\\n')\n",
    "        steps = dfs(next_node,steps)\n",
    "        print(f'backtracking from node: {next_node} to node {at}: {graph[at]}')\n",
    "        steps += 1\n",
    "        \n",
    "    return steps\n",
    "\n",
    "# # # # # # # # # # # # # # # # # #\n",
    "\n",
    "# run DFS from node 'start_node'\n",
    "start_node = 0\n",
    "\n",
    "steps = dfs(start_node)\n",
    "print(f'\\nTotal visited nodes: {sum(visited)} / {len(graph)}\\nTotal steps taken by DFS: {steps}')"
   ]
  }
 ],
 "metadata": {
  "kernelspec": {
   "display_name": "Python 3 (ipykernel)",
   "language": "python",
   "name": "python3"
  },
  "language_info": {
   "codemirror_mode": {
    "name": "ipython",
    "version": 3
   },
   "file_extension": ".py",
   "mimetype": "text/x-python",
   "name": "python",
   "nbconvert_exporter": "python",
   "pygments_lexer": "ipython3",
   "version": "3.9.16"
  }
 },
 "nbformat": 4,
 "nbformat_minor": 5
}
