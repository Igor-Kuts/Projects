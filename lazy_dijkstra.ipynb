{
 "cells": [
  {
   "cell_type": "markdown",
   "id": "519119f2-e5d7-4e0e-83b8-9d175d364a88",
   "metadata": {
    "tags": []
   },
   "source": [
    "# Lazy Dijkstra's algorithm"
   ]
  },
  {
   "cell_type": "markdown",
   "id": "47a2a9fe-8c0d-4658-aff4-b158a25a88ba",
   "metadata": {},
   "source": [
    "Lazy Dijkstra's algorithm,  is a variation of Dijkstra's algorithm for finding the shortest path between nodes in a weighted graph.  \n",
    "The algorithm starts at a specified node (the \"start\" node) and finds the shortest path to all other nodes in the graph. The algorithm maintains a priority queue of nodes to visit, with nodes that have a lower distance from the start node given a higher priority. "
   ]
  },
  {
   "cell_type": "code",
   "execution_count": 5,
   "id": "a3cb0c82-0573-4fc6-81b0-48abdfc77ffe",
   "metadata": {
    "tags": []
   },
   "outputs": [],
   "source": [
    "# Directed weighted acyclic graph as an example\n",
    "import random\n",
    "\n",
    "graph = {\n",
    "    0:  [(3, )],\n",
    "    1:  [(3, )],\n",
    "    2:  [(0, ),(1, )],\n",
    "    3:  [(6, ), (7, )],\n",
    "    4:  [(0, ), (2, ), (3, ), (5, )],\n",
    "    5:  [(3, ), (9, ), (10, )],\n",
    "    6:  [(8, )],\n",
    "    7:  [(10,)],\n",
    "    8:  [(11, )],\n",
    "    9:  [(11, ), (12, )],\n",
    "    10: [(9,)],\n",
    "    11: [],\n",
    "    12: []\n",
    "}\n",
    "\n",
    "for node, edges in graph.items():\n",
    "    for edge in range(len(edges)):\n",
    "        weight = random.randint(1,20)\n",
    "        graph[node][edge] = (edges[edge][0], weight)"
   ]
  },
  {
   "cell_type": "code",
   "execution_count": 3,
   "id": "2cd37d4a-549f-4b16-8943-cc6f76075068",
   "metadata": {
    "tags": []
   },
   "outputs": [],
   "source": [
    "# # # # # # Function for reconstructing path # # # # # # \n",
    "\n",
    "def find_lazy_djkstra_sp(graph, start, end):\n",
    "    N = len(graph)\n",
    "    distance, previous = shortest_path_lazy_dijkstra(graph, start)\n",
    "    path = [end]\n",
    "    if distance[end] is None: \n",
    "        return print(f'\\n>>> Nodes {start} and {end} are disjointed!')\n",
    "        return path\n",
    "    at = end\n",
    "    tot_weig = 0\n",
    "    while at != start:\n",
    "        at = previous[at]\n",
    "        path.append(at)\n",
    "\n",
    "    path.reverse()\n",
    "\n",
    "    print(f\"\\nFound path from node {start} to node {end}!\\nPath: {' => '.join(map(str,path))}\")\n",
    "    print(f\"Total distance: {distance[end]}\")\n",
    "    return (path, distance)\n",
    "\n",
    "# # # # # # # # # # Lazy Dijkstra's # # # # # # # # # # \n",
    "    \n",
    "def shortest_path_lazy_dijkstra(graph, start):\n",
    "    from queue import PriorityQueue\n",
    "    N = len(graph)\n",
    "    \n",
    "    visited = [False for _ in range(N)]\n",
    "    previous = [-1 for _ in range(N)] # Initializing previous array\n",
    "    distance = [None for _ in range(N)]\n",
    "    distance[start] = 0\n",
    "    pq = PriorityQueue()\n",
    "    pq.put((start,0))\n",
    "    while not pq.empty():\n",
    "        index, minValue = pq.get()\n",
    "        visited[index] = True\n",
    "        \n",
    "        if distance[index] < minValue: continue\n",
    "        \n",
    "        for edges in graph[index]:\n",
    "            if visited[edges[0]]: continue\n",
    "            newDist = distance[index] + edges[1]\n",
    "            if distance[edges[0]] is None or newDist < distance[edges[0]]:\n",
    "                previous[edges[0]] = index # Keep track of the nodes you came from to the current node\n",
    "                distance[edges[0]] = newDist\n",
    "                pq.put((edges[0], newDist))\n",
    "                \n",
    "    return (distance, previous)"
   ]
  },
  {
   "cell_type": "code",
   "execution_count": 79,
   "id": "599ca906-8f26-4fd4-9341-e9f301eb8195",
   "metadata": {
    "tags": []
   },
   "outputs": [
    {
     "name": "stdout",
     "output_type": "stream",
     "text": [
      "\n",
      "Found path from node 8 to node 11!\n",
      "Path: 8 => 11\n",
      "Total distance: 13\n"
     ]
    },
    {
     "data": {
      "text/plain": [
       "([8, 11],\n",
       " [None, None, None, None, None, None, None, None, 0, None, None, 13, None])"
      ]
     },
     "execution_count": 79,
     "metadata": {},
     "output_type": "execute_result"
    }
   ],
   "source": [
    "import random\n",
    "find_lazy_djkstra_sp(graph, random.randint(1, len(graph)-1), random.randint(1, len(graph)-1))"
   ]
  }
 ],
 "metadata": {
  "kernelspec": {
   "display_name": "Python 3 (ipykernel)",
   "language": "python",
   "name": "python3"
  },
  "language_info": {
   "codemirror_mode": {
    "name": "ipython",
    "version": 3
   },
   "file_extension": ".py",
   "mimetype": "text/x-python",
   "name": "python",
   "nbconvert_exporter": "python",
   "pygments_lexer": "ipython3",
   "version": "3.9.16"
  }
 },
 "nbformat": 4,
 "nbformat_minor": 5
}
