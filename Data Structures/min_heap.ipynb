{
 "cells": [
  {
   "cell_type": "markdown",
   "id": "d5c56b99-78c0-4407-9bba-e05a1edc8d62",
   "metadata": {},
   "source": [
    "# Overview\n",
    "\n",
    "A MinHeap is a Binary tree based data structure that maintains the heap property, where the parent node is always smaller than or equal to its children. In other words, the minimum element is always stored at the root of the heap. This property allows for efficient retrieval of the minimum element.\n",
    "\n",
    "- MinHeap can be implemented using an array-based representation, where the parent-child relationships are maintained using index calculations.\n",
    "\n",
    "- It provides **constant-time** access to the minimum element, making it ideal for scenarios where quick retrieval of the minimum value is important.\n",
    "\n",
    "- The heap property guarantees that the height of the tree is **logarithmic**, ensuring efficient performance for most operations.\n",
    "\n",
    "MinHeap has several applications, such as priority queues, graph algorithms, and efficient sorting algorithms like Heap Sort.\n",
    "\n",
    "# History\n",
    "\n",
    "The concept of the heap data structure was introduced by J. W. J. Williams in 1964. The heap data structure has since been widely studied and used in various applications, including sorting algorithms, priority queues, and graph algorithms.\n",
    "\n",
    "# Time Complexity:\n",
    "\n",
    "\n",
    " - **Insertion** (push): <font color=\"green\" size=\"3\">O(log n)</font>\n",
    " - **Deletion** of minimum element (pop):  <font color=\"green\" size=\"3\">O(log n)</font>\n",
    " - **Retrieval** of minimum element (peek): <font color=\"green\" size=\"3\">O(1)</font> \n",
    "\n",
    "# Implementation:\n",
    "\n",
    "   The basic steps for implementing a MinHeap are as follows:\n",
    "   \n",
    "   - Initialize the heap with a sentinel value (such as negative infinity) at index 0.\n",
    "   - When inserting an element, add it at the next available position in the heap.\n",
    "   - Float up the newly added element by comparing it with its parent and swapping if necessary until the heap property is satisfied.\n",
    "   - When removing the minimum element, swap it with the last element in the heap and remove it from the heap.\n",
    "   - Bubble down the root element by comparing it with its children and swapping with the smaller child until the heap property is satisfied.\n",
    "   - Perform necessary operations (such as swapping and comparisons) to maintain the heap property during insertion and deletion operations.\n"
   ]
  },
  {
   "cell_type": "code",
   "execution_count": 1,
   "id": "c6780561-e7b3-44d7-bd33-2cbee9588fdc",
   "metadata": {
    "tags": []
   },
   "outputs": [],
   "source": [
    "class MinHeap():\n",
    "    \"\"\"A class representing a MinHeap data structure.\"\"\"\n",
    "    \n",
    "    def __init__(self, items=[]):\n",
    "        \"\"\"Initialize the MinHeap with an optional list of items.\n",
    "        \n",
    "        Args:\n",
    "            items (list, optional): the initial items to populate the heap with.\n",
    "                Defaults to an empty list.\n",
    "        \"\"\"\n",
    "        self.heap = [float('-inf')]\n",
    "        for item in items:\n",
    "            self.heap.append(item)\n",
    "            self._floatUp(len(self.heap) - 1)\n",
    "        \n",
    "    def push(self, element):\n",
    "        \"\"\" Add an element to the MinHeap.\n",
    "        \n",
    "        Args:\n",
    "            element: The element to be added to the heap.\n",
    "        \"\"\"\n",
    "        self.heap.append(element)\n",
    "        self._floatUp(len(self.heap) - 1)\n",
    "        \n",
    "    def _swap(self, child, parent):\n",
    "        self.heap[child], self.heap[parent] = self.heap[parent], self.heap[child]\n",
    "        \n",
    "    def peek(self):\n",
    "        \"\"\"Return the minimum element in the MinHeap.\n",
    "        \n",
    "        Returns:\n",
    "            The minimum element in the heap, or False if the heap is empty.\n",
    "        \"\"\"\n",
    "        if self.heap[1]:\n",
    "            return self.heap[1]\n",
    "        else:\n",
    "            return False\n",
    "        \n",
    "    def pop(self):\n",
    "        \"\"\"Remove and return the minumum element from the MinHeap.\n",
    "        \n",
    "        Returns:\n",
    "            The minimum element in the heap, or False if the heap is empty.\n",
    "        \"\"\"\n",
    "        if len(self.heap) > 2:\n",
    "            self._swap(1, len(self.heap) - 1)\n",
    "            minimum = self.heap.pop()\n",
    "            self._bubbleDown(1)\n",
    "        elif len(self.heap) == 2:\n",
    "            minimum = self.heap.pop()\n",
    "        else:\n",
    "            minimum = False\n",
    "        return minimum\n",
    "    \n",
    "    def _floatUp(self, index):\n",
    "        \"\"\"Move the element at the given index up in the heap if necessary.\n",
    "        \n",
    "        Args:\n",
    "            index (int): the index of the element to be floated up.\n",
    "        \"\"\"\n",
    "        parent = index // 2\n",
    "        if index <= 1:\n",
    "            return\n",
    "        elif self.heap[index] < self.heap[parent]:\n",
    "            self._swap(index, parent)\n",
    "            self._floatUp(parent)\n",
    "    \n",
    "    def _bubbleDown(self, index):\n",
    "        \"\"\"Move the element at the given index down in the heap if necessary.\n",
    "        \n",
    "        Args:\n",
    "            index (int): the index of the element to be bubbled down.\n",
    "        \"\"\"\n",
    "        left_child = index * 2\n",
    "        right_child = index * 2 + 1\n",
    "        smallest = index\n",
    "    \n",
    "        if left_child < len(self.heap) and self.heap[smallest] > self.heap[left_child]:\n",
    "            smallest = left_child\n",
    "        if right_child < len(self.heap) and self.heap[smallest] > self.heap[right_child]:\n",
    "            smallest = right_child\n",
    "        \n",
    "        if smallest != index:\n",
    "            self._swap(index, smallest)\n",
    "            self._bubbleDown(smallest)\n",
    "            \n",
    "    def __str__(self):\n",
    "        \"\"\"Return a string representation of the MinHeap.\n",
    "        \n",
    "        Returns:\n",
    "            A string representation of the heap.\n",
    "        \"\"\"\n",
    "        return str(self.heap)"
   ]
  },
  {
   "cell_type": "markdown",
   "id": "5f52fedc-b16f-4f7b-8f4f-13849a2036f6",
   "metadata": {},
   "source": [
    "# Usage example"
   ]
  },
  {
   "cell_type": "code",
   "execution_count": 2,
   "id": "dbe94cbb-912a-42fa-b2c2-d68a0a58febf",
   "metadata": {
    "tags": []
   },
   "outputs": [
    {
     "name": "stdout",
     "output_type": "stream",
     "text": [
      "[-inf, 1, 2, 8, 5, 7]\n"
     ]
    }
   ],
   "source": [
    "# Create a MinHeap instance\n",
    "heap = MinHeap()\n",
    "\n",
    "# Insert elements into the heap\n",
    "heap.push(5)\n",
    "heap.push(2)\n",
    "heap.push(8)\n",
    "heap.push(1)\n",
    "heap.push(7)\n",
    "\n",
    "# Print the heap\n",
    "print(heap)  # Output: [-inf, 1, 2, 8, 5, 7]"
   ]
  },
  {
   "cell_type": "code",
   "execution_count": 3,
   "id": "19b22a39-8819-4a98-a353-98ca8338695d",
   "metadata": {
    "tags": []
   },
   "outputs": [
    {
     "name": "stdout",
     "output_type": "stream",
     "text": [
      "1\n"
     ]
    }
   ],
   "source": [
    "# Get the minimum element from the heap\n",
    "minimum = heap.peek()\n",
    "print(minimum)  # Output: 1"
   ]
  },
  {
   "cell_type": "code",
   "execution_count": 4,
   "id": "c047e684-31ff-4bc8-829e-05a488a0a1cf",
   "metadata": {
    "tags": []
   },
   "outputs": [
    {
     "name": "stdout",
     "output_type": "stream",
     "text": [
      "1\n"
     ]
    }
   ],
   "source": [
    "# Remove and return the minimum element from the heap\n",
    "minimum = heap.pop()\n",
    "print(minimum)  # Output: 1"
   ]
  },
  {
   "cell_type": "code",
   "execution_count": 5,
   "id": "12a6eaeb-56da-4591-ab49-7317b506d743",
   "metadata": {
    "tags": []
   },
   "outputs": [
    {
     "name": "stdout",
     "output_type": "stream",
     "text": [
      "[-inf, 2, 5, 8, 7]\n"
     ]
    }
   ],
   "source": [
    "# Print the updated heap\n",
    "print(heap)  # Output: [-inf, 2, 5, 8, 7]"
   ]
  }
 ],
 "metadata": {
  "kernelspec": {
   "display_name": "Python 3 (ipykernel)",
   "language": "python",
   "name": "python3"
  },
  "language_info": {
   "codemirror_mode": {
    "name": "ipython",
    "version": 3
   },
   "file_extension": ".py",
   "mimetype": "text/x-python",
   "name": "python",
   "nbconvert_exporter": "python",
   "pygments_lexer": "ipython3",
   "version": "3.9.16"
  }
 },
 "nbformat": 4,
 "nbformat_minor": 5
}
