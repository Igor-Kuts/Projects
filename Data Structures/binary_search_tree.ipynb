{
 "cells": [
  {
   "cell_type": "markdown",
   "id": "5629ca8e-c723-4e2a-b6f3-f1dd9258cea6",
   "metadata": {},
   "source": [
    "# Binary Search Tree\n",
    "\n",
    "A **Binary Search Tree** is a Binary tree that satisfies the <u>Binary Search Tree Invariant</u>: <font color=\"orange\" size=\"3\">left subtree has smaller elements and right subtree has larger elements compared to the current node</font></mark>\n",
    "\n",
    "#### Key Points:\n",
    "\n",
    "- Easy to implement.\n",
    "- Allows for duplicate values, although typically we are interested in having unique elements in the tree.\n",
    "- Binary Search Trees can store any data that can be ordered.\n",
    "\n",
    "#### Time complexity for common operations:\n",
    "\n",
    "- **Insert**: Average case: O(log n), Worst case: O(n)\n",
    "- **Delete**: Average case: O(log n), Worst case: O(n)\n",
    "- **Remove**: Average case: O(log n), Worst case: O(n)\n",
    "- **Search**: Average case: O(log n), Worst case: O(n)\n",
    "\n",
    "Linear time complexity occurs when the Binary Search Tree degenerates into a line. To mitigate this issue, balanced Binary Search Trees were developed."
   ]
  },
  {
   "cell_type": "code",
   "execution_count": 1,
   "id": "0585e2c7-d79c-4a81-a683-fcc4f3f9703e",
   "metadata": {
    "tags": []
   },
   "outputs": [],
   "source": [
    "class BinarySearchTree:\n",
    "    \"\"\"\n",
    "    Binary Search Tree implementation.\n",
    "    \"\"\"\n",
    "\n",
    "    class Node:\n",
    "        \"\"\"\n",
    "        Node class for representing nodes in the tree.\n",
    "        \"\"\"\n",
    "\n",
    "        def __init__(self, left_child, right_child, value):\n",
    "            \"\"\"\n",
    "            Initialize a new node.\n",
    "\n",
    "            Args:\n",
    "                left_child (Node): The left child node.\n",
    "                right_child (Node): The right child node.\n",
    "                value: The value stored in the node.\n",
    "            \"\"\"\n",
    "            self.value = value\n",
    "            self.left_child = left_child\n",
    "            self.right_child = right_child\n",
    "\n",
    "        def __repr__(self):\n",
    "            \"\"\"\n",
    "            Returns a string representation of the node.\n",
    "\n",
    "            Returns:\n",
    "                str: A string representation of the node.\n",
    "            \"\"\"\n",
    "            return str((self.value, [self.left_child, self.right_child]))\n",
    "\n",
    "    def __init__(self):\n",
    "        \"\"\"\n",
    "        Initialize an empty binary search tree.\n",
    "        \"\"\"\n",
    "        self.root = None\n",
    "\n",
    "    def insert(self, value):\n",
    "        \"\"\"\n",
    "        Insert a value into the binary search tree.\n",
    "\n",
    "        Args:\n",
    "            value: The value to be inserted.\n",
    "        \"\"\"\n",
    "        if self.root is None:\n",
    "            self.root = self.Node(None, None, value)\n",
    "        else:\n",
    "            self._insert(self.root, value)\n",
    "\n",
    "    def _insert(self, current_node, value):\n",
    "        \"\"\"\n",
    "        Helper method to recursively insert a value into the binary search tree.\n",
    "\n",
    "        Args:\n",
    "            current_node (Node): The current node being traversed.\n",
    "            value: The value to be inserted.\n",
    "        \"\"\"\n",
    "        if value < current_node.value:\n",
    "            if current_node.left_child is None:\n",
    "                current_node.left_child = self.Node(None, None, value)\n",
    "            else:\n",
    "                self._insert(current_node.left_child, value)\n",
    "        elif value > current_node.value:\n",
    "            if current_node.right_child is None:\n",
    "                current_node.right_child = self.Node(None, None, value)\n",
    "            else:\n",
    "                self._insert(current_node.right_child, value)\n",
    "        else:\n",
    "            raise ValueError('Duplicate value')\n",
    "\n",
    "    def fill_tree(self, number_elements=100, max_integer=1000):\n",
    "        \"\"\"\n",
    "        Fill the tree with random integers.\n",
    "\n",
    "        Args:\n",
    "            number_elements (int): The number of elements to be inserted.\n",
    "            max_integer (int): The maximum integer value for random generation.\n",
    "        \"\"\"\n",
    "        from random import randint\n",
    "        for _ in range(number_elements):\n",
    "            element = randint(0, max_integer)\n",
    "            self.insert(element)\n",
    "\n",
    "    def traverse(self):\n",
    "        \"\"\"\n",
    "        Perform an inorder traversal of the binary search tree.\n",
    "        \"\"\"\n",
    "        if self.root is not None:\n",
    "            self._traverse(self.root)\n",
    "\n",
    "    def _traverse(self, current_node):\n",
    "        \"\"\"\n",
    "        Helper method to perform an inorder traversal of the binary search tree.\n",
    "\n",
    "        Args:\n",
    "            current_node (Node): The current node being traversed.\n",
    "        \"\"\"\n",
    "        if current_node is not None:\n",
    "            self._traverse(current_node.left_child)\n",
    "            print(current_node.value)\n",
    "            self._traverse(current_node.right_child)\n",
    "\n",
    "    def height(self):\n",
    "        \"\"\"\n",
    "        Calculate the height of the binary search tree.\n",
    "\n",
    "        Returns:\n",
    "            int: The height of the tree.\n",
    "        \"\"\"\n",
    "        if self.root is not None:\n",
    "            return self._height(self.root, 0)\n",
    "        else:\n",
    "            return 0\n",
    "\n",
    "    def _height(self, current_node, current_height):\n",
    "        \"\"\"\n",
    "        Helper method to recursively calculate the height of the binary search tree.\n",
    "\n",
    "        Args:\n",
    "            current_node (Node): The current node being traversed.\n",
    "            current_height (int): The current height of the tree.\n",
    "\n",
    "        Returns:\n",
    "            int: The height of the tree.\n",
    "        \"\"\"\n",
    "        if current_node is None:\n",
    "            return current_height\n",
    "        left_height = self._height(current_node.left_child, current_height + 1)\n",
    "        right_height = self._height(current_node.right_child, current_height + 1)\n",
    "        return max(left_height, right_height)\n",
    "\n",
    "    def search(self, value):\n",
    "        \"\"\"\n",
    "        Search for a value in the binary search tree.\n",
    "\n",
    "        Args:\n",
    "            value: The value to search for.\n",
    "\n",
    "        Returns:\n",
    "            bool: True if the value is found, False otherwise.\n",
    "        \"\"\"\n",
    "        if self.root is not None:\n",
    "            return self._search(self.root, value)\n",
    "        else:\n",
    "            return False\n",
    "\n",
    "    def _search(self, current_node, value):\n",
    "        \"\"\"\n",
    "        Helper method to recursively search for a value in the binary search tree.\n",
    "\n",
    "        Args:\n",
    "            current_node (Node): The current node being traversed.\n",
    "            value: The value to search for.\n",
    "\n",
    "        Returns:\n",
    "            bool: True if the value is found, False otherwise.\n",
    "        \"\"\"\n",
    "        if value == current_node.value:\n",
    "            return True\n",
    "        elif value < current_node.value and current_node.left_child is not None:\n",
    "            return self._search(current_node.left_child, value)\n",
    "        elif value > current_node.value and current_node.right_child is not None:\n",
    "            return self._search(current_node.right_child, value)\n",
    "        return False\n",
    "\n",
    "    def remove(self, value):\n",
    "        \"\"\"\n",
    "        Remove a value from the binary search tree.\n",
    "\n",
    "        Args:\n",
    "            value: The value to be removed.\n",
    "        \"\"\"\n",
    "        if self.root is not None:\n",
    "            self.root = self._remove(self.root, value)\n",
    "\n",
    "    def _remove(self, current_node, value):\n",
    "        \"\"\"\n",
    "        Helper method to recursively remove a value from the binary search tree.\n",
    "\n",
    "        Args:\n",
    "            current_node (Node): The current node being traversed.\n",
    "            value: The value to be removed.\n",
    "\n",
    "        Returns:\n",
    "            Node: The modified node after removal.\n",
    "        \"\"\"\n",
    "        if current_node is None:\n",
    "            return current_node\n",
    "\n",
    "        if value < current_node.value:\n",
    "            current_node.left_child = self._remove(current_node.left_child, value)\n",
    "        elif value > current_node.value:\n",
    "            current_node.right_child = self._remove(current_node.right_child, value)\n",
    "        else:\n",
    "            if current_node.left_child is None:\n",
    "                return current_node.right_child\n",
    "            elif current_node.right_child is None:\n",
    "                return current_node.left_child\n",
    "\n",
    "            current_node.value = self._min_value(current_node.right_child)\n",
    "            current_node.right_child = self._remove(current_node.right_child, current_node.value)\n",
    "\n",
    "        return current_node\n",
    "\n",
    "    def _min_value(self, current_node):\n",
    "        \"\"\"\n",
    "        Helper method to find the minimum value in a subtree.\n",
    "\n",
    "        Args:\n",
    "            current_node (Node): The root node of the subtree.\n",
    "\n",
    "        Returns:\n",
    "            The minimum value in the subtree.\n",
    "        \"\"\"\n",
    "        while current_node.left_child is not None:\n",
    "            current_node = current_node.left_child\n",
    "        return current_node.value"
   ]
  },
  {
   "cell_type": "code",
   "execution_count": 2,
   "id": "59c4b674-e22b-47c1-8bae-2de2e7d2848a",
   "metadata": {
    "tags": []
   },
   "outputs": [],
   "source": [
    "# Create an instance of the binary search tree\n",
    "bst = BinarySearchTree()\n",
    "\n",
    "# Insert values into the tree\n",
    "bst.insert(5)\n",
    "bst.insert(3)\n",
    "bst.insert(7)\n",
    "bst.insert(2)\n",
    "bst.insert(4)\n",
    "bst.insert(6)\n",
    "bst.insert(8)"
   ]
  },
  {
   "cell_type": "code",
   "execution_count": 3,
   "id": "77678d95-7082-44d4-9ebb-b4d1c52362a4",
   "metadata": {
    "tags": []
   },
   "outputs": [
    {
     "name": "stdout",
     "output_type": "stream",
     "text": [
      "Inorder Traversal:\n",
      "2\n",
      "3\n",
      "4\n",
      "5\n",
      "6\n",
      "7\n",
      "8\n"
     ]
    }
   ],
   "source": [
    "# Perform a traversal to check the values in the tree\n",
    "print(\"Inorder Traversal:\")\n",
    "bst.traverse()"
   ]
  },
  {
   "cell_type": "code",
   "execution_count": 4,
   "id": "c6cb62b6-2986-4d5e-a3c4-c292174a70eb",
   "metadata": {
    "tags": []
   },
   "outputs": [
    {
     "name": "stdout",
     "output_type": "stream",
     "text": [
      "4 is found in the tree.\n"
     ]
    }
   ],
   "source": [
    "# Search for a value in the tree\n",
    "value_to_find = 4\n",
    "if bst.search(value_to_find):\n",
    "    print(f\"{value_to_find} is found in the tree.\")\n",
    "else:\n",
    "    print(f\"{value_to_find} is not found in the tree.\")"
   ]
  },
  {
   "cell_type": "code",
   "execution_count": 5,
   "id": "7a1cb459-17b6-4d13-bd70-4edcec572094",
   "metadata": {
    "tags": []
   },
   "outputs": [
    {
     "name": "stdout",
     "output_type": "stream",
     "text": [
      "42 is not found in the tree.\n"
     ]
    }
   ],
   "source": [
    "# Search for a value in the tree\n",
    "value_to_find = 42\n",
    "if bst.search(value_to_find):\n",
    "    print(f\"{value_to_find} is found in the tree.\")\n",
    "else:\n",
    "    print(f\"{value_to_find} is not found in the tree.\")"
   ]
  },
  {
   "cell_type": "code",
   "execution_count": 6,
   "id": "875cefaf-75a1-47bf-8b34-06c9d73c11b1",
   "metadata": {
    "tags": []
   },
   "outputs": [
    {
     "name": "stdout",
     "output_type": "stream",
     "text": [
      "Removed 7 from the tree.\n"
     ]
    }
   ],
   "source": [
    "# Remove a value from the tree\n",
    "value_to_remove = 7\n",
    "bst.remove(value_to_remove)\n",
    "print(f\"Removed {value_to_remove} from the tree.\")"
   ]
  },
  {
   "cell_type": "code",
   "execution_count": 7,
   "id": "cabffafe-dbe0-4931-b48e-b7e9643cda2f",
   "metadata": {
    "tags": []
   },
   "outputs": [
    {
     "name": "stdout",
     "output_type": "stream",
     "text": [
      "Inorder Traversal after removal:\n",
      "2\n",
      "3\n",
      "4\n",
      "5\n",
      "6\n",
      "8\n"
     ]
    }
   ],
   "source": [
    "# Perform a traversal after removal to check the updated tree\n",
    "print(\"Inorder Traversal after removal:\")\n",
    "bst.traverse()"
   ]
  },
  {
   "cell_type": "code",
   "execution_count": 8,
   "id": "37a7309b-ba01-4ceb-b77a-1ca9434b9469",
   "metadata": {
    "tags": []
   },
   "outputs": [
    {
     "name": "stdout",
     "output_type": "stream",
     "text": [
      "The height of the tree is: 3\n"
     ]
    }
   ],
   "source": [
    "# Get the height of the tree\n",
    "tree_height = bst.height()\n",
    "print(f\"The height of the tree is: {tree_height}\")"
   ]
  }
 ],
 "metadata": {
  "kernelspec": {
   "display_name": "Python 3 (ipykernel)",
   "language": "python",
   "name": "python3"
  },
  "language_info": {
   "codemirror_mode": {
    "name": "ipython",
    "version": 3
   },
   "file_extension": ".py",
   "mimetype": "text/x-python",
   "name": "python",
   "nbconvert_exporter": "python",
   "pygments_lexer": "ipython3",
   "version": "3.9.16"
  }
 },
 "nbformat": 4,
 "nbformat_minor": 5
}
