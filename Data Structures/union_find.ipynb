{
 "cells": [
  {
   "cell_type": "markdown",
   "id": "dc13f4f1-218d-4ac8-98b9-bb56ee5ed43f",
   "metadata": {},
   "source": [
    "# Union Find\n",
    "The **Union-Find** algorithm, also known as Disjoint Set Union or Merge-Find Set, is a data structure that efficiently tracks connectivity and finds components in a set of elements. It provides operations to merge two components and check if two elements belong to the same component.   \n",
    "It has two primary operations: \n",
    "- <u>find</u> - Given an element the union find will tell you what group does this element belongs to.\n",
    "- <u>union</u> - Merges two groups together\n",
    "\n",
    "**Time Complexity**:\n",
    "\n",
    "| Operation          | Time     |\n",
    "|--------------------|----------|\n",
    "| **Construction**       | O(n)     |\n",
    "| **Union**              | alpha(n) |\n",
    "| **Find**               | alpha(n) |\n",
    "| **Get component size** | alpha(n) |\n",
    "| **Check if connected** | alpha(n) |\n",
    "| **Count components**   | O(1)     |\n",
    "\n",
    "alpha(n) - *Amortized constant time* (almost, but not quite constant time).  \n",
    "*Amortized constant time* is achieved through **Path Compression**, and it is the essential element of the Union Find."
   ]
  },
  {
   "cell_type": "code",
   "execution_count": 15,
   "id": "dd08da6f-b0a8-4e0a-be04-f71ee392c067",
   "metadata": {
    "tags": []
   },
   "outputs": [],
   "source": [
    "class UnionFind:\n",
    "    \"\"\"\n",
    "    UnionFind class represents a data structure that performs union-find operations efficiently.\n",
    "    It can be used to track connectivity and find components in a set of elements.\n",
    "    \"\"\"\n",
    "    \n",
    "    def __init__(self, data):\n",
    "        \"\"\"\n",
    "        Initializes the UnionFind object with the given data.\n",
    "\n",
    "        Parameters:\n",
    "        - data (list): The initial data representing elements in the UnionFind.\n",
    "\n",
    "        Raises:\n",
    "        - ValueError: If the size of the data is less than or equal to zero.\n",
    "        \"\"\"\n",
    "        if len(data) <= 0: raise ValueError('WRONG SIZE <=0')\n",
    "        \n",
    "        # use dictionary comprehension to map values to indexes for future lookup\n",
    "        self.elements = {idx: value for idx, value in enumerate(data)}\n",
    "                         \n",
    "        self.size_ = len(data)              # Number of elements in this Union Find\n",
    "        self.comp_num = len(data)           # Number of components in this Union Find\n",
    "        self.comp_size = [None] * len(data) # Track the number of each component\n",
    "        self.comp_id = [None] * len(data)   # id[i] points to the parent of i, if id[i] = i then i is a root node\n",
    "        for element in range(len(data)):\n",
    "            self.comp_id[element] = element # Link to itself (self root)\n",
    "            self.comp_size[element] = 1     # Originally each component is of size one\n",
    "    \n",
    "    def value_of(self, element):\n",
    "        \"\"\"\n",
    "        Returns the value associated with the given element.\n",
    "\n",
    "        Parameters:\n",
    "        - element (int): The element whose value is to be retrieved.\n",
    "\n",
    "        Returns:\n",
    "        - The value associated with the element.\n",
    "\n",
    "        Raises:\n",
    "        - ValueError: If the index is out of range.\n",
    "        \"\"\"\n",
    "        ...\n",
    "        if element >= len(self.elements): raise ValueError('Index is out of range')\n",
    "        return self.elements[element]\n",
    "    \n",
    "    def union(self, element_1, element_2):\n",
    "        \"\"\"\n",
    "        Unifies the components/sets containing element_1 and element_2.\n",
    "\n",
    "        Parameters:\n",
    "        - element_1 (int): The first element.\n",
    "        - element_2 (int): The second element.\n",
    "\n",
    "        Prints:\n",
    "        - A message if the elements are already in the same group.\n",
    "        \"\"\"\n",
    "        root_1  = self.find(element_1)\n",
    "        root_2 = self.find(element_2)\n",
    "        # If elements are already in the same group:\n",
    "        if root_1 == root_2: \n",
    "            print(f'\\nElements {element_1} and {element_2} are already in the same group!')\n",
    "            return\n",
    "    \n",
    "        # Merge two components / sets together\n",
    "        # Merge smaller component/set into the larger one\n",
    "        if self.comp_size[root_1] < self.comp_size[root_2]:\n",
    "            self.comp_size[root_2] += self.comp_size[root_1]\n",
    "            self.comp_size[root_1] = None\n",
    "            self.comp_id[root_1] = root_2\n",
    "        \n",
    "        else:\n",
    "            self.comp_size[root_1] += self.comp_size[root_2]\n",
    "            self.comp_size[root_2] = None\n",
    "            self.comp_id[root_2] = root_1\n",
    "        \n",
    "        # Since the roots found are different we know that the\n",
    "        # number of components / sets has decreased by one\n",
    "        self.comp_num -= 1\n",
    "    \n",
    "    def find(self, element):\n",
    "        \"\"\"\n",
    "        Finds and returns the root element of the component/set containing the given element.\n",
    "        Performs path compression to optimize future find operations.\n",
    "\n",
    "        Parameters:\n",
    "        - element (int): The element to find.\n",
    "\n",
    "        Returns:\n",
    "        - The root element of the component/set.\n",
    "        \"\"\"\n",
    "        root = element                      # find the root of the component / set\n",
    "        while root != self.comp_id[root]:\n",
    "            root = self.comp_id[root]\n",
    "            \n",
    "        # compress the path leading back to the root\n",
    "        # doing this operation is called path compression\n",
    "        # and is what gives us amortized constant time complexity\n",
    "        while element != root:\n",
    "            next_ = self.comp_id[element]\n",
    "            self.comp_id[element] = root\n",
    "            element = next_\n",
    "            \n",
    "        return root\n",
    "    \n",
    "    # write comments from the video\n",
    "    def connected(self, element_1, element_2):\n",
    "        \"\"\"\n",
    "        Checks if element_1 and element_2 are in the same component/set.\n",
    "\n",
    "        Parameters:\n",
    "        - element_1 (int): The first element.\n",
    "        - element_2 (int): The second element.\n",
    "\n",
    "        Returns:\n",
    "        - True if element_1 and element_2 are in the same component/set, False otherwise.\n",
    "        \"\"\"\n",
    "        return self.find(element_1) == self.find(element_2)\n",
    "    \n",
    "    def component_size(self, element):\n",
    "        \"\"\"\n",
    "        Returns the size of the component/set that the given element belongs to.\n",
    "\n",
    "        Parameters:\n",
    "        - element (int): The element.\n",
    "\n",
    "        Returns:\n",
    "        - The size of the component/set.\n",
    "        \"\"\"\n",
    "        return self.comp_size[self.find(element)]\n",
    "    \n",
    "    def size(self):\n",
    "        \"\"\"\n",
    "        Returns the total number of elements in the UnionFind.\n",
    "\n",
    "        Returns:\n",
    "        - The size of the UnionFind.\n",
    "        \"\"\"\n",
    "        return self.size_\n",
    "    \n",
    "    def components(self):\n",
    "        \"\"\"\n",
    "        Returns the number of components/sets in the UnionFind.\n",
    "\n",
    "        Returns:\n",
    "        - The number of components/sets.\n",
    "        \"\"\"\n",
    "        return self.comp_num\n",
    "    \n",
    "    def component_elements(self, element):\n",
    "        \"\"\"\n",
    "        Returns the dictionary of elements that belong to the component/set containing the given element.\n",
    "\n",
    "        Parameters:\n",
    "        - element (int): The element.\n",
    "\n",
    "        Returns:\n",
    "        - A a dictionary of elements in the component/set.\n",
    "        \"\"\"\n",
    "        root = self.find(element)\n",
    "        component_elements = {e: self.elements[e] for e, parent in enumerate(self.comp_id) if self.find(e) == root}\n",
    "        return component_elements"
   ]
  },
  {
   "cell_type": "markdown",
   "id": "c899818c-7240-4d54-a125-4968da01f339",
   "metadata": {
    "tags": []
   },
   "source": [
    "## Usage examples"
   ]
  },
  {
   "cell_type": "code",
   "execution_count": 16,
   "id": "729c16df-4486-4728-95d9-20373acecec4",
   "metadata": {
    "tags": []
   },
   "outputs": [
    {
     "data": {
      "text/plain": [
       "{0: 'element 0',\n",
       " 1: 'element 1',\n",
       " 2: 'element 2',\n",
       " 3: 'element 3',\n",
       " 4: 'element 4',\n",
       " 5: 'element 5',\n",
       " 6: 'element 6',\n",
       " 7: 'element 7',\n",
       " 8: 'element 8',\n",
       " 9: 'element 9'}"
      ]
     },
     "execution_count": 16,
     "metadata": {},
     "output_type": "execute_result"
    }
   ],
   "source": [
    "data = ['element 0', 'element 1',\n",
    "        'element 2', 'element 3',\n",
    "        'element 4', 'element 5',\n",
    "        'element 6', 'element 7',\n",
    "        'element 8', 'element 9']\n",
    "data_uf = UnionFind(data)\n",
    "data_uf.elements"
   ]
  },
  {
   "cell_type": "code",
   "execution_count": 17,
   "id": "8319f4cc-d6da-4b75-9b7d-67da63225c6e",
   "metadata": {
    "tags": []
   },
   "outputs": [
    {
     "name": "stdout",
     "output_type": "stream",
     "text": [
      "number of components before uniting: 10: [1, 1, 1, 1, 1, 1, 1, 1, 1, 1]\n",
      "\n",
      "number of components: 9: [2, None, 1, 1, 1, 1, 1, 1, 1, 1]\n",
      "number of components: 8: [2, None, 2, None, 1, 1, 1, 1, 1, 1]\n",
      "number of components: 7: [2, None, 2, None, 2, None, 1, 1, 1, 1]\n",
      "number of components: 6: [2, None, 2, None, 2, None, 2, None, 1, 1]\n",
      "number of components: 5: [2, None, 2, None, 2, None, 2, None, 2, None]\n",
      "\n",
      "Elements 2 and 3 are already in the same group!\n"
     ]
    }
   ],
   "source": [
    "# Proceeding to unite elements\n",
    "print(f'number of components before uniting: {data_uf.components()}: {data_uf.comp_size}\\n')\n",
    "\n",
    "data_uf.union(0, 1)\n",
    "print(f'number of components: {data_uf.components()}: {data_uf.comp_size}')\n",
    "\n",
    "data_uf.union(2, 3)\n",
    "print(f'number of components: {data_uf.components()}: {data_uf.comp_size}')\n",
    "\n",
    "data_uf.union(4, 5)\n",
    "print(f'number of components: {data_uf.components()}: {data_uf.comp_size}')\n",
    "\n",
    "data_uf.union(6, 7)\n",
    "print(f'number of components: {data_uf.components()}: {data_uf.comp_size}')\n",
    "\n",
    "data_uf.union(8, 9)\n",
    "print(f'number of components: {data_uf.components()}: {data_uf.comp_size}')\n",
    "\n",
    "# Attempt to unite previously united elements 2 and 3\n",
    "data_uf.union(2, 3)"
   ]
  },
  {
   "cell_type": "code",
   "execution_count": 18,
   "id": "bc11a53b-2f7f-454a-83a0-faaa4345a9d6",
   "metadata": {
    "tags": []
   },
   "outputs": [
    {
     "ename": "ValueError",
     "evalue": "Index is out of range",
     "output_type": "error",
     "traceback": [
      "\u001b[1;31m---------------------------------------------------------------------------\u001b[0m",
      "\u001b[1;31mValueError\u001b[0m                                Traceback (most recent call last)",
      "Cell \u001b[1;32mIn[18], line 2\u001b[0m\n\u001b[0;32m      1\u001b[0m \u001b[38;5;66;03m# Attempt to get the value via incorrect index\u001b[39;00m\n\u001b[1;32m----> 2\u001b[0m \u001b[43mdata_uf\u001b[49m\u001b[38;5;241;43m.\u001b[39;49m\u001b[43mvalue_of\u001b[49m\u001b[43m(\u001b[49m\u001b[38;5;241;43m10\u001b[39;49m\u001b[43m)\u001b[49m\n",
      "Cell \u001b[1;32mIn[15], line 44\u001b[0m, in \u001b[0;36mUnionFind.value_of\u001b[1;34m(self, element)\u001b[0m\n\u001b[0;32m     31\u001b[0m \u001b[38;5;250m\u001b[39m\u001b[38;5;124;03m\"\"\"\u001b[39;00m\n\u001b[0;32m     32\u001b[0m \u001b[38;5;124;03mReturns the value associated with the given element.\u001b[39;00m\n\u001b[0;32m     33\u001b[0m \n\u001b[1;32m   (...)\u001b[0m\n\u001b[0;32m     41\u001b[0m \u001b[38;5;124;03m- ValueError: If the index is out of range.\u001b[39;00m\n\u001b[0;32m     42\u001b[0m \u001b[38;5;124;03m\"\"\"\u001b[39;00m\n\u001b[0;32m     43\u001b[0m \u001b[38;5;241m.\u001b[39m\u001b[38;5;241m.\u001b[39m\u001b[38;5;241m.\u001b[39m\n\u001b[1;32m---> 44\u001b[0m \u001b[38;5;28;01mif\u001b[39;00m element \u001b[38;5;241m>\u001b[39m\u001b[38;5;241m=\u001b[39m \u001b[38;5;28mlen\u001b[39m(\u001b[38;5;28mself\u001b[39m\u001b[38;5;241m.\u001b[39melements): \u001b[38;5;28;01mraise\u001b[39;00m \u001b[38;5;167;01mValueError\u001b[39;00m(\u001b[38;5;124m'\u001b[39m\u001b[38;5;124mIndex is out of range\u001b[39m\u001b[38;5;124m'\u001b[39m)\n\u001b[0;32m     45\u001b[0m \u001b[38;5;28;01mreturn\u001b[39;00m \u001b[38;5;28mself\u001b[39m\u001b[38;5;241m.\u001b[39melements[element]\n",
      "\u001b[1;31mValueError\u001b[0m: Index is out of range"
     ]
    }
   ],
   "source": [
    "# Attempt to get the value via incorrect index\n",
    "data_uf.value_of(10)"
   ]
  },
  {
   "cell_type": "code",
   "execution_count": 19,
   "id": "c118f17b-733c-4104-bee2-e58b35a9a5e9",
   "metadata": {
    "tags": []
   },
   "outputs": [
    {
     "data": {
      "text/plain": [
       "{6: 'element 6', 7: 'element 7'}"
      ]
     },
     "execution_count": 19,
     "metadata": {},
     "output_type": "execute_result"
    }
   ],
   "source": [
    "# dictionary of elements that belong to the component/set containing element 6\n",
    "data_uf.component_elements(6)"
   ]
  },
  {
   "cell_type": "code",
   "execution_count": 20,
   "id": "ea636476-67d5-453e-9d32-8264b762f243",
   "metadata": {
    "tags": []
   },
   "outputs": [
    {
     "name": "stdout",
     "output_type": "stream",
     "text": [
      "number of components: 4: [4, None, 2, None, 2, None, None, None, 2, None]\n"
     ]
    }
   ],
   "source": [
    "# Further uniting elements 1 and 6\n",
    "data_uf.union(1, 6)\n",
    "print(f'number of components: {data_uf.components()}: {data_uf.comp_size}')"
   ]
  },
  {
   "cell_type": "code",
   "execution_count": 21,
   "id": "110ba12d-fa02-4ad6-ba00-1a7e85342f2b",
   "metadata": {
    "tags": []
   },
   "outputs": [
    {
     "data": {
      "text/plain": [
       "{0: 'element 0', 1: 'element 1', 6: 'element 6', 7: 'element 7'}"
      ]
     },
     "execution_count": 21,
     "metadata": {},
     "output_type": "execute_result"
    }
   ],
   "source": [
    "# dictionary of elements that belong to the component/set containing element 1\n",
    "data_uf.component_elements(1)"
   ]
  }
 ],
 "metadata": {
  "kernelspec": {
   "display_name": "Python 3 (ipykernel)",
   "language": "python",
   "name": "python3"
  },
  "language_info": {
   "codemirror_mode": {
    "name": "ipython",
    "version": 3
   },
   "file_extension": ".py",
   "mimetype": "text/x-python",
   "name": "python",
   "nbconvert_exporter": "python",
   "pygments_lexer": "ipython3",
   "version": "3.10.11"
  }
 },
 "nbformat": 4,
 "nbformat_minor": 5
}
