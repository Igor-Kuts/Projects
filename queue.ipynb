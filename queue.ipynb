{
 "cells": [
  {
   "cell_type": "markdown",
   "id": "a35e7d71-ce2b-4f60-9a04-c47215a25540",
   "metadata": {},
   "source": [
    "# Queue\n",
    "\n",
    "A queue is an abstract data structure that follows the First-In-First-Out (FIFO) principle, where elements are inserted at the rear and removed from the front. It provides operations to enqueue elements at the rear, dequeue elements from the front, peek at the front element without removing it, and check if the queue is empty.\n",
    "\n",
    "##### Key Characteristics:\n",
    "*Ordering*: Elements are stored and retrieved based on their insertion order, with the earliest added element at the front and the most recently added element at the rear.  \n",
    "\n",
    "*First-In-First-Out* (FIFO): The first element enqueued into the queue is the first one to be dequeued.\n",
    "Insertion and Removal: Elements can be added to the rear of the queue (enqueue operation) and removed from the front (dequeue operation).  \n",
    "\n",
    "*Mutable or Immutable*: The elements in the queue can be mutable or immutable, depending on the specific implementation.\n",
    "\n",
    "##### Common Operations:\n",
    "- Enqueue: Adds an element to the rear of the queue.\n",
    "- Dequeue: Removes and returns the element from the front of the queue.\n",
    "- Peek: Retrieves the element from the front of the queue without removing it.\n",
    "- Size: Returns the number of elements currently in the queue.\n",
    "- Is Empty: Checks if the queue is empty or not.\n",
    "\n",
    "##### Time Complexities (for queue implemented using a dynamic array or linked list):\n",
    "\n",
    "- Enqueue: O(1) - Adding an element to the end of the list using the append() method takes constant time.\n",
    "- Dequeue: O(n) - Removing an element from the front of the list using the pop(0) method requires shifting all subsequent elements, resulting in a linear time complexity as it depends on the number of elements in the list.\n",
    "- Peek: O(1) - Accessing the first element of the list using indexing (list[0]) can be done in constant time.\n",
    "- Size: O(1) - Determining the number of elements in the list using the len() function takes constant time.\n",
    "- Is Empty: O(1) - Checking if the list is empty can be done in constant time by examining the length of the list.\n",
    "\n",
    "##### Implementations:\n",
    "Queues can be implemented using various data structures, such as arrays, linked lists, or dynamic arrays.\n",
    "***\n",
    "Below are several implementations of stack in Python:\n",
    "- via List\n",
    "- via collections.deque\n",
    "- via queue.Queue"
   ]
  },
  {
   "cell_type": "code",
   "execution_count": 1,
   "id": "1136499e-6a65-40f0-bd39-e7492012b86d",
   "metadata": {
    "tags": []
   },
   "outputs": [
    {
     "name": "stdout",
     "output_type": "stream",
     "text": [
      "Initial queue:\n",
      "['item_1', 'item_2', 'item_3']\n",
      "\n",
      "Popping elements from the queue in FIFO order:\n",
      "1st pop: item_1\n",
      "2st pop: item_2\n",
      "3st pop: item_3\n",
      "\n",
      "Current queue:\n",
      "[]\n"
     ]
    }
   ],
   "source": [
    "# Implementation of queue via Python's List\n",
    "\n",
    "# Initializing a queue\n",
    "queue = []\n",
    "\n",
    "# append() function to enqueue elements\n",
    "queue.append('item_1')\n",
    "queue.append('item_2')\n",
    "queue.append('item_3')\n",
    "\n",
    "print(f'Initial queue:\\n{queue}')\n",
    "\n",
    "# pop(0) function to dequeue elements from queue in FIFO order\n",
    "print('\\nPopping elements from the queue in FIFO order:')\n",
    "print(f'1st pop: {queue.pop(0)}')\n",
    "print(f'2st pop: {queue.pop(0)}')\n",
    "print(f'3st pop: {queue.pop(0)}')\n",
    "\n",
    "# Queue after elements are popped:\n",
    "print(f'\\nCurrent queue:\\n{queue}')"
   ]
  },
  {
   "cell_type": "code",
   "execution_count": 2,
   "id": "01864ae7-a16d-45fb-a3b0-713b0b269186",
   "metadata": {
    "tags": []
   },
   "outputs": [
    {
     "name": "stdout",
     "output_type": "stream",
     "text": [
      "Initial queue:\n",
      "deque(['item_1', 'item_2', 'item_3'])\n",
      "\n",
      "Popping elements from the queue in FIFO order:\n",
      "1st pop: item_1\n",
      "2st pop: item_2\n",
      "3st pop: item_3\n",
      "\n",
      "Current queue:\n",
      "deque([])\n"
     ]
    }
   ],
   "source": [
    "# Implementation of queue via Python's collections.deque\n",
    "from collections import deque\n",
    "\n",
    "# Initializing a queue from collections.deque\n",
    "queue = deque()\n",
    "\n",
    "# append() function to enqueue elements\n",
    "queue.append('item_1')\n",
    "queue.append('item_2')\n",
    "queue.append('item_3')\n",
    "\n",
    "print(f'Initial queue:\\n{queue}')\n",
    "\n",
    "# popleft() function to dequeue elements from queue in FIFO order\n",
    "print('\\nPopping elements from the queue in FIFO order:')\n",
    "print(f'1st pop: {queue.popleft()}')\n",
    "print(f'2st pop: {queue.popleft()}')\n",
    "print(f'3st pop: {queue.popleft()}')\n",
    "\n",
    "# Queue after elements are popped:\n",
    "print(f'\\nCurrent queue:\\n{queue}')"
   ]
  },
  {
   "cell_type": "code",
   "execution_count": 6,
   "id": "42b15b42-de77-45b0-b936-91d91d5dd64d",
   "metadata": {
    "tags": []
   },
   "outputs": [
    {
     "name": "stdout",
     "output_type": "stream",
     "text": [
      "\n",
      "Number elements in the queue: 3\n",
      "\n",
      "Qeueu is full: True\n",
      "\n",
      "Popping elements from the queue in FIFO order:\n",
      "1st pop: item_1\n",
      "2st pop: item_2\n",
      "3st pop: item_3\n",
      "\n",
      "Number elements in the queue: 0\n",
      "\n",
      "Queue is empty: True\n"
     ]
    }
   ],
   "source": [
    "# Implementation of queue via Python's queue.Queue\n",
    "from queue import Queue\n",
    "\n",
    "# Initializing a queue from collections.deque\n",
    "# of maxsize = 3\n",
    "queue = Queue(maxsize = 3)\n",
    "\n",
    "# put() function to enqueue elements\n",
    "queue.put('item_1')\n",
    "queue.put('item_2')\n",
    "queue.put('item_3')\n",
    "\n",
    "# qsize() show number of elements in the queue.\n",
    "print(f'\\nNumber elements in the queue: {(queue.qsize())}')\n",
    "\n",
    "# empty() to check if the queue is empty.\n",
    "print(f'\\nQeueu is full: {queue.full()}')\n",
    "\n",
    "# get() function to dequeue elements from queue in FIFO order\n",
    "print('\\nPopping elements from the queue in FIFO order:')\n",
    "print(f'1st pop: {queue.get()}')\n",
    "print(f'2st pop: {queue.get()}')\n",
    "print(f'3st pop: {queue.get()}')\n",
    "\n",
    "# qsize() show number of elements in the queue.\n",
    "print(f'\\nNumber elements in the queue: {(queue.qsize())}')\n",
    "\n",
    "# empty() to check if the queue is empty.\n",
    "print(f'\\nQueue is empty: {queue.empty()}')"
   ]
  }
 ],
 "metadata": {
  "kernelspec": {
   "display_name": "Python 3 (ipykernel)",
   "language": "python",
   "name": "python3"
  },
  "language_info": {
   "codemirror_mode": {
    "name": "ipython",
    "version": 3
   },
   "file_extension": ".py",
   "mimetype": "text/x-python",
   "name": "python",
   "nbconvert_exporter": "python",
   "pygments_lexer": "ipython3",
   "version": "3.9.16"
  }
 },
 "nbformat": 4,
 "nbformat_minor": 5
}
