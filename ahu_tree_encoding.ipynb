{
 "cells": [
  {
   "cell_type": "markdown",
   "id": "88b60557-9798-48e2-9bc9-2fda707cf486",
   "metadata": {},
   "source": [
    "# AHU Tree Encoding\n",
    "\n",
    "The AHU (Aho, Hopcroft, Ullman) algorithm is a **clever serialization technique for representing a tree as a unique string**.\n",
    "\n",
    "Unlike many tree isomorphism invariants and heuristics, AHI is able to capture a <font color=\"orange\" size=\"3\"><b>complete history</b></font> of a tree's <font color=\"slate\" size=\"3\"><b>degree spectrum</b></font> and structure ensuring a deterministic method of checking for tree isomorphisms.\n",
    "\n",
    "**NOTES**:\n",
    "- AHU is better performed on a rooted trees.\n",
    "    - Appropriate algorithms will be used for choosing the right root node and for rooting tree.\n",
    "    - Rooted tree will be stored as class objects for better encapsulation and ease of access.\n",
    "\n",
    "### Algorithm\n",
    "1. Start by assigning all leaf nodes Knuth tuples: `'()'`\n",
    "2. Every time you move up a layer the labels of the previous subtrees get sorted lexicographically and wrapped in brackets.\n",
    "\t1. Labels need to get **sorted** lexicographically when combined for an algorithm to work.\n",
    "3. You cannot process a node until you have processed all its children."
   ]
  },
  {
   "cell_type": "code",
   "execution_count": 1,
   "id": "7e98a164-8d6e-45bc-8350-dd450545fbdd",
   "metadata": {
    "tags": []
   },
   "outputs": [],
   "source": [
    "# Tree represented as an undirected unweighted acyclic graph.\n",
    "tree = {\n",
    "    0: [(1, ), (2, ), (5, )],\n",
    "    1: [(0, )],\n",
    "    2: [(0, ), (3, )],\n",
    "    3: [(2, )],\n",
    "    4: [(5, )],\n",
    "    5: [(0, ), (4, ), (6, )],\n",
    "    6: [(5, )]\n",
    "}"
   ]
  },
  {
   "cell_type": "markdown",
   "id": "bd6c7e15-a8ca-4c15-82ee-84600e1415b6",
   "metadata": {},
   "source": [
    "##### First: \n",
    "- Find the appropriate node to root this tree:"
   ]
  },
  {
   "cell_type": "code",
   "execution_count": 2,
   "id": "5b6dec35-c5bd-4fa0-91b5-1596888bc62c",
   "metadata": {
    "tags": []
   },
   "outputs": [],
   "source": [
    "def tree_centers(tree):\n",
    "    '''\n",
    "    Function to find center(s) of a tree\n",
    "    \n",
    "    Args:\n",
    "    - tree: Tree represented in a form of an undirected graph \n",
    "            as a dictinary of adjacency lists, where each key represents a node\n",
    "            with list of edges, where each tuple represents an edge direction \n",
    "            and associated weight (if any)\n",
    "            e.g.: {0: [(1, 2), (2, 5)], 1: [(0, 2), (3, 4)], ...}\n",
    "    \n",
    "    Returns:\n",
    "    - centers: List, with one or two centers of a tree.\n",
    "               e.g.: [1, 3]\n",
    "    '''\n",
    "    # Array to store the degree of each node\n",
    "    degree = [0] * len(tree)\n",
    "    \n",
    "    # Array to store outermost layer of leaves\n",
    "    leaves = []\n",
    "    \n",
    "    # Calculate the degree of each node in the tree\n",
    "    for i in range(len(tree)):\n",
    "        degree[i] = len(tree[i])\n",
    "        \n",
    "        # If a node has a degree of 0 or 1, it is a leaf node\n",
    "        if degree[i] == 0 or degree[i] == 1:\n",
    "            leaves.append(i)\n",
    "            degree[i] = 0\n",
    "\n",
    "    # Counter to keep track of the number of processed nodes.\n",
    "    processed_nodes_count = len(leaves)\n",
    "    \n",
    "    # Continue the process until all nodes have been processed\n",
    "    while processed_nodes_count < (len(tree)):\n",
    "        \n",
    "        # Array to store the new layer of leaves\n",
    "        new_leaves = []\n",
    "        \n",
    "        # Process each node in the current layer of leaves\n",
    "        for node in leaves:\n",
    "            for neighbor in tree[node]:\n",
    "                neighbor = neighbor[0]\n",
    "                \n",
    "                # Decrement the degree of a neighbor node\n",
    "                degree[neighbor] = degree[neighbor] - 1\n",
    "                \n",
    "                # If degree becomes 1, add it to the new layer\n",
    "                if degree[neighbor] == 1:\n",
    "                    new_leaves.append(neighbor)\n",
    "                    \n",
    "            # Set degree of processed node to zero.\n",
    "            degree[node] = 0\n",
    "            \n",
    "        # Update the count of processed nodes\n",
    "        processed_nodes_count += len(new_leaves)\n",
    "        \n",
    "        # The remaining nodes in the new layer of leaves are the centers of the tree\n",
    "        centers = new_leaves\n",
    "\n",
    "    return centers"
   ]
  },
  {
   "cell_type": "code",
   "execution_count": 3,
   "id": "2576df37-719c-4f36-9a43-191b4879bc9f",
   "metadata": {
    "tags": []
   },
   "outputs": [
    {
     "name": "stdout",
     "output_type": "stream",
     "text": [
      "Root node for a balanced rooted tree: 0\n"
     ]
    }
   ],
   "source": [
    "center = tree_centers(tree)[0]\n",
    "print('Root node for a balanced rooted tree:',center)"
   ]
  },
  {
   "cell_type": "markdown",
   "id": "9edfc819-8d77-491a-85a5-052f3add234c",
   "metadata": {},
   "source": [
    "##### Second: \n",
    "- Root the tree on the root node found above:"
   ]
  },
  {
   "cell_type": "code",
   "execution_count": 4,
   "id": "a1487d47-89c2-467d-bc5d-adaf9e0705c7",
   "metadata": {},
   "outputs": [],
   "source": [
    "def root_tree(graph, root_id):\n",
    "    '''\n",
    "    Function for rooting an acyclic undirected graph.\n",
    "    \n",
    "    Args:\n",
    "    - graph:   A dictinary of adjacency lists, where each key represents a node\n",
    "               with list of edges, where each tuple represents an edge direction \n",
    "               and associated weight (if any)\n",
    "               e.g.: [(0, 2), (1, 5), (3, 11), (2, 8)]\n",
    "    - root_id: Index of a node to perform rooting from.\n",
    "    \n",
    "    Returns:\n",
    "    - root:    List, root node of a rooted tree of form: [node, parent, [children]]\n",
    "               e.g.: [0, None, [1, 2, 5]] - Root node has no parents.\n",
    "    '''\n",
    "    class tree_node:\n",
    "        '''\n",
    "        Tree_node class object\n",
    "            \n",
    "        Parameters:\n",
    "            \n",
    "        - self.id:       Unique integer to indentify a node\n",
    "        - self.parent:   Pointer to parent tree_node object. Only the\n",
    "                           root node has a 'None' parent tree_node reference\n",
    "        - self.children: List of pointers to child tree_nodes\n",
    "        '''\n",
    "        def __init__(self, node_id, parent, children):\n",
    "            self.id = node_id\n",
    "            self.parent = parent\n",
    "            self.children = [] \n",
    "    \n",
    "        def print_tree(self, indent='', last=True):\n",
    "            '''\n",
    "            Prints the tree structure starting from the current node in a hierarchical format.\n",
    "    \n",
    "            Args:\n",
    "            - indent: String representing the indentation for the current node.\n",
    "            - last:   Boolean indicating if the current node is the last child of its parent.\n",
    "                      Determines the marker used for the current node.\n",
    "            '''\n",
    "            marker = '└─ ' if last else '├─ '\n",
    "            print(f\"{indent}{marker}{self.id}\")\n",
    "            indent += '    ' if last else '│   '\n",
    "            child_count = len(self.children)\n",
    "            for index, child in enumerate(self.children):\n",
    "                last_child = index == child_count - 1\n",
    "                child.print_tree(indent, last_child)\n",
    "                \n",
    "        def __repr__(self):\n",
    "            '''\n",
    "            Returns a string representation of the tree node object.\n",
    "            The string representation includes the node id, parent id (if parent exists), and a list of children ids.\n",
    "            '''\n",
    "            return str((self.id,\n",
    "                        self.parent.id if self.parent else None,\n",
    "                        [child.id for child in self.children]))\n",
    "            \n",
    "    def build_tree(graph, node, parent):\n",
    "        '''\n",
    "        Helper function to recursively build a tree via\n",
    "        the Depth First Search algorithm.\n",
    "        '''\n",
    "        for child_id in graph[node.id]:\n",
    "            if parent is not None and child_id[0] == parent.id: continue\n",
    "            child = tree_node(child_id[0], node, [])\n",
    "            node.children.append(child)\n",
    "            build_tree(graph, child, child.parent)\n",
    "        return node\n",
    "    \n",
    "    root_node = tree_node(root_id, None, [])\n",
    "    root = build_tree(graph, root_node, None)\n",
    "    \n",
    "    return root"
   ]
  },
  {
   "cell_type": "code",
   "execution_count": 5,
   "id": "0bb82881-fbef-4062-a580-f12367722422",
   "metadata": {
    "tags": []
   },
   "outputs": [],
   "source": [
    "root = root_tree(tree, center)"
   ]
  },
  {
   "cell_type": "markdown",
   "id": "9bbac270-f785-45e7-b72a-f2c4edacf763",
   "metadata": {},
   "source": [
    "##### Third\n",
    "- Perform the AHU encoding, to serialize the rooted tree:"
   ]
  },
  {
   "cell_type": "code",
   "execution_count": 6,
   "id": "1bd305ae-0c7a-42ae-8ccb-979468a6f7fe",
   "metadata": {
    "tags": []
   },
   "outputs": [],
   "source": [
    "def encode(node):\n",
    "    '''\n",
    "    Perform AHU encoding of a tree\n",
    "    \n",
    "    Args:\n",
    "    - node: tree_node class object, root node of a rooted tree.\n",
    "    \n",
    "    Returns:\n",
    "    - String, AHU encoded tree.\n",
    "      E.g.: {{}{{}}{{}{}}}\n",
    "    '''\n",
    "    if node == None:\n",
    "        print('node == None: True')\n",
    "        return \"\"\n",
    "    labels = []\n",
    "    for child in node.children:\n",
    "        labels.append(encode(child))\n",
    "    # Labels have to be sorted lexicographically    \n",
    "    sorted(labels)\n",
    "\n",
    "    result = \"\"\n",
    "    for label in labels:\n",
    "        result += label\n",
    "        \n",
    "    return \"{\" + result + \"}\""
   ]
  },
  {
   "cell_type": "code",
   "execution_count": 7,
   "id": "03002d5d-805f-4860-9e00-fe68818188f7",
   "metadata": {
    "tags": []
   },
   "outputs": [
    {
     "data": {
      "text/plain": [
       "'{{}{{}}{{}{}}}'"
      ]
     },
     "execution_count": 7,
     "metadata": {},
     "output_type": "execute_result"
    }
   ],
   "source": [
    "encoded_tree = encode(root)\n",
    "encoded_tree"
   ]
  }
 ],
 "metadata": {
  "kernelspec": {
   "display_name": "Python 3 (ipykernel)",
   "language": "python",
   "name": "python3"
  },
  "language_info": {
   "codemirror_mode": {
    "name": "ipython",
    "version": 3
   },
   "file_extension": ".py",
   "mimetype": "text/x-python",
   "name": "python",
   "nbconvert_exporter": "python",
   "pygments_lexer": "ipython3",
   "version": "3.9.16"
  }
 },
 "nbformat": 4,
 "nbformat_minor": 5
}
