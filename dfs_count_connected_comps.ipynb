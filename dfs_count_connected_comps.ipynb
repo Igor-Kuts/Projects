{
 "cells": [
  {
   "cell_type": "code",
   "execution_count": null,
   "id": "8f91bb14-d616-45f6-997e-2c3ac3c3e797",
   "metadata": {},
   "outputs": [],
   "source": [
    "# undirected graph as an example\n",
    "\n",
    "graph = {\n",
    "    0:  [(9, )],\n",
    "    1:  [(0, )],\n",
    "    2:  [(3, )],\n",
    "    3:  [(2, ), (4, ), (5, )],\n",
    "    4:  [(3, )],\n",
    "    5:  [(6, ), (3, )],\n",
    "    6:  [(5, )],\n",
    "    7:  [(10,)],\n",
    "    8:  [(1, )],\n",
    "    9:  [(8, )],\n",
    "    10: [(11,)],\n",
    "    11: [(7, )]\n",
    "}"
   ]
  },
  {
   "cell_type": "code",
   "execution_count": null,
   "id": "e83f86f9-79d7-4559-b8f8-e96943dfe276",
   "metadata": {},
   "outputs": [],
   "source": [
    "# DFS explores the whole graph and returns: \n",
    "#\n",
    "# dict. = keys: component's number\n",
    "#         vals: list: [0 = number of nodes,\n",
    "#                     [1 = list of nodes] ]\n",
    "\n",
    "def count_components(graph):\n",
    "    n = len(graph.keys())\n",
    "    visited = [False for i in range(n)]\n",
    "    \n",
    "    components_ = {}\n",
    "    curr_comp = 0\n",
    "    \n",
    "    def dfs_cc(at, components_):\n",
    "        components_[curr_comp][0] += 1\n",
    "        components_[curr_comp][1].append(at)\n",
    "        visited[at] = True\n",
    "        neighbours = graph[at]\n",
    "        for edge in neighbours:\n",
    "            if not visited[edge[0]]:\n",
    "                dfs_cc(edge[0], components_)\n",
    "    \n",
    "    for i in range(n):\n",
    "        if not visited[i]:\n",
    "            components_[curr_comp] = [0]\n",
    "            components_[curr_comp].append([])\n",
    "            dfs_cc(i, components_)\n",
    "            curr_comp += 1\n",
    "            \n",
    "    return components_"
   ]
  },
  {
   "cell_type": "code",
   "execution_count": null,
   "id": "bf4ed374-5fd8-4e72-84cf-daedee352847",
   "metadata": {},
   "outputs": [],
   "source": [
    "print(count_components(graph))"
   ]
  }
 ],
 "metadata": {
  "kernelspec": {
   "display_name": "Python 3 (ipykernel)",
   "language": "python",
   "name": "python3"
  },
  "language_info": {
   "codemirror_mode": {
    "name": "ipython",
    "version": 3
   },
   "file_extension": ".py",
   "mimetype": "text/x-python",
   "name": "python",
   "nbconvert_exporter": "python",
   "pygments_lexer": "ipython3",
   "version": "3.9.16"
  }
 },
 "nbformat": 4,
 "nbformat_minor": 5
}
