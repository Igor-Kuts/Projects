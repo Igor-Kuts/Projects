{
 "cells": [
  {
   "cell_type": "markdown",
   "id": "b9501de6-d068-47a3-a299-dc0bb064fc25",
   "metadata": {},
   "source": [
    "# Priority Queue ADT\n",
    "\n",
    "A priority queue is an abstract data type that stores a collection of elements, each associated with a priority value. It allows elements to be inserted with an assigned priority and retrieves them in order of their priorities. In a priority queue, elements with higher priorities are dequeued before elements with lower priorities.\n",
    "\n",
    "##### Key Characteristics:\n",
    "- Priority: Each element in the priority queue is associated with a priority value, which determines its relative importance.\n",
    "- Ordering: Elements are stored and retrieved based on their priority value, following a specific ordering rule (e.g., highest priority first or lowest priority first).\n",
    "- Enqueue and Dequeue: Elements can be added to the priority queue (enqueue operation) and removed from the queue based on their priority (dequeue operation).\n",
    "- Mutable or Immutable: The priority of an element in the queue can be mutable or immutable, depending on the specific implementation.\n",
    "\n",
    "##### Common Operations:\n",
    "- Enqueue: Adds an element to the priority queue with an assigned priority.\n",
    "- Dequeue: Removes and returns the element with the highest (or lowest) priority from the queue.\n",
    "- Peek: Retrieves the element with the highest (or lowest) priority from the queue without removing it.\n",
    "- Size: Returns the number of elements currently in the priority queue.\n",
    "- Is Empty: Checks if the priority queue is empty or not.\n",
    "\n",
    "##### Implementations:  \n",
    "Priority queues can be implemented using various data structures, such as heaps, balanced search trees, or arrays with efficient insertion and removal operations.\n",
    "***\n",
    "Code below implements a priority queue using the `heapq` module in Python. It provides the functionality to push items into the queue with assigned priorities, pop the item with the highest priority, and peek at the item with the highest priority without removing it. The implementation incorporates error handling and follows Python naming conventions.\n",
    "\n",
    "The time complexities for a priority queue implemented using a min-heap are as follows:\n",
    "\n",
    "- Enqueue (Push): O(log n)\n",
    "- Dequeue (Pop): O(log n)\n",
    "- Peek: O(1)\n",
    "- Size: O(1)\n",
    "\n",
    "In summary, when implementing a priority queue using a min-heap, the enqueue and dequeue operations have logarithmic time complexities due to maintaining the heap property, while peeking and determining the size have constant time complexities."
   ]
  },
  {
   "cell_type": "code",
   "execution_count": 1,
   "id": "77a8734e-68a2-4759-baf2-7e9aeeca893f",
   "metadata": {
    "tags": []
   },
   "outputs": [
    {
     "name": "stdout",
     "output_type": "stream",
     "text": [
      "5\n",
      "False\n",
      "Lora\n",
      "Mark\n"
     ]
    }
   ],
   "source": [
    "import heapq\n",
    "\n",
    "class MinPriorityQueue:\n",
    "    def __init__(self):\n",
    "        self._pq = []  # Initialize an empty priority queue\n",
    "    \n",
    "    def enqueue(self, item, priority):\n",
    "        \"\"\"\n",
    "        Pushes an item with its associated priority into the priority queue.\n",
    "        \"\"\"\n",
    "        element = (priority, item)\n",
    "        heapq.heappush(self._pq, element)  # Push the element onto the priority queue\n",
    "\n",
    "    def dequeue(self):\n",
    "        \"\"\"\n",
    "        Removes and returns the item with the highest priority from the priority queue.\n",
    "        \"\"\"\n",
    "        if not self._pq:\n",
    "            raise IndexError(\"Priority queue is empty\")\n",
    "        smallest = heapq.heappop(self._pq)  # Pop the smallest element from the priority queue\n",
    "        return smallest[1]  # Return the item part of the tuple\n",
    "\n",
    "    def peek(self):\n",
    "        \"\"\"\n",
    "        Returns the item with the highest priority from the priority queue without removing it.\n",
    "        \"\"\"\n",
    "        if not self._pq:\n",
    "            raise IndexError(\"Priority queue is empty\")\n",
    "        smallest = min(self._pq)  # Retrieve the smallest element from the priority queue\n",
    "        return smallest[1]  # Return the item part of the tuple\n",
    "    \n",
    "    def size(self):\n",
    "        \"\"\"\n",
    "        Returns the number of items currently in the priority queue.\n",
    "        \"\"\"\n",
    "        print(len(self._pq))\n",
    "        \n",
    "    def is_empty(self):\n",
    "        \"\"\"\n",
    "        Checks if the priority queue is empty.\n",
    "        \"\"\"\n",
    "        print(len(self._pq) == 0)\n",
    "    \n",
    "# Example usage:\n",
    "my_queue = MinPriorityQueue()\n",
    "\n",
    "my_queue.enqueue('Elly', 3)\n",
    "my_queue.enqueue('Bob', 7)\n",
    "my_queue.enqueue('Mark', 2)\n",
    "my_queue.enqueue('Lora', 1)\n",
    "my_queue.enqueue('Kurt', 5)\n",
    "\n",
    "my_queue.size()      # Output: 5\n",
    "my_queue.is_empty()  # Output: False\n",
    "\n",
    "print(my_queue.dequeue())   # Output: 'Lora'\n",
    "print(my_queue.peek())  # Output: 'Mark'"
   ]
  }
 ],
 "metadata": {
  "kernelspec": {
   "display_name": "Python 3 (ipykernel)",
   "language": "python",
   "name": "python3"
  },
  "language_info": {
   "codemirror_mode": {
    "name": "ipython",
    "version": 3
   },
   "file_extension": ".py",
   "mimetype": "text/x-python",
   "name": "python",
   "nbconvert_exporter": "python",
   "pygments_lexer": "ipython3",
   "version": "3.9.16"
  }
 },
 "nbformat": 4,
 "nbformat_minor": 5
}
