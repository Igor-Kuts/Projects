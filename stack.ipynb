{
 "cells": [
  {
   "cell_type": "markdown",
   "id": "0a2d9acd-b592-47a8-a9ab-903a97374444",
   "metadata": {},
   "source": [
    "# Stack\n",
    "\n",
    "A stack is an abstract data structure that follows the Last-In-First-Out (LIFO) principle, where elements are inserted and removed from the same end. It provides operations to push elements onto the stack, pop elements from the top, peek at the top element without removing it, and check if the stack is empty.\n",
    "\n",
    "##### Key Characteristics:\n",
    "- Ordering: Elements are stored and retrieved based on their insertion order, with the most recently added element at the top.\n",
    "- Last-In-First-Out (LIFO): The last element pushed onto the stack is the first one to be popped off.\n",
    "- Insertion and Removal: Elements can be added to the stack (push operation) and removed from the stack (pop operation) from the top.\n",
    "- Mutable or Immutable: The elements in the stack can be mutable or immutable, depending on the specific implementation.\n",
    "\n",
    "##### Common Operations:\n",
    "- Push: Adds an element to the top of the stack.\n",
    "- Pop: Removes and returns the top element from the stack.\n",
    "- Peek: Retrieves the top element from the stack without removing it.\n",
    "- Size: Returns the number of elements currently in the stack.\n",
    "- Is Empty: Checks if the stack is empty or not.\n",
    "\n",
    "##### Time complexity:\n",
    "\n",
    "The time complexities of stack operations can vary depending on the implementation method or the underlying data structure used to represent the stack. Here are the typical time complexities for stack operations based on common implementation methods:\n",
    "\n",
    " - Push: O(1) - Adding an element to the top of the stack can be done in constant time regardless of the size of the stack.\n",
    "- Pop: O(1) - Removing the top element from the stack also takes constant time.\n",
    "- Peek: O(1) - Accessing the top element of the stack without removing it can be done in constant time.\n",
    "- Size: O(1) - Determining the number of elements in the stack can be done in constant time if the size is tracked and maintained.\n",
    "- Is Empty: O(1) - Checking if the stack is empty can be done in constant time by examining the size or maintaining a flag.\n",
    "\n",
    "\n",
    "It's important to note that these time complexities assume that the underlying data structure used for the stack operations has efficient insertion and removal at one end, such as an array or a linked list. If a different data structure or implementation method is used, the time complexities may vary.\n",
    "\n",
    "##### Implementations:\n",
    "Stacks can be implemented using various data structures, such as arrays, linked lists, or dynamic arrays.\n",
    "\n",
    "Below are several implementations of stack in Python:\n",
    "- via List\n",
    "- via collections.deque\n",
    "- via queue.LifoQueue"
   ]
  },
  {
   "cell_type": "code",
   "execution_count": 1,
   "id": "d05a1aec-28cf-48a9-a99f-949d605d3914",
   "metadata": {
    "tags": []
   },
   "outputs": [
    {
     "name": "stdout",
     "output_type": "stream",
     "text": [
      "Initial stack:\n",
      "['item_1', 'item_2', 'item_3']\n",
      "\n",
      "Popping elements from the stack in LIFO order:\n",
      "1st pop: item_3\n",
      "2st pop: item_2\n",
      "3st pop: item_1\n",
      "\n",
      "Current stack:\n",
      "[]\n"
     ]
    }
   ],
   "source": [
    "# Implementation of stack via Python's List\n",
    "\n",
    "# Initializing a stack\n",
    "stack = []\n",
    "\n",
    "# append() function to push element in the stack\n",
    "stack.append('item_1')\n",
    "stack.append('item_2')\n",
    "stack.append('item_3')\n",
    "\n",
    "print(f'Initial stack:\\n{stack}')\n",
    "\n",
    "# pop() function to pop element from stack in LIFO order\n",
    "print('\\nPopping elements from the stack in LIFO order:')\n",
    "print(f'1st pop: {stack.pop()}')\n",
    "print(f'2st pop: {stack.pop()}')\n",
    "print(f'3st pop: {stack.pop()}')\n",
    "\n",
    "# Stack after elements are popped:\n",
    "print(f'\\nCurrent stack:\\n{stack}')"
   ]
  },
  {
   "cell_type": "code",
   "execution_count": 2,
   "id": "b7cd3e4c-1c91-48f6-bfc7-f3234ac990aa",
   "metadata": {
    "tags": []
   },
   "outputs": [
    {
     "name": "stdout",
     "output_type": "stream",
     "text": [
      "Initial stack:\n",
      "deque(['item_1', 'item_2', 'item_3'])\n",
      "\n",
      "Popping elements from the stack in LIFO order:\n",
      "1st pop: item_3\n",
      "2st pop: item_2\n",
      "3st pop: item_1\n",
      "\n",
      "Current stack:\n",
      "deque([])\n"
     ]
    }
   ],
   "source": [
    "# Implementation of stack \n",
    "# via Python's standard library collections.deque\n",
    "from collections import deque\n",
    "\n",
    "# Initializing a stack\n",
    "stack = deque()\n",
    "\n",
    "# append() function to push element in the stack\n",
    "stack.append('item_1')\n",
    "stack.append('item_2')\n",
    "stack.append('item_3')\n",
    "\n",
    "print(f'Initial stack:\\n{stack}')\n",
    "\n",
    "# pop() function to pop element from stack in LIFO order\n",
    "print('\\nPopping elements from the stack in LIFO order:')\n",
    "print(f'1st pop: {stack.pop()}')\n",
    "print(f'2st pop: {stack.pop()}')\n",
    "print(f'3st pop: {stack.pop()}')\n",
    "\n",
    "# Stack after elements are popped:\n",
    "print(f'\\nCurrent stack:\\n{stack}')"
   ]
  },
  {
   "cell_type": "code",
   "execution_count": 4,
   "id": "1ce4271f-10c4-4add-932c-5fbf6f3166c6",
   "metadata": {
    "tags": []
   },
   "outputs": [
    {
     "name": "stdout",
     "output_type": "stream",
     "text": [
      "\n",
      "Number elements in the stack: 3\n",
      "\n",
      "Popping elements from the stack in LIFO order:\n",
      "1st pop: item_3\n",
      "2st pop: item_2\n",
      "3st pop: item_1\n",
      "\n",
      "Number elements in the stack: 0\n",
      "\n",
      "Stack is empty: True\n"
     ]
    }
   ],
   "source": [
    "# Implementation of stack \n",
    "# via Python's standard library queue.LifoQueue\n",
    "from queue import LifoQueue\n",
    "\n",
    "# Initializing a stack.\n",
    "stack = LifoQueue(maxsize=3)\n",
    "\n",
    "# put() function to push element in the stack.\n",
    "stack.put('item_1')\n",
    "stack.put('item_2')\n",
    "stack.put('item_3')\n",
    "\n",
    "# qsize() show number of elements in the stack.\n",
    "print(f'\\nNumber elements in the stack: {(stack.qsize())}')\n",
    "\n",
    "# get() function to pop element from stack in LIFO order.\n",
    "print('\\nPopping elements from the stack in LIFO order:')\n",
    "print(f'1st pop: {stack.get()}')\n",
    "print(f'2st pop: {stack.get()}')\n",
    "print(f'3st pop: {stack.get()}')\n",
    "\n",
    "# qsize() show number of elements in the stack.\n",
    "print(f'\\nNumber elements in the stack: {(stack.qsize())}')\n",
    "\n",
    "# empty() to check if the stack is empty.\n",
    "print(f'\\nStack is empty: {stack.empty()}')"
   ]
  }
 ],
 "metadata": {
  "kernelspec": {
   "display_name": "Python 3 (ipykernel)",
   "language": "python",
   "name": "python3"
  },
  "language_info": {
   "codemirror_mode": {
    "name": "ipython",
    "version": 3
   },
   "file_extension": ".py",
   "mimetype": "text/x-python",
   "name": "python",
   "nbconvert_exporter": "python",
   "pygments_lexer": "ipython3",
   "version": "3.9.16"
  }
 },
 "nbformat": 4,
 "nbformat_minor": 5
}
