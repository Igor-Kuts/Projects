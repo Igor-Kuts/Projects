{
 "cells": [
  {
   "cell_type": "markdown",
   "id": "5448a54e-810b-4868-8bfd-d8d4e3b34017",
   "metadata": {
    "tags": []
   },
   "source": [
    "# Breadth First Search Shortest Path\n",
    "Shortest path on an **unweighted graph**"
   ]
  },
  {
   "cell_type": "markdown",
   "id": "6e59843e-8019-40ed-8c5e-b07f8ea9f3f9",
   "metadata": {},
   "source": [
    "**The Breadth First Search** (BFS) is a fundamental search algorithm (along with DFS) used to explore nodes and edges of a graph.   \n",
    "It runs with a time complexity of <font color=\"green\"><b> O(V+E)</b> </font>and is often used as a building block in other algorithms.\n",
    "\n",
    "The BFS algorithm is particularly useful for one thing: finding the <font color=\"purple\"><b> shortest path on unweighted graphs</b> </font>.\n",
    "\n",
    "BFS explores nodes in a \"layered\" fashion. It does this by maintaining the queue of which node it should visit  next.   \n",
    "Upon reaching a new node the algorithm adds it to the queue to visit it later."
   ]
  },
  {
   "cell_type": "code",
   "execution_count": 15,
   "id": "eef80b43-c7c8-4456-8a9d-ae8caeaf0735",
   "metadata": {
    "tags": []
   },
   "outputs": [],
   "source": [
    "import numpy as np"
   ]
  },
  {
   "cell_type": "code",
   "execution_count": 11,
   "id": "8dc1234b-6857-43a4-88aa-e90b90971393",
   "metadata": {
    "tags": []
   },
   "outputs": [],
   "source": [
    "# unweighted graph as an example\n",
    "graph = {\n",
    "    0:  [(9, )],\n",
    "    1:  [(0, )],\n",
    "    2:  [(3, )],\n",
    "    3:  [(2, ), (4, ), (5, )],\n",
    "    4:  [(3, )],\n",
    "    5:  [(6, ), (3, )],\n",
    "    6:  [(5, )],\n",
    "    7:  [(10,)],\n",
    "    8:  [(1, )],\n",
    "    9:  [(8, )],\n",
    "    10: [(11,)],\n",
    "    11: [(7, )]\n",
    "}"
   ]
  },
  {
   "cell_type": "code",
   "execution_count": 12,
   "id": "063dcf46-be72-4d2a-af4f-0ef210ba414f",
   "metadata": {
    "tags": []
   },
   "outputs": [],
   "source": [
    "# mundane Queue class with enqueue and dequeue\n",
    "class Queue:\n",
    "    def __init__(self):\n",
    "        self.items = []\n",
    "\n",
    "    def is_empty(self):\n",
    "        return len(self.items) == 0\n",
    "\n",
    "    def enqueue(self, item):\n",
    "        self.items.append(item)\n",
    "\n",
    "    def dequeue(self):\n",
    "        if self.is_empty():\n",
    "            return print('Queue is empty')\n",
    "        return self.items.pop(0)\n",
    "    \n",
    "    def print_queue(self):\n",
    "        print(self.items)"
   ]
  },
  {
   "cell_type": "code",
   "execution_count": 13,
   "id": "fafd1f41-17cc-46c8-b1e6-7038f46fe30a",
   "metadata": {
    "tags": []
   },
   "outputs": [],
   "source": [
    "def bfs(graph, start = 0, end = 3):\n",
    "    print(f'>>> Searching for a path between nodes {start} and {end} ...\\n')\n",
    "    s = start\n",
    "    e = end\n",
    "    \n",
    "# # # # # # # # # # # # # # # # # # # # # # # # # # # # #\n",
    "\n",
    "    def bfs_solve(graph, start = s):\n",
    "        # queue structure with enqueue and dequeue\n",
    "        q = Queue()  \n",
    "        q.enqueue(s)\n",
    "        visited = visited = [False for i in range(len(graph.keys()))]\n",
    "        visited[s] = True\n",
    "    \n",
    "        prev_node = [None for i in range(len(graph.keys()))]\n",
    "        while not q.is_empty(): \n",
    "            node = q.dequeue()\n",
    "\n",
    "            # reach in graph and get the neighbours of the node\n",
    "            neighbours = graph[node]\n",
    "        \n",
    "            for next_ in neighbours:\n",
    "                if not visited[next_[0]]:\n",
    "                    q.enqueue(next_[0])\n",
    "                    visited[next_[0]] = True\n",
    "                    prev_node[next_[0]] = node\n",
    "            \n",
    "        return prev_node\n",
    "    \n",
    "# # # # # # # # # # # # # # # # # # # # # # # # # # # # #\n",
    "\n",
    "    def reconstructPath(prev_node, start = s, end = e):\n",
    "        path = []\n",
    "        at = end\n",
    "        \n",
    "        while at != None:\n",
    "            path.append(at)\n",
    "            print(f'Traced through node {at}')     \n",
    "            at = prev_node[at] \n",
    "        print('Tracing complete')\n",
    "        \n",
    "        path.reverse()\n",
    "        \n",
    "        if path[0] == start:\n",
    "            return print(f\"\\n>>> Found path: {' => '.join(map(str,path))}\")\n",
    "        return print(f'\\n>>> Nodes {start} and {end} are disjointed!')\n",
    "    \n",
    "# # # # # # # # # # # # # # # # # # # # # # # # # # # # #\n",
    "    \n",
    "    # Do BFS on 'graph' starting at node 'start'\n",
    "    prev_node = bfs_solve(graph)\n",
    "    \n",
    "    # Return reconstructed path from 'start' -> 'end'\n",
    "    return reconstructPath(prev_node)"
   ]
  },
  {
   "cell_type": "code",
   "execution_count": 73,
   "id": "d5376f6b-7254-4cfc-acfa-4fe4dfbcdbe9",
   "metadata": {
    "tags": []
   },
   "outputs": [
    {
     "name": "stdout",
     "output_type": "stream",
     "text": [
      ">>> Searching for a path between nodes 0 and 1 ...\n",
      "\n",
      "Traced through node 1\n",
      "Traced through node 8\n",
      "Traced through node 9\n",
      "Traced through node 0\n",
      "Tracing complete\n",
      "\n",
      ">>> Found path: 0 => 9 => 8 => 1\n"
     ]
    }
   ],
   "source": [
    "bfs(graph,start = 0,\n",
    "          end   = np.random.randint(1, len(graph)))"
   ]
  }
 ],
 "metadata": {
  "kernelspec": {
   "display_name": "Python 3 (ipykernel)",
   "language": "python",
   "name": "python3"
  },
  "language_info": {
   "codemirror_mode": {
    "name": "ipython",
    "version": 3
   },
   "file_extension": ".py",
   "mimetype": "text/x-python",
   "name": "python",
   "nbconvert_exporter": "python",
   "pygments_lexer": "ipython3",
   "version": "3.9.16"
  }
 },
 "nbformat": 4,
 "nbformat_minor": 5
}
