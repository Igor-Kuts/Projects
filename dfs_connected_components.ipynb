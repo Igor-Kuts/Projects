{
 "cells": [
  {
   "cell_type": "markdown",
   "id": "786d19cf-dc86-49a6-8c9f-e8488cb48bed",
   "metadata": {},
   "source": [
    "# DFS for counting Connected Components"
   ]
  },
  {
   "cell_type": "markdown",
   "id": "548edd52-6d42-4156-b525-9478710782cf",
   "metadata": {},
   "source": [
    "The main part of the algorithm is a recursive function called *dfs_cc*, which performs a <u>depth-first search (DFS) traversal of the graph</u> starting from a given node at.   \n",
    "\n",
    "This function first increments the count of nodes in the current component, which is stored in **components_[curr_comp][0]**, and appends the current node at to the list of nodes in the component, which is stored in **components_[curr_comp][1]**. It then marks the current node as visited and explores all its neighboring nodes that have not yet been visited.   \n",
    "\n",
    "For each unvisited neighbor, it recursively calls the *dfs_cc* function, passing in the neighbor node and the components_ dictionary."
   ]
  },
  {
   "cell_type": "code",
   "execution_count": 1,
   "id": "8f91bb14-d616-45f6-997e-2c3ac3c3e797",
   "metadata": {},
   "outputs": [],
   "source": [
    "# Graph as an example\n",
    "\n",
    "graph = {\n",
    "    0:  [(9, )],\n",
    "    1:  [(0, )],\n",
    "    2:  [(3, )],\n",
    "    3:  [(2, ), (4, ), (5, )],\n",
    "    4:  [(3, )],\n",
    "    5:  [(6, ), (3, )],\n",
    "    6:  [(5, )],\n",
    "    7:  [(10,)],\n",
    "    8:  [(1, )],\n",
    "    9:  [(8, )],\n",
    "    10: [(11,)],\n",
    "    11: [(7, )]\n",
    "}"
   ]
  },
  {
   "cell_type": "code",
   "execution_count": 2,
   "id": "e83f86f9-79d7-4559-b8f8-e96943dfe276",
   "metadata": {
    "tags": []
   },
   "outputs": [],
   "source": [
    "# DFS explores the whole graph and returns: \n",
    "#\n",
    "# dict. = keys: component's number\n",
    "#         vals: list: [0 = number of nodes,\n",
    "#                     [1 = list of nodes] ]\n",
    "\n",
    "def count_components(graph):\n",
    "    n = len(graph.keys())\n",
    "    visited = [False for i in range(n)]\n",
    "    \n",
    "    components_ = {}\n",
    "    curr_comp = 0\n",
    "    \n",
    "    def dfs_cc(at, components_):\n",
    "        components_[curr_comp][0] += 1\n",
    "        components_[curr_comp][1].append(at)\n",
    "        visited[at] = True\n",
    "        neighbours = graph[at]\n",
    "        for edge in neighbours:\n",
    "            if not visited[edge[0]]:\n",
    "                dfs_cc(edge[0], components_)\n",
    "    \n",
    "    for i in range(n):\n",
    "        if not visited[i]:\n",
    "            components_[curr_comp] = [0]\n",
    "            components_[curr_comp].append([])\n",
    "            dfs_cc(i, components_)\n",
    "            curr_comp += 1\n",
    "            \n",
    "    return components_"
   ]
  },
  {
   "cell_type": "code",
   "execution_count": 3,
   "id": "bf4ed374-5fd8-4e72-84cf-daedee352847",
   "metadata": {
    "tags": []
   },
   "outputs": [
    {
     "name": "stdout",
     "output_type": "stream",
     "text": [
      "{0: [4, [0, 9, 8, 1]], 1: [5, [2, 3, 4, 5, 6]], 2: [3, [7, 10, 11]]}\n"
     ]
    }
   ],
   "source": [
    "print(count_components(graph))"
   ]
  }
 ],
 "metadata": {
  "kernelspec": {
   "display_name": "Python 3 (ipykernel)",
   "language": "python",
   "name": "python3"
  },
  "language_info": {
   "codemirror_mode": {
    "name": "ipython",
    "version": 3
   },
   "file_extension": ".py",
   "mimetype": "text/x-python",
   "name": "python",
   "nbconvert_exporter": "python",
   "pygments_lexer": "ipython3",
   "version": "3.9.16"
  }
 },
 "nbformat": 4,
 "nbformat_minor": 5
}
